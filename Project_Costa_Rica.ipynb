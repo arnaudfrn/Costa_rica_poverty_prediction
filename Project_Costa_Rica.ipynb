{
 "cells": [
  {
   "cell_type": "markdown",
   "metadata": {},
   "source": [
    "# Costa Rican Household Poverty Level Prediction\n",
    "## Arnaud Fournier and Tristan Mayer \n",
    "\n",
    "#### Many social programs have a hard time making sure the right people are given enough aid. It’s especially tricky when a program focuses on the poorest segment of the population. The world’s poorest typically can’t provide the necessary income and expense records to prove that they qualify.\n",
    "#### In Latin America, one popular method uses an algorithm to verify income qualification. It’s called the Proxy Means Test (or PMT). With PMT, agencies use a model that considers a family’s observable household attributes like the material of their walls and ceiling, or the assets found in the home to classify them and predict their level of need. While this is an improvement, accuracy remains a problem as the region’s population grows and poverty declines.\n",
    "#### The problem we are going to try solving is improving the PMT by building another model based on the analysis of households characteristics. We will implement the different machine learning algorithms we have learned and select the best model according to cross validation performance."
   ]
  },
  {
   "cell_type": "markdown",
   "metadata": {},
   "source": [
    "In this notebook, we will walk through a complete machine learning solution: first perform a thorough Exploratory Data Analysis of the dataset, then work on feature engineering, try out multiple machine learning models, select a model, work to optimize the model, and finally, inspect the outputs of the model and draw conclusions.\n"
   ]
  },
  {
   "cell_type": "markdown",
   "metadata": {},
   "source": [
    "### Problem and Data Explanation\n",
    "The data for this competition is provided in two files: train.csv and test.csv. The training set has 9557 rows and 143 columns while the testing set has 23856 rows and 142 columns. Each row represents one individual and each column is a feature, either unique to the individual, or for the household of the individual. The training set has one additional column, Target, which represents the poverty level on a 1-4 scale and is the label for the competition. A value of 1 is the most extreme poverty."
   ]
  },
  {
   "cell_type": "markdown",
   "metadata": {},
   "source": [
    "### Objective\n",
    "The objective is to predict poverty on a HOUSEHOLD level. We are given data on the individual level with each individual having unique features but also information about their household. In order to create a dataset for the task, we will have to perform some aggregations of the individual data for each household. Moreover, we have to make a prediction for every individual in the test set, but \"ONLY the heads of household are used in scoring\" which means we want to predict poverty on a household basis."
   ]
  },
  {
   "cell_type": "markdown",
   "metadata": {},
   "source": [
    "The Target values represent poverty levels as follows:\n",
    "\n",
    "1 = extreme poverty\n",
    "\n",
    "2 = moderate poverty \n",
    "\n",
    "3 = vulnerable households \n",
    "\n",
    "4 = non vulnerable households\n"
   ]
  },
  {
   "cell_type": "markdown",
   "metadata": {},
   "source": [
    "### Metric\n",
    "Ultimately we want to build a machine learning model that can predict the integer poverty level of a household. Our predictions will be assessed by Cross Validation Accuracy. "
   ]
  }
 ],
 "metadata": {
  "kernelspec": {
   "display_name": "Python 3",
   "language": "python",
   "name": "python3"
  },
  "language_info": {
   "codemirror_mode": {
    "name": "ipython",
    "version": 3
   },
   "file_extension": ".py",
   "mimetype": "text/x-python",
   "name": "python",
   "nbconvert_exporter": "python",
   "pygments_lexer": "ipython3",
   "version": "3.6.8"
  }
 },
 "nbformat": 4,
 "nbformat_minor": 2
}
