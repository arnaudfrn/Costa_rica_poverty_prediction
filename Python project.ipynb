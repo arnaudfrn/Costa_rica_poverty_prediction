{
 "cells": [
  {
   "cell_type": "code",
   "execution_count": 3,
   "metadata": {
    "scrolled": true
   },
   "outputs": [
    {
     "data": {
      "text/html": [
       "<script type=\"text/javascript\">window.PlotlyConfig = {MathJaxConfig: 'local'};</script><script type=\"text/javascript\">if (window.MathJax) {MathJax.Hub.Config({SVG: {font: \"STIX-Web\"}});}</script><script>requirejs.config({paths: { 'plotly': ['https://cdn.plot.ly/plotly-latest.min']},});if(!window._Plotly) {require(['plotly'],function(plotly) {window._Plotly=plotly;});}</script>"
      ],
      "text/vnd.plotly.v1+html": [
       "<script type=\"text/javascript\">window.PlotlyConfig = {MathJaxConfig: 'local'};</script><script type=\"text/javascript\">if (window.MathJax) {MathJax.Hub.Config({SVG: {font: \"STIX-Web\"}});}</script><script>requirejs.config({paths: { 'plotly': ['https://cdn.plot.ly/plotly-latest.min']},});if(!window._Plotly) {require(['plotly'],function(plotly) {window._Plotly=plotly;});}</script>"
      ]
     },
     "metadata": {},
     "output_type": "display_data"
    }
   ],
   "source": [
    "from plotly.offline import init_notebook_mode, iplot\n",
    "import plotly.graph_objs as go\n",
    "import plotly.plotly as py\n",
    "from plotly import tools\n",
    "from datetime import date\n",
    "import pandas as pd\n",
    "import numpy as np \n",
    "import plotly.figure_factory as ff\n",
    "\n",
    "from datetime import date\n",
    "from sklearn.model_selection import train_test_split\n",
    "from sklearn.preprocessing import LabelEncoder\n",
    "import lightgbm as lgb\n",
    "\n",
    "import matplotlib.pyplot as plt\n",
    "import seaborn as sns\n",
    "import random \n",
    "import warnings\n",
    "import operator\n",
    "warnings.filterwarnings(\"ignore\")\n",
    "init_notebook_mode(connected=True)"
   ]
  },
  {
   "cell_type": "code",
   "execution_count": 2,
   "metadata": {},
   "outputs": [],
   "source": [
    "#need to figure out a way to manage missing values"
   ]
  },
  {
   "cell_type": "markdown",
   "metadata": {},
   "source": [
    "## Exploration of the data"
   ]
  },
  {
   "cell_type": "code",
   "execution_count": 180,
   "metadata": {},
   "outputs": [
    {
     "name": "stdout",
     "output_type": "stream",
     "text": [
      "Train Dataset: Rows, Columns:  (9557, 143)\n",
      "Test Dataset: Rows, Columns:  (23856, 142)\n"
     ]
    }
   ],
   "source": [
    "\n",
    "train = pd.read_csv(\"../Costa_rica_poverty_prediction/costa-rican-household-poverty-prediction/train.csv\", nrows = None)\n",
    "test = pd.read_csv(\"../Costa_rica_poverty_prediction/costa-rican-household-poverty-prediction/test.csv\")\n",
    "\n",
    "\n",
    "#how to set wdir ??\n",
    "print (\"Train Dataset: Rows, Columns: \", train.shape)\n",
    "print (\"Test Dataset: Rows, Columns: \", test.shape)\n",
    "#weird that we have bigger test set than train set"
   ]
  },
  {
   "cell_type": "markdown",
   "metadata": {},
   "source": [
    "## Feature engineering"
   ]
  },
  {
   "cell_type": "markdown",
   "metadata": {},
   "source": [
    "Code written by me"
   ]
  },
  {
   "cell_type": "code",
   "execution_count": 156,
   "metadata": {},
   "outputs": [],
   "source": [
    "def feature_creation_function(df):\n",
    "    feats_div = [('children_fraction', 'r4t1', 'r4t3'), \n",
    "                 ('working_man_fraction', 'r4h2', 'r4t3'),\n",
    "                 ('all_man_fraction', 'r4h3', 'r4t3'),\n",
    "                 ('human_density', 'tamviv', 'rooms'),\n",
    "                 ('human_bed_density', 'tamviv', 'bedrooms'),\n",
    "                 ('bed_density', 'bedrooms', 'rooms'),\n",
    "                 ('rent_per_person', 'v2a1', 'r4t3'),\n",
    "                 ('rent_per_room', 'v2a1', 'rooms'),\n",
    "                 ('person_per_room', 'r4t3', 'rooms'),\n",
    "                 ('person_per_room', 'r4t3', 'bedrooms'),\n",
    "                 ('rez_esc_escolari', 'rez_esc', 'escolari'),\n",
    "                 ('rez_esc_r4t1', 'rez_esc', 'r4t1'),\n",
    "                 ('mobile_density', 'qmobilephone', 'r4t3'),\n",
    "                 ('tablet_density', 'v18q1', 'r4t3'),\n",
    "                 ('mobile_adult_density', 'qmobilephone', 'r4t2'),\n",
    "                 ('tablet_adult_density', 'v18q1', 'r4t2'),\n",
    "                 ('male_over_female', 'r4h3', 'r4m3'),\n",
    "                 ('man12plus_over_women12plus', 'r4h2', 'r4m2'),\n",
    "                 ('pesioner_over_working', 'hogar_mayor', 'hogar_adul'),\n",
    "                 ('children_over_working', 'hogar_nin', 'hogar_adul'),\n",
    "                 ('education_fraction', 'escolari', 'age')\n",
    "                 #('', '', ''),\n",
    "                ]\n",
    "    \n",
    "    \n",
    "  \n",
    "    feats_sub = [('people_not_living', 'tamhog', 'tamviv'),\n",
    "                 ('non_bedrooms', 'rooms', 'bedrooms'),\n",
    "                 ('people_not_linving_', 'tamhog', 'r4t3')\n",
    "                 ]\n",
    "\n",
    "    for f_new, f1, f2 in feats_div:\n",
    "        df['fe_' + f_new] = (df[f1] / df[f2]).astype(np.float32)       \n",
    "    for f_new, f1, f2 in feats_sub:\n",
    "        df['fe_' + f_new] = (df[f1] - df[f2]).astype(np.float32)\n",
    "    \n",
    "    "
   ]
  },
  {
   "cell_type": "code",
   "execution_count": 157,
   "metadata": {},
   "outputs": [],
   "source": [
    "#uses do_features\n",
    "\n",
    "def preprocess(df): #reencode idhogar\n",
    "    # encode the idhogar - houshold level identifier\n",
    "    df['idhogar'] = LabelEncoder().fit_transform(df['idhogar'])\n",
    "    # create aggregate features\n",
    "    \n",
    "\n",
    "  "
   ]
  },
  {
   "cell_type": "markdown",
   "metadata": {},
   "source": [
    "### data preprocessing"
   ]
  },
  {
   "cell_type": "code",
   "execution_count": 158,
   "metadata": {},
   "outputs": [],
   "source": [
    "#mapping yes/no to float values\n",
    "def yes_no_issue_solver(df):\n",
    "    df['dependency'] = df['dependency'].replace({\"yes\": 1, \"no\": 0}).astype(np.float64)\n",
    "    df['edjefe'] = df['edjefe'].replace({\"yes\": 1, \"no\": 0}).astype(np.float64)\n",
    "    df['edjefa'] = df['edjefa'].replace({\"yes\": 1, \"no\": 0}).astype(np.float64)\n",
    "    \n"
   ]
  },
  {
   "cell_type": "code",
   "execution_count": 336,
   "metadata": {},
   "outputs": [],
   "source": [
    "def recoding_ordinal(df):  #create ordinal variable instead of OHE   \n",
    "    df['walls'] = np.argmax(np.array(df[['epared1', 'epared2', 'epared3']]), axis = 1) #Get quality indexes\n",
    "    df['roof'] = np.argmax(np.array(df[['etecho1', 'etecho2', 'etecho3']]), axis = 1)\n",
    "    df['floor'] = np.argmax(np.array(df[['eviv1', 'eviv2', 'eviv3']]), axis = 1)\n",
    "    \n",
    "    power =[]\n",
    "    for i, row in df.iterrows():\n",
    "        if row['noelec'] == 1:\n",
    "            power.append(0)\n",
    "        elif row['coopele'] == 1:\n",
    "            power.append(1)\n",
    "        elif row['public'] == 1:\n",
    "            power.append(2)\n",
    "        elif row['planpri'] == 1:\n",
    "            power.append(3)\n",
    "        else:\n",
    "            power.append(np.nan)\n",
    "            \n",
    "    df['power'] = power\n",
    "    df['power-missing'] = df['power'].isnull()  \n",
    "            \n",
    "#column to drop : 'noelec', 'coopele', 'public', 'planpri', 'epared1', 'epared2', 'epared3', 'etecho1', 'etecho2', 'etecho3', 'eviv1', 'eviv2', 'eviv3'            \n",
    "# data = data.drop(columns = ['etecho1', 'etecho2', 'etecho3'])"
   ]
  },
  {
   "cell_type": "code",
   "execution_count": 105,
   "metadata": {},
   "outputs": [],
   "source": [
    "## Feature engineering - Aproach 1 - Handmade features"
   ]
  },
  {
   "cell_type": "code",
   "execution_count": 118,
   "metadata": {},
   "outputs": [],
   "source": [
    "#list(train)"
   ]
  },
  {
   "cell_type": "code",
   "execution_count": 361,
   "metadata": {},
   "outputs": [],
   "source": [
    "def agg_function_household(df): #create a lot of features\n",
    "    \n",
    "    list_aggr_mean = ['rez_esc', 'dis', 'male', 'female', 'estadocivil1', 'estadocivil2', 'estadocivil3', 'estadocivil4', 'estadocivil5', 'estadocivil6', 'estadocivil7', 'parentesco2',\n",
    "             'parentesco3', 'parentesco4', 'parentesco5', 'parentesco6', 'parentesco7', 'parentesco8', 'parentesco9', 'parentesco10', 'parentesco11', 'parentesco12',\n",
    "             'instlevel1', 'instlevel2', 'instlevel3', 'instlevel4', 'instlevel5', 'instlevel6', 'instlevel7', 'instlevel8', 'instlevel9',]\n",
    "\n",
    "    list_other = ['escolari', 'age', 'fe_education_fraction']\n",
    "\n",
    "    df_2 = pd.DataFrame()\n",
    "    \n",
    "    for item in list_aggr_mean:\n",
    "        group_mean = df[item].groupby(df['idhogar']).mean()\n",
    "        new_col = item + '_aggr_MEAN'\n",
    "        df_2[new_col] = group_mean\n",
    "        \n",
    "\n",
    "    for item in list_other:\n",
    "        for function in ['mean','std','min','max','sum']:\n",
    "            group = df[item].groupby(df['idhogar']).agg(function)\n",
    "            new_col = item + '_' + function.upper()\n",
    "            df_2[new_col] = group\n",
    "            \n",
    "            \n",
    "    df_2 = df_2.reset_index()\n",
    "    df = pd.merge(df, df_2, on = 'idhogar')\n",
    "    df.fillna(value=0, inplace=True) #check why we're doing this !\n",
    "    return df\n",
    "   \n"
   ]
  },
  {
   "cell_type": "markdown",
   "metadata": {},
   "source": [
    "We still need geog averages"
   ]
  },
  {
   "cell_type": "markdown",
   "metadata": {},
   "source": [
    "We need data cleaning - missing values mgmt\n",
    "https://www.kaggle.com/skooch/xgboost/comments"
   ]
  },
  {
   "cell_type": "code",
   "execution_count": 362,
   "metadata": {},
   "outputs": [],
   "source": [
    "\n",
    "train = pd.read_csv(\"../Costa_rica_poverty_prediction/costa-rican-household-poverty-prediction/train.csv\", nrows = None)\n",
    "test = pd.read_csv(\"../Costa_rica_poverty_prediction/costa-rican-household-poverty-prediction/test.csv\")\n"
   ]
  },
  {
   "cell_type": "code",
   "execution_count": null,
   "metadata": {},
   "outputs": [],
   "source": []
  },
  {
   "cell_type": "code",
   "execution_count": null,
   "metadata": {},
   "outputs": [],
   "source": []
  },
  {
   "cell_type": "code",
   "execution_count": null,
   "metadata": {},
   "outputs": [],
   "source": []
  },
  {
   "cell_type": "code",
   "execution_count": null,
   "metadata": {},
   "outputs": [],
   "source": []
  },
  {
   "cell_type": "code",
   "execution_count": 339,
   "metadata": {},
   "outputs": [],
   "source": [
    "def clean_column(df):\n",
    "    df.drop(['idhogar','Id', 'tamhog', 'agesq', 'hogar_adul', 'SQBescolari', 'SQBage', 'SQBhogar_total', 'SQBedjefe', 'SQBhogar_nin', 'SQBovercrowding', 'SQBdependency', 'SQBmeaned', 'hhsize', 'female', 'area2'],axis=1, inplace=True)\n",
    "    \n",
    "    "
   ]
  },
  {
   "cell_type": "code",
   "execution_count": null,
   "metadata": {},
   "outputs": [],
   "source": []
  },
  {
   "cell_type": "code",
   "execution_count": null,
   "metadata": {},
   "outputs": [],
   "source": []
  },
  {
   "cell_type": "code",
   "execution_count": 358,
   "metadata": {},
   "outputs": [],
   "source": [
    "for elem in [train, test]:\n",
    "    feature_creation_function(elem)\n",
    "    preprocess(elem) #reencode idhogar\n",
    "    yes_no_issue_solver(elem)\n",
    "    recoding_ordinal(elem)\n",
    "    elem = agg_function_household(elem)\n",
    "    clean_column(elem)"
   ]
  },
  {
   "cell_type": "code",
   "execution_count": 363,
   "metadata": {},
   "outputs": [],
   "source": [
    "#incomprehensible \n",
    "feature_creation_function(train)\n",
    "preprocess(train) #reencode idhogar\n",
    "yes_no_issue_solver(train)\n",
    "recoding_ordinal(train)\n",
    "train = agg_function_household(train)\n",
    "clean_column(train)"
   ]
  },
  {
   "cell_type": "code",
   "execution_count": 368,
   "metadata": {},
   "outputs": [],
   "source": [
    "#list(train)"
   ]
  },
  {
   "cell_type": "code",
   "execution_count": null,
   "metadata": {},
   "outputs": [],
   "source": []
  },
  {
   "cell_type": "code",
   "execution_count": 370,
   "metadata": {},
   "outputs": [],
   "source": [
    "train.corr()['Target'].map(lambda x: abs(x)).sort_values(ascending = False)"
   ]
  },
  {
   "cell_type": "code",
   "execution_count": null,
   "metadata": {},
   "outputs": [],
   "source": []
  },
  {
   "cell_type": "code",
   "execution_count": 372,
   "metadata": {},
   "outputs": [],
   "source": [
    "X = train.query('parentesco1==1')\n",
    "\n",
    "# pull out the target variable\n",
    "y = X['Target'] - 1 # this is done to bing input labels [1,2,3,4] in agreement with lightgbm [0,1,2,3]\n",
    "X = X.drop(['Target'], axis=1)"
   ]
  },
  {
   "cell_type": "markdown",
   "metadata": {},
   "source": [
    "Feature selection"
   ]
  },
  {
   "cell_type": "code",
   "execution_count": 378,
   "metadata": {},
   "outputs": [
    {
     "data": {
      "text/plain": [
       "200"
      ]
     },
     "execution_count": 378,
     "metadata": {},
     "output_type": "execute_result"
    }
   ],
   "source": [
    "len(list(X)) #200 features"
   ]
  },
  {
   "cell_type": "code",
   "execution_count": null,
   "metadata": {},
   "outputs": [],
   "source": []
  },
  {
   "cell_type": "code",
   "execution_count": null,
   "metadata": {},
   "outputs": [],
   "source": []
  }
 ],
 "metadata": {
  "kernelspec": {
   "display_name": "Python 3",
   "language": "python",
   "name": "python3"
  },
  "language_info": {
   "codemirror_mode": {
    "name": "ipython",
    "version": 3
   },
   "file_extension": ".py",
   "mimetype": "text/x-python",
   "name": "python",
   "nbconvert_exporter": "python",
   "pygments_lexer": "ipython3",
   "version": "3.7.1"
  }
 },
 "nbformat": 4,
 "nbformat_minor": 2
}
