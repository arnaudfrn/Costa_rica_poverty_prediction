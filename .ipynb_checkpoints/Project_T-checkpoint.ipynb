{
 "cells": [
  {
   "cell_type": "markdown",
   "metadata": {
    "slideshow": {
     "slide_type": "slide"
    }
   },
   "source": [
    "# Costa Rican Household Poverty Level Prediction\n",
    "## Arnaud Fournier and Tristan Mayer \n",
    "\n",
    "#### Many social programs have a hard time making sure the right people are given enough aid. It’s especially tricky when a program focuses on the poorest segment of the population. The world’s poorest typically can’t provide the necessary income and expense records to prove that they qualify.\n",
    "#### In Latin America, one popular method uses an algorithm to verify income qualification. It’s called the Proxy Means Test (or PMT). With PMT, agencies use a model that considers a family’s observable household attributes like the material of their walls and ceiling, or the assets found in the home to classify them and predict their level of need. While this is an improvement, accuracy remains a problem as the region’s population grows and poverty declines.\n",
    "#### The problem we are going to try solving is improving the PMT by building another model based on the analysis of households characteristics. We will implement the different machine learning algorithms we have learned and select the best model according to cross validation performance."
   ]
  },
  {
   "cell_type": "markdown",
   "metadata": {},
   "source": [
    "In this notebook, we will walk through a complete machine learning solution: \n",
    "- perform a thorough Exploratory Data Analysis of the dataset\n",
    "- work on feature engineering\n",
    "- try out multiple machine learning models \n",
    "- select a model\n",
    "- work to optimize the model\n",
    "- inspect the outputs of the model \n",
    "- draw conclusions.\n"
   ]
  },
  {
   "cell_type": "markdown",
   "metadata": {},
   "source": [
    "### Problem and Data Explanation\n",
    "The data for this competition is provided in two files: train.csv and test.csv. The training set has 9557 rows and 143 columns while the testing set has 23856 rows and 142 columns. Each row represents one individual and each column is a feature, either unique to the individual, or for the household of the individual. The training set has one additional column, Target, which represents the poverty level on a 1-4 scale and is the label for the competition. A value of 1 is the most extreme poverty."
   ]
  },
  {
   "cell_type": "markdown",
   "metadata": {},
   "source": [
    "### Objective\n",
    "The objective is to predict poverty on a HOUSEHOLD level. We are given data on the individual level with each individual having unique features but also information about their household. In order to create a dataset for the task, we will have to perform some aggregations of the individual data for each household. Moreover, we have to make a prediction for every individual in the test set, but \"ONLY the heads of household are used in scoring\" which means we want to predict poverty on a household basis."
   ]
  },
  {
   "cell_type": "markdown",
   "metadata": {},
   "source": [
    "The Target values represent poverty levels as follows:\n",
    "\n",
    "1 = extreme poverty\n",
    "\n",
    "2 = moderate poverty \n",
    "\n",
    "3 = vulnerable households \n",
    "\n",
    "4 = non vulnerable households\n"
   ]
  },
  {
   "cell_type": "markdown",
   "metadata": {},
   "source": [
    "### Metric\n",
    "Ultimately we want to build a machine learning model that can predict the integer poverty level of a household. Our predictions will be assessed by Cross Validation Precision weighted average over the four categories.\n"
   ]
  },
  {
   "cell_type": "markdown",
   "metadata": {},
   "source": [
    "## EDA\n",
    "For the EDA we'll examine any interesting anomalies, trends, correlations, or patterns that can be used for feature engineering and for modeling. We'll make sure to investigate our data both quantitatively (with statistics) and visually (with figures)."
   ]
  },
  {
   "cell_type": "code",
   "execution_count": 1,
   "metadata": {},
   "outputs": [],
   "source": [
    "# Data manipulation\n",
    "import pandas as pd\n",
    "import numpy as np"
   ]
  },
  {
   "cell_type": "code",
   "execution_count": 2,
   "metadata": {},
   "outputs": [
    {
     "data": {
      "text/html": [
       "<div>\n",
       "<style scoped>\n",
       "    .dataframe tbody tr th:only-of-type {\n",
       "        vertical-align: middle;\n",
       "    }\n",
       "\n",
       "    .dataframe tbody tr th {\n",
       "        vertical-align: top;\n",
       "    }\n",
       "\n",
       "    .dataframe thead th {\n",
       "        text-align: right;\n",
       "    }\n",
       "</style>\n",
       "<table border=\"1\" class=\"dataframe\">\n",
       "  <thead>\n",
       "    <tr style=\"text-align: right;\">\n",
       "      <th></th>\n",
       "      <th>Id</th>\n",
       "      <th>v2a1</th>\n",
       "      <th>hacdor</th>\n",
       "      <th>rooms</th>\n",
       "      <th>hacapo</th>\n",
       "      <th>v14a</th>\n",
       "      <th>refrig</th>\n",
       "      <th>v18q</th>\n",
       "      <th>v18q1</th>\n",
       "      <th>r4h1</th>\n",
       "      <th>...</th>\n",
       "      <th>SQBescolari</th>\n",
       "      <th>SQBage</th>\n",
       "      <th>SQBhogar_total</th>\n",
       "      <th>SQBedjefe</th>\n",
       "      <th>SQBhogar_nin</th>\n",
       "      <th>SQBovercrowding</th>\n",
       "      <th>SQBdependency</th>\n",
       "      <th>SQBmeaned</th>\n",
       "      <th>agesq</th>\n",
       "      <th>Target</th>\n",
       "    </tr>\n",
       "  </thead>\n",
       "  <tbody>\n",
       "    <tr>\n",
       "      <th>0</th>\n",
       "      <td>ID_279628684</td>\n",
       "      <td>190000.0</td>\n",
       "      <td>0</td>\n",
       "      <td>3</td>\n",
       "      <td>0</td>\n",
       "      <td>1</td>\n",
       "      <td>1</td>\n",
       "      <td>0</td>\n",
       "      <td>NaN</td>\n",
       "      <td>0</td>\n",
       "      <td>...</td>\n",
       "      <td>100</td>\n",
       "      <td>1849</td>\n",
       "      <td>1</td>\n",
       "      <td>100</td>\n",
       "      <td>0</td>\n",
       "      <td>1.000000</td>\n",
       "      <td>0.0</td>\n",
       "      <td>100.0</td>\n",
       "      <td>1849</td>\n",
       "      <td>4</td>\n",
       "    </tr>\n",
       "    <tr>\n",
       "      <th>1</th>\n",
       "      <td>ID_f29eb3ddd</td>\n",
       "      <td>135000.0</td>\n",
       "      <td>0</td>\n",
       "      <td>4</td>\n",
       "      <td>0</td>\n",
       "      <td>1</td>\n",
       "      <td>1</td>\n",
       "      <td>1</td>\n",
       "      <td>1.0</td>\n",
       "      <td>0</td>\n",
       "      <td>...</td>\n",
       "      <td>144</td>\n",
       "      <td>4489</td>\n",
       "      <td>1</td>\n",
       "      <td>144</td>\n",
       "      <td>0</td>\n",
       "      <td>1.000000</td>\n",
       "      <td>64.0</td>\n",
       "      <td>144.0</td>\n",
       "      <td>4489</td>\n",
       "      <td>4</td>\n",
       "    </tr>\n",
       "    <tr>\n",
       "      <th>2</th>\n",
       "      <td>ID_68de51c94</td>\n",
       "      <td>NaN</td>\n",
       "      <td>0</td>\n",
       "      <td>8</td>\n",
       "      <td>0</td>\n",
       "      <td>1</td>\n",
       "      <td>1</td>\n",
       "      <td>0</td>\n",
       "      <td>NaN</td>\n",
       "      <td>0</td>\n",
       "      <td>...</td>\n",
       "      <td>121</td>\n",
       "      <td>8464</td>\n",
       "      <td>1</td>\n",
       "      <td>0</td>\n",
       "      <td>0</td>\n",
       "      <td>0.250000</td>\n",
       "      <td>64.0</td>\n",
       "      <td>121.0</td>\n",
       "      <td>8464</td>\n",
       "      <td>4</td>\n",
       "    </tr>\n",
       "    <tr>\n",
       "      <th>3</th>\n",
       "      <td>ID_d671db89c</td>\n",
       "      <td>180000.0</td>\n",
       "      <td>0</td>\n",
       "      <td>5</td>\n",
       "      <td>0</td>\n",
       "      <td>1</td>\n",
       "      <td>1</td>\n",
       "      <td>1</td>\n",
       "      <td>1.0</td>\n",
       "      <td>0</td>\n",
       "      <td>...</td>\n",
       "      <td>81</td>\n",
       "      <td>289</td>\n",
       "      <td>16</td>\n",
       "      <td>121</td>\n",
       "      <td>4</td>\n",
       "      <td>1.777778</td>\n",
       "      <td>1.0</td>\n",
       "      <td>121.0</td>\n",
       "      <td>289</td>\n",
       "      <td>4</td>\n",
       "    </tr>\n",
       "    <tr>\n",
       "      <th>4</th>\n",
       "      <td>ID_d56d6f5f5</td>\n",
       "      <td>180000.0</td>\n",
       "      <td>0</td>\n",
       "      <td>5</td>\n",
       "      <td>0</td>\n",
       "      <td>1</td>\n",
       "      <td>1</td>\n",
       "      <td>1</td>\n",
       "      <td>1.0</td>\n",
       "      <td>0</td>\n",
       "      <td>...</td>\n",
       "      <td>121</td>\n",
       "      <td>1369</td>\n",
       "      <td>16</td>\n",
       "      <td>121</td>\n",
       "      <td>4</td>\n",
       "      <td>1.777778</td>\n",
       "      <td>1.0</td>\n",
       "      <td>121.0</td>\n",
       "      <td>1369</td>\n",
       "      <td>4</td>\n",
       "    </tr>\n",
       "  </tbody>\n",
       "</table>\n",
       "<p>5 rows × 143 columns</p>\n",
       "</div>"
      ],
      "text/plain": [
       "             Id      v2a1  hacdor  rooms  hacapo  v14a  refrig  v18q  v18q1  \\\n",
       "0  ID_279628684  190000.0       0      3       0     1       1     0    NaN   \n",
       "1  ID_f29eb3ddd  135000.0       0      4       0     1       1     1    1.0   \n",
       "2  ID_68de51c94       NaN       0      8       0     1       1     0    NaN   \n",
       "3  ID_d671db89c  180000.0       0      5       0     1       1     1    1.0   \n",
       "4  ID_d56d6f5f5  180000.0       0      5       0     1       1     1    1.0   \n",
       "\n",
       "   r4h1  ...  SQBescolari  SQBage  SQBhogar_total  SQBedjefe  SQBhogar_nin  \\\n",
       "0     0  ...          100    1849               1        100             0   \n",
       "1     0  ...          144    4489               1        144             0   \n",
       "2     0  ...          121    8464               1          0             0   \n",
       "3     0  ...           81     289              16        121             4   \n",
       "4     0  ...          121    1369              16        121             4   \n",
       "\n",
       "   SQBovercrowding  SQBdependency  SQBmeaned  agesq  Target  \n",
       "0         1.000000            0.0      100.0   1849       4  \n",
       "1         1.000000           64.0      144.0   4489       4  \n",
       "2         0.250000           64.0      121.0   8464       4  \n",
       "3         1.777778            1.0      121.0    289       4  \n",
       "4         1.777778            1.0      121.0   1369       4  \n",
       "\n",
       "[5 rows x 143 columns]"
      ]
     },
     "execution_count": 2,
     "metadata": {},
     "output_type": "execute_result"
    }
   ],
   "source": [
    "# Read in data\n",
    "train = pd.read_csv(\"/Users/tristanmayer/Desktop/train.csv\")\n",
    "test = pd.read_csv(\"/Users/tristanmayer/Desktop/test.csv\")\n",
    "train.head()"
   ]
  },
  {
   "cell_type": "code",
   "execution_count": 3,
   "metadata": {},
   "outputs": [
    {
     "name": "stdout",
     "output_type": "stream",
     "text": [
      "<class 'pandas.core.frame.DataFrame'>\n",
      "RangeIndex: 9557 entries, 0 to 9556\n",
      "Columns: 143 entries, Id to Target\n",
      "dtypes: float64(8), int64(130), object(5)\n",
      "memory usage: 10.4+ MB\n"
     ]
    }
   ],
   "source": [
    "train.info()"
   ]
  },
  {
   "cell_type": "markdown",
   "metadata": {},
   "source": [
    "This tells us there are 130 integer columns, 8 float (numeric) columns, and 5 object columns. The integer columns probably represent Boolean variables (that take on either 0 or 1) or ordinal variables with discrete ordered values. The object columns might pose an issue because they cannot be fed directly into a machine learning model."
   ]
  },
  {
   "cell_type": "code",
   "execution_count": 4,
   "metadata": {},
   "outputs": [
    {
     "data": {
      "text/plain": [
       "1       1\n",
       "2     101\n",
       "4       2\n",
       "6       2\n",
       "7       3\n",
       "9       3\n",
       "10      3\n",
       "11      3\n",
       "13      5\n",
       "14      1\n",
       "22      3\n",
       "97      3\n",
       "dtype: int64"
      ]
     },
     "execution_count": 4,
     "metadata": {},
     "output_type": "execute_result"
    }
   ],
   "source": [
    "# Let's have a look at the distribution of unique values in the integer columns (how many colums have n distinct values?)\n",
    "train.select_dtypes(np.int64).nunique().value_counts().sort_index() "
   ]
  },
  {
   "cell_type": "markdown",
   "metadata": {},
   "source": [
    "There are 101 columns with only 2 unique values. It is very likely that those columns are filled with Booleans (0 or 1) and actually corresponds to the decomposition of categorical variables. For example, the columns sanitario1 to sanitario6 corresponds to the type of connection  the toilets (whether it is connected to sewer or cesspool, septic tank, black hole or letrine ...)\n",
    "\n",
    "We can also notice that there is one columns that takes only one value, it will be useless for our analysis."
   ]
  },
  {
   "cell_type": "code",
   "execution_count": 5,
   "metadata": {},
   "outputs": [
    {
     "data": {
      "text/plain": [
       "0"
      ]
     },
     "execution_count": 5,
     "metadata": {},
     "output_type": "execute_result"
    }
   ],
   "source": [
    "train.select_dtypes(np.int64).nunique().loc[lambda x : x==1]\n",
    "train['elimbasu5'].isna().sum()"
   ]
  },
  {
   "cell_type": "markdown",
   "metadata": {},
   "source": [
    "So the columns 'elimbasu5' which corresponds to '=1 if rubbish disposal mainly by throwing in river,  creek or sea\" has only one unique value (0) for all individuals. It is therefore useless for our analysis. We will remove it in the Feature Engineering part."
   ]
  },
  {
   "cell_type": "code",
   "execution_count": 6,
   "metadata": {},
   "outputs": [
    {
     "data": {
      "text/html": [
       "<div>\n",
       "<style scoped>\n",
       "    .dataframe tbody tr th:only-of-type {\n",
       "        vertical-align: middle;\n",
       "    }\n",
       "\n",
       "    .dataframe tbody tr th {\n",
       "        vertical-align: top;\n",
       "    }\n",
       "\n",
       "    .dataframe thead th {\n",
       "        text-align: right;\n",
       "    }\n",
       "</style>\n",
       "<table border=\"1\" class=\"dataframe\">\n",
       "  <thead>\n",
       "    <tr style=\"text-align: right;\">\n",
       "      <th></th>\n",
       "      <th>Id</th>\n",
       "      <th>idhogar</th>\n",
       "      <th>dependency</th>\n",
       "      <th>edjefe</th>\n",
       "      <th>edjefa</th>\n",
       "    </tr>\n",
       "  </thead>\n",
       "  <tbody>\n",
       "    <tr>\n",
       "      <th>0</th>\n",
       "      <td>ID_279628684</td>\n",
       "      <td>21eb7fcc1</td>\n",
       "      <td>no</td>\n",
       "      <td>10</td>\n",
       "      <td>no</td>\n",
       "    </tr>\n",
       "    <tr>\n",
       "      <th>1</th>\n",
       "      <td>ID_f29eb3ddd</td>\n",
       "      <td>0e5d7a658</td>\n",
       "      <td>8</td>\n",
       "      <td>12</td>\n",
       "      <td>no</td>\n",
       "    </tr>\n",
       "    <tr>\n",
       "      <th>2</th>\n",
       "      <td>ID_68de51c94</td>\n",
       "      <td>2c7317ea8</td>\n",
       "      <td>8</td>\n",
       "      <td>no</td>\n",
       "      <td>11</td>\n",
       "    </tr>\n",
       "    <tr>\n",
       "      <th>3</th>\n",
       "      <td>ID_d671db89c</td>\n",
       "      <td>2b58d945f</td>\n",
       "      <td>yes</td>\n",
       "      <td>11</td>\n",
       "      <td>no</td>\n",
       "    </tr>\n",
       "    <tr>\n",
       "      <th>4</th>\n",
       "      <td>ID_d56d6f5f5</td>\n",
       "      <td>2b58d945f</td>\n",
       "      <td>yes</td>\n",
       "      <td>11</td>\n",
       "      <td>no</td>\n",
       "    </tr>\n",
       "  </tbody>\n",
       "</table>\n",
       "</div>"
      ],
      "text/plain": [
       "             Id    idhogar dependency edjefe edjefa\n",
       "0  ID_279628684  21eb7fcc1         no     10     no\n",
       "1  ID_f29eb3ddd  0e5d7a658          8     12     no\n",
       "2  ID_68de51c94  2c7317ea8          8     no     11\n",
       "3  ID_d671db89c  2b58d945f        yes     11     no\n",
       "4  ID_d56d6f5f5  2b58d945f        yes     11     no"
      ]
     },
     "execution_count": 6,
     "metadata": {},
     "output_type": "execute_result"
    }
   ],
   "source": [
    "# Now let's have a look at the 'objects' columns:\n",
    "train.select_dtypes('object').head()"
   ]
  },
  {
   "cell_type": "markdown",
   "metadata": {},
   "source": [
    "Id and idhogar are the way to identify the individuals and the households, we wil re-encode those columns later on for easier analysis.\n",
    "\n",
    "The three other columns are:\n",
    "\n",
    "- dependency: Dependency rate, calculated = (number of members of the household younger than 19 or older than 64)/(number of member of household between 19 and 64)\n",
    "- edjefe: years of education of male head of household, based on the interaction of escolari (years of education), head of household and gender, yes=1 and no=0\n",
    "- edjefa: years of education of female head of household, based on the interaction of escolari (years of education), head of household and gender, yes=1 and no=0\n",
    "\n",
    "For these three variables, \"yes\" = 1 and \"no\" = 0 so we will replace those values in the dataframe in the Feature Engineering section."
   ]
  },
  {
   "cell_type": "markdown",
   "metadata": {},
   "source": [
    "### Data Vizualisation"
   ]
  },
  {
   "cell_type": "code",
   "execution_count": 7,
   "metadata": {},
   "outputs": [],
   "source": [
    "import matplotlib.pyplot as plt\n",
    "import seaborn as sns"
   ]
  },
  {
   "cell_type": "markdown",
   "metadata": {},
   "source": [
    "#### Target variable distribution"
   ]
  },
  {
   "cell_type": "code",
   "execution_count": 8,
   "metadata": {},
   "outputs": [
    {
     "data": {
      "text/plain": [
       "Text(0.5, 1.0, 'Household Poverty Levels')"
      ]
     },
     "execution_count": 8,
     "metadata": {},
     "output_type": "execute_result"
    },
    {
     "data": {
      "image/png": "[encoded data removed]",
      "text/plain": [
       "<Figure size 432x288 with 1 Axes>"
      ]
     },
     "metadata": {
      "needs_background": "light"
     },
     "output_type": "display_data"
    }
   ],
   "source": [
    "sns.countplot(x=\"Target\", data=train).set_title('Household Poverty Levels')"
   ]
  },
  {
   "cell_type": "markdown",
   "metadata": {},
   "source": [
    "#### What do households own?"
   ]
  },
  {
   "cell_type": "code",
   "execution_count": 9,
   "metadata": {
    "scrolled": true
   },
   "outputs": [
    {
     "data": {
      "text/plain": [
       "<matplotlib.legend.Legend at 0x11c805f28>"
      ]
     },
     "execution_count": 9,
     "metadata": {},
     "output_type": "execute_result"
    },
    {
     "data": {
      "image/png": "[encoded data removed]",
      "text/plain": [
       "<Figure size 432x288 with 1 Axes>"
      ]
     },
     "metadata": {
      "needs_background": "light"
     },
     "output_type": "display_data"
    }
   ],
   "source": [
    "sns.countplot(train[\"Target\"] , color=\"skyblue\", label=\"Owner\")\n",
    "sns.countplot(train['Target'][train['v18q']==0] , color=\"red\", label=\"Not Owner\").set_title('Tablet')\n",
    "plt.legend()"
   ]
  },
  {
   "cell_type": "code",
   "execution_count": 10,
   "metadata": {},
   "outputs": [
    {
     "data": {
      "text/plain": [
       "<matplotlib.legend.Legend at 0x11c951c50>"
      ]
     },
     "execution_count": 10,
     "metadata": {},
     "output_type": "execute_result"
    },
    {
     "data": {
      "image/png": "[encoded data removed]",
      "text/plain": [
       "<Figure size 432x288 with 1 Axes>"
      ]
     },
     "metadata": {
      "needs_background": "light"
     },
     "output_type": "display_data"
    }
   ],
   "source": [
    "sns.countplot(train[\"Target\"] , color=\"skyblue\", label=\"Owner\")\n",
    "sns.countplot(train['Target'][train['refrig']==0] , color=\"red\",label=\"Not Owner\").set_title('Refrigirator')\n",
    "plt.legend()"
   ]
  },
  {
   "cell_type": "code",
   "execution_count": 11,
   "metadata": {},
   "outputs": [
    {
     "data": {
      "text/plain": [
       "<matplotlib.legend.Legend at 0x11cadd828>"
      ]
     },
     "execution_count": 11,
     "metadata": {},
     "output_type": "execute_result"
    },
    {
     "data": {
      "image/png": "[encoded data removed]",
      "text/plain": [
       "<Figure size 432x288 with 1 Axes>"
      ]
     },
     "metadata": {
      "needs_background": "light"
     },
     "output_type": "display_data"
    }
   ],
   "source": [
    "sns.countplot(train[\"Target\"] , color=\"skyblue\", label=\"Owner\")\n",
    "sns.countplot(train['Target'][train['computer']==0] , color=\"red\", label=\"Not Owner\").set_title('Computer')\n",
    "plt.legend()"
   ]
  },
  {
   "cell_type": "code",
   "execution_count": 12,
   "metadata": {},
   "outputs": [
    {
     "data": {
      "text/plain": [
       "<matplotlib.legend.Legend at 0x11ca8ca90>"
      ]
     },
     "execution_count": 12,
     "metadata": {},
     "output_type": "execute_result"
    },
    {
     "data": {
      "image/png": "[encoded data removed]",
      "text/plain": [
       "<Figure size 432x288 with 1 Axes>"
      ]
     },
     "metadata": {
      "needs_background": "light"
     },
     "output_type": "display_data"
    }
   ],
   "source": [
    "sns.countplot(train[\"Target\"] , color=\"skyblue\", label=\"Owner\")\n",
    "sns.countplot(train['Target'][train['television']==0] , color=\"red\", label=\"Not Owner\").set_title('Television')\n",
    "plt.legend()"
   ]
  },
  {
   "cell_type": "code",
   "execution_count": 13,
   "metadata": {},
   "outputs": [
    {
     "data": {
      "text/plain": [
       "<matplotlib.legend.Legend at 0x11cb9ac88>"
      ]
     },
     "execution_count": 13,
     "metadata": {},
     "output_type": "execute_result"
    },
    {
     "data": {
      "image/png": "[encoded data removed]",
      "text/plain": [
       "<Figure size 432x288 with 1 Axes>"
      ]
     },
     "metadata": {
      "needs_background": "light"
     },
     "output_type": "display_data"
    }
   ],
   "source": [
    "sns.countplot(train[\"Target\"] , color=\"skyblue\", label=\"Owner\")\n",
    "sns.countplot(train['Target'][train['mobilephone']==0] , color=\"red\",label=\"Not Owner\").set_title('Mobilephone')\n",
    "plt.legend()"
   ]
  },
  {
   "cell_type": "markdown",
   "metadata": {},
   "source": [
    "#### Key Characteristics of the Households"
   ]
  },
  {
   "cell_type": "markdown",
   "metadata": {},
   "source": [
    "For the characteristics of the Households, we are going to have a look at the different set of columns that corresponds to the characteristics of special features of the households. Those features are:\n",
    "- the wall material\n",
    "- the floor material\n",
    "- the roof material\n",
    "- the sanitary conditions\n",
    "- the cooking energy sources\n",
    "- the disposal methods"
   ]
  },
  {
   "cell_type": "code",
   "execution_count": 14,
   "metadata": {},
   "outputs": [],
   "source": [
    "def get_percentage_table(df):\n",
    "    df = df.groupby('Target').sum().reset_index()\n",
    "    df.iloc[:, 1:] = df.iloc[:, 1:].div(df.sum(axis=1), axis=0)*100\n",
    "    df = df.round(2)\n",
    "    return df.head(4)"
   ]
  },
  {
   "cell_type": "code",
   "execution_count": 15,
   "metadata": {},
   "outputs": [
    {
     "data": {
      "text/html": [
       "<div>\n",
       "<style scoped>\n",
       "    .dataframe tbody tr th:only-of-type {\n",
       "        vertical-align: middle;\n",
       "    }\n",
       "\n",
       "    .dataframe tbody tr th {\n",
       "        vertical-align: top;\n",
       "    }\n",
       "\n",
       "    .dataframe thead th {\n",
       "        text-align: right;\n",
       "    }\n",
       "</style>\n",
       "<table border=\"1\" class=\"dataframe\">\n",
       "  <thead>\n",
       "    <tr style=\"text-align: right;\">\n",
       "      <th></th>\n",
       "      <th>Target</th>\n",
       "      <th>Block / Brick</th>\n",
       "      <th>Cement</th>\n",
       "      <th>Wood</th>\n",
       "      <th>Socket</th>\n",
       "      <th>Waste Material</th>\n",
       "      <th>Fibres</th>\n",
       "      <th>Other</th>\n",
       "      <th>Zink</th>\n",
       "    </tr>\n",
       "  </thead>\n",
       "  <tbody>\n",
       "    <tr>\n",
       "      <th>0</th>\n",
       "      <td>1</td>\n",
       "      <td>39.02</td>\n",
       "      <td>24.74</td>\n",
       "      <td>20.37</td>\n",
       "      <td>10.71</td>\n",
       "      <td>1.59</td>\n",
       "      <td>0.26</td>\n",
       "      <td>0.00</td>\n",
       "      <td>3.17</td>\n",
       "    </tr>\n",
       "    <tr>\n",
       "      <th>1</th>\n",
       "      <td>2</td>\n",
       "      <td>38.09</td>\n",
       "      <td>24.52</td>\n",
       "      <td>20.45</td>\n",
       "      <td>11.32</td>\n",
       "      <td>2.63</td>\n",
       "      <td>0.44</td>\n",
       "      <td>0.31</td>\n",
       "      <td>2.13</td>\n",
       "    </tr>\n",
       "    <tr>\n",
       "      <th>2</th>\n",
       "      <td>3</td>\n",
       "      <td>51.16</td>\n",
       "      <td>23.27</td>\n",
       "      <td>14.36</td>\n",
       "      <td>9.74</td>\n",
       "      <td>0.91</td>\n",
       "      <td>0.00</td>\n",
       "      <td>0.00</td>\n",
       "      <td>0.33</td>\n",
       "    </tr>\n",
       "    <tr>\n",
       "      <th>3</th>\n",
       "      <td>4</td>\n",
       "      <td>69.22</td>\n",
       "      <td>15.60</td>\n",
       "      <td>7.50</td>\n",
       "      <td>6.05</td>\n",
       "      <td>0.28</td>\n",
       "      <td>0.08</td>\n",
       "      <td>0.15</td>\n",
       "      <td>1.05</td>\n",
       "    </tr>\n",
       "  </tbody>\n",
       "</table>\n",
       "</div>"
      ],
      "text/plain": [
       "   Target  Block / Brick  Cement   Wood  Socket  Waste Material  Fibres  \\\n",
       "0       1          39.02   24.74  20.37   10.71            1.59    0.26   \n",
       "1       2          38.09   24.52  20.45   11.32            2.63    0.44   \n",
       "2       3          51.16   23.27  14.36    9.74            0.91    0.00   \n",
       "3       4          69.22   15.60   7.50    6.05            0.28    0.08   \n",
       "\n",
       "   Other  Zink  \n",
       "0   0.00  3.17  \n",
       "1   0.31  2.13  \n",
       "2   0.00  0.33  \n",
       "3   0.15  1.05  "
      ]
     },
     "execution_count": 15,
     "metadata": {},
     "output_type": "execute_result"
    }
   ],
   "source": [
    "# Outside Wall Material\n",
    "df1 = train[['Target', 'paredblolad', 'paredpreb', 'paredmad', 'paredzocalo', 'pareddes', 'paredfibras', 'paredother', 'paredzinc']]\n",
    "df1.columns = ['Target',\"Block / Brick\", \"Cement\", \"Wood\",\"Socket\", \"Waste Material\",\"Fibres\", \"Other\", \"Zink\"]\n",
    "get_percentage_table(df1)\n"
   ]
  },
  {
   "cell_type": "code",
   "execution_count": 16,
   "metadata": {},
   "outputs": [
    {
     "data": {
      "text/html": [
       "<div>\n",
       "<style scoped>\n",
       "    .dataframe tbody tr th:only-of-type {\n",
       "        vertical-align: middle;\n",
       "    }\n",
       "\n",
       "    .dataframe tbody tr th {\n",
       "        vertical-align: top;\n",
       "    }\n",
       "\n",
       "    .dataframe thead th {\n",
       "        text-align: right;\n",
       "    }\n",
       "</style>\n",
       "<table border=\"1\" class=\"dataframe\">\n",
       "  <thead>\n",
       "    <tr style=\"text-align: right;\">\n",
       "      <th></th>\n",
       "      <th>Target</th>\n",
       "      <th>Mosaic / Ceramic</th>\n",
       "      <th>Cement</th>\n",
       "      <th>Natural Material</th>\n",
       "      <th>No Floor</th>\n",
       "      <th>Wood</th>\n",
       "      <th>Other</th>\n",
       "    </tr>\n",
       "  </thead>\n",
       "  <tbody>\n",
       "    <tr>\n",
       "      <th>0</th>\n",
       "      <td>1</td>\n",
       "      <td>46.56</td>\n",
       "      <td>37.70</td>\n",
       "      <td>0.13</td>\n",
       "      <td>4.37</td>\n",
       "      <td>11.11</td>\n",
       "      <td>0.00</td>\n",
       "    </tr>\n",
       "    <tr>\n",
       "      <th>1</th>\n",
       "      <td>2</td>\n",
       "      <td>49.34</td>\n",
       "      <td>35.08</td>\n",
       "      <td>0.56</td>\n",
       "      <td>3.88</td>\n",
       "      <td>11.01</td>\n",
       "      <td>0.00</td>\n",
       "    </tr>\n",
       "    <tr>\n",
       "      <th>2</th>\n",
       "      <td>3</td>\n",
       "      <td>60.89</td>\n",
       "      <td>27.56</td>\n",
       "      <td>0.00</td>\n",
       "      <td>1.90</td>\n",
       "      <td>9.41</td>\n",
       "      <td>0.00</td>\n",
       "    </tr>\n",
       "    <tr>\n",
       "      <th>3</th>\n",
       "      <td>4</td>\n",
       "      <td>79.03</td>\n",
       "      <td>15.83</td>\n",
       "      <td>0.00</td>\n",
       "      <td>0.65</td>\n",
       "      <td>4.27</td>\n",
       "      <td>0.15</td>\n",
       "    </tr>\n",
       "  </tbody>\n",
       "</table>\n",
       "</div>"
      ],
      "text/plain": [
       "   Target  Mosaic / Ceramic  Cement  Natural Material  No Floor   Wood  Other\n",
       "0       1             46.56   37.70              0.13      4.37  11.11   0.00\n",
       "1       2             49.34   35.08              0.56      3.88  11.01   0.00\n",
       "2       3             60.89   27.56              0.00      1.90   9.41   0.00\n",
       "3       4             79.03   15.83              0.00      0.65   4.27   0.15"
      ]
     },
     "execution_count": 16,
     "metadata": {},
     "output_type": "execute_result"
    }
   ],
   "source": [
    "# Floor Material\n",
    "df2 = train[['Target' ,'pisomoscer', \"pisocemento\" , \"pisonatur\", \"pisonotiene\", \"pisomadera\", \"pisoother\"]]\n",
    "df2.columns = ['Target', \"Mosaic / Ceramic\", \"Cement\",  \"Natural Material\", \"No Floor\",  \"Wood\",\"Other\"]\n",
    "get_percentage_table(df2)"
   ]
  },
  {
   "cell_type": "code",
   "execution_count": 17,
   "metadata": {},
   "outputs": [
    {
     "data": {
      "text/html": [
       "<div>\n",
       "<style scoped>\n",
       "    .dataframe tbody tr th:only-of-type {\n",
       "        vertical-align: middle;\n",
       "    }\n",
       "\n",
       "    .dataframe tbody tr th {\n",
       "        vertical-align: top;\n",
       "    }\n",
       "\n",
       "    .dataframe thead th {\n",
       "        text-align: right;\n",
       "    }\n",
       "</style>\n",
       "<table border=\"1\" class=\"dataframe\">\n",
       "  <thead>\n",
       "    <tr style=\"text-align: right;\">\n",
       "      <th></th>\n",
       "      <th>Target</th>\n",
       "      <th>Zinc</th>\n",
       "      <th>Fibre / Cement</th>\n",
       "      <th>Natural Fibre</th>\n",
       "      <th>Other</th>\n",
       "    </tr>\n",
       "  </thead>\n",
       "  <tbody>\n",
       "    <tr>\n",
       "      <th>0</th>\n",
       "      <td>1</td>\n",
       "      <td>97.32</td>\n",
       "      <td>1.61</td>\n",
       "      <td>0.94</td>\n",
       "      <td>0.00</td>\n",
       "    </tr>\n",
       "    <tr>\n",
       "      <th>1</th>\n",
       "      <td>2</td>\n",
       "      <td>97.69</td>\n",
       "      <td>1.67</td>\n",
       "      <td>0.51</td>\n",
       "      <td>0.00</td>\n",
       "    </tr>\n",
       "    <tr>\n",
       "      <th>2</th>\n",
       "      <td>3</td>\n",
       "      <td>99.09</td>\n",
       "      <td>0.41</td>\n",
       "      <td>0.25</td>\n",
       "      <td>0.00</td>\n",
       "    </tr>\n",
       "    <tr>\n",
       "      <th>3</th>\n",
       "      <td>4</td>\n",
       "      <td>97.28</td>\n",
       "      <td>2.10</td>\n",
       "      <td>0.20</td>\n",
       "      <td>0.35</td>\n",
       "    </tr>\n",
       "  </tbody>\n",
       "</table>\n",
       "</div>"
      ],
      "text/plain": [
       "   Target   Zinc  Fibre / Cement  Natural Fibre  Other\n",
       "0       1  97.32            1.61           0.94   0.00\n",
       "1       2  97.69            1.67           0.51   0.00\n",
       "2       3  99.09            0.41           0.25   0.00\n",
       "3       4  97.28            2.10           0.20   0.35"
      ]
     },
     "execution_count": 17,
     "metadata": {},
     "output_type": "execute_result"
    }
   ],
   "source": [
    "# Roof Material\n",
    "df3 = train[['Target','techozinc', \"techoentrepiso\", \"techocane\", \"techootro\"]]\n",
    "df3.columns = [\"Target\",\"Zinc\", \"Fibre / Cement\", \"Natural Fibre\", \"Other\"]\n",
    "get_percentage_table(df3)"
   ]
  },
  {
   "cell_type": "code",
   "execution_count": 18,
   "metadata": {},
   "outputs": [
    {
     "data": {
      "text/html": [
       "<div>\n",
       "<style scoped>\n",
       "    .dataframe tbody tr th:only-of-type {\n",
       "        vertical-align: middle;\n",
       "    }\n",
       "\n",
       "    .dataframe tbody tr th {\n",
       "        vertical-align: top;\n",
       "    }\n",
       "\n",
       "    .dataframe thead th {\n",
       "        text-align: right;\n",
       "    }\n",
       "</style>\n",
       "<table border=\"1\" class=\"dataframe\">\n",
       "  <thead>\n",
       "    <tr style=\"text-align: right;\">\n",
       "      <th></th>\n",
       "      <th>Target</th>\n",
       "      <th>No Toilet</th>\n",
       "      <th>Sewer / Cesspool</th>\n",
       "      <th>Septic Tank</th>\n",
       "      <th>Black Hole</th>\n",
       "      <th>Other System</th>\n",
       "    </tr>\n",
       "  </thead>\n",
       "  <tbody>\n",
       "    <tr>\n",
       "      <th>0</th>\n",
       "      <td>1</td>\n",
       "      <td>0.93</td>\n",
       "      <td>16.01</td>\n",
       "      <td>78.17</td>\n",
       "      <td>4.63</td>\n",
       "      <td>0.13</td>\n",
       "    </tr>\n",
       "    <tr>\n",
       "      <th>1</th>\n",
       "      <td>2</td>\n",
       "      <td>0.75</td>\n",
       "      <td>17.39</td>\n",
       "      <td>78.17</td>\n",
       "      <td>2.94</td>\n",
       "      <td>0.63</td>\n",
       "    </tr>\n",
       "    <tr>\n",
       "      <th>2</th>\n",
       "      <td>3</td>\n",
       "      <td>0.74</td>\n",
       "      <td>12.95</td>\n",
       "      <td>83.50</td>\n",
       "      <td>2.56</td>\n",
       "      <td>0.00</td>\n",
       "    </tr>\n",
       "    <tr>\n",
       "      <th>3</th>\n",
       "      <td>4</td>\n",
       "      <td>0.15</td>\n",
       "      <td>24.82</td>\n",
       "      <td>74.18</td>\n",
       "      <td>0.57</td>\n",
       "      <td>0.22</td>\n",
       "    </tr>\n",
       "  </tbody>\n",
       "</table>\n",
       "</div>"
      ],
      "text/plain": [
       "   Target  No Toilet  Sewer / Cesspool  Septic Tank  Black Hole  Other System\n",
       "0       1       0.93             16.01        78.17        4.63          0.13\n",
       "1       2       0.75             17.39        78.17        2.94          0.63\n",
       "2       3       0.74             12.95        83.50        2.56          0.00\n",
       "3       4       0.15             24.82        74.18        0.57          0.22"
      ]
     },
     "execution_count": 18,
     "metadata": {},
     "output_type": "execute_result"
    }
   ],
   "source": [
    "# Sanitary Conditions\n",
    "df4 = train[['Target','sanitario1', \"sanitario2\", \"sanitario3\", \"sanitario5\", \"sanitario6\"]]\n",
    "df4.columns = ['Target', \"No Toilet\", \"Sewer / Cesspool\",  \"Septic Tank\", \"Black Hole\", \"Other System\"]\n",
    "get_percentage_table(df4)"
   ]
  },
  {
   "cell_type": "code",
   "execution_count": 19,
   "metadata": {},
   "outputs": [
    {
     "data": {
      "text/html": [
       "<div>\n",
       "<style scoped>\n",
       "    .dataframe tbody tr th:only-of-type {\n",
       "        vertical-align: middle;\n",
       "    }\n",
       "\n",
       "    .dataframe tbody tr th {\n",
       "        vertical-align: top;\n",
       "    }\n",
       "\n",
       "    .dataframe thead th {\n",
       "        text-align: right;\n",
       "    }\n",
       "</style>\n",
       "<table border=\"1\" class=\"dataframe\">\n",
       "  <thead>\n",
       "    <tr style=\"text-align: right;\">\n",
       "      <th></th>\n",
       "      <th>Target</th>\n",
       "      <th>No Kitchen</th>\n",
       "      <th>Electricity</th>\n",
       "      <th>Cooking Gas</th>\n",
       "      <th>Wood Charcoal</th>\n",
       "    </tr>\n",
       "  </thead>\n",
       "  <tbody>\n",
       "    <tr>\n",
       "      <th>0</th>\n",
       "      <td>1</td>\n",
       "      <td>0.93</td>\n",
       "      <td>32.54</td>\n",
       "      <td>53.44</td>\n",
       "      <td>12.96</td>\n",
       "    </tr>\n",
       "    <tr>\n",
       "      <th>1</th>\n",
       "      <td>2</td>\n",
       "      <td>0.19</td>\n",
       "      <td>38.96</td>\n",
       "      <td>51.28</td>\n",
       "      <td>9.44</td>\n",
       "    </tr>\n",
       "    <tr>\n",
       "      <th>2</th>\n",
       "      <td>3</td>\n",
       "      <td>0.25</td>\n",
       "      <td>43.40</td>\n",
       "      <td>49.50</td>\n",
       "      <td>6.60</td>\n",
       "    </tr>\n",
       "    <tr>\n",
       "      <th>3</th>\n",
       "      <td>4</td>\n",
       "      <td>0.08</td>\n",
       "      <td>54.73</td>\n",
       "      <td>42.62</td>\n",
       "      <td>2.50</td>\n",
       "    </tr>\n",
       "  </tbody>\n",
       "</table>\n",
       "</div>"
      ],
      "text/plain": [
       "   Target  No Kitchen  Electricity  Cooking Gas  Wood Charcoal\n",
       "0       1        0.93        32.54        53.44          12.96\n",
       "1       2        0.19        38.96        51.28           9.44\n",
       "2       3        0.25        43.40        49.50           6.60\n",
       "3       4        0.08        54.73        42.62           2.50"
      ]
     },
     "execution_count": 19,
     "metadata": {},
     "output_type": "execute_result"
    }
   ],
   "source": [
    "# Cooking Energy Source\n",
    "df5 = train[['Target','energcocinar1', \"energcocinar2\", \"energcocinar3\",\"energcocinar4\"]]\n",
    "df5.columns = ['Target', \"No Kitchen\", \"Electricity\", \"Cooking Gas\",\"Wood Charcoal\"]\n",
    "get_percentage_table(df5)"
   ]
  },
  {
   "cell_type": "code",
   "execution_count": 20,
   "metadata": {
    "scrolled": true
   },
   "outputs": [
    {
     "data": {
      "text/html": [
       "<div>\n",
       "<style scoped>\n",
       "    .dataframe tbody tr th:only-of-type {\n",
       "        vertical-align: middle;\n",
       "    }\n",
       "\n",
       "    .dataframe tbody tr th {\n",
       "        vertical-align: top;\n",
       "    }\n",
       "\n",
       "    .dataframe thead th {\n",
       "        text-align: right;\n",
       "    }\n",
       "</style>\n",
       "<table border=\"1\" class=\"dataframe\">\n",
       "  <thead>\n",
       "    <tr style=\"text-align: right;\">\n",
       "      <th></th>\n",
       "      <th>Target</th>\n",
       "      <th>Tanker truck</th>\n",
       "      <th>Buried</th>\n",
       "      <th>Burning</th>\n",
       "      <th>Unoccupied space</th>\n",
       "      <th>Other</th>\n",
       "    </tr>\n",
       "  </thead>\n",
       "  <tbody>\n",
       "    <tr>\n",
       "      <th>0</th>\n",
       "      <td>1</td>\n",
       "      <td>80.03</td>\n",
       "      <td>4.63</td>\n",
       "      <td>15.21</td>\n",
       "      <td>0.00</td>\n",
       "      <td>0.0</td>\n",
       "    </tr>\n",
       "    <tr>\n",
       "      <th>1</th>\n",
       "      <td>2</td>\n",
       "      <td>80.18</td>\n",
       "      <td>5.13</td>\n",
       "      <td>13.88</td>\n",
       "      <td>0.69</td>\n",
       "      <td>0.0</td>\n",
       "    </tr>\n",
       "    <tr>\n",
       "      <th>2</th>\n",
       "      <td>3</td>\n",
       "      <td>83.33</td>\n",
       "      <td>3.55</td>\n",
       "      <td>12.62</td>\n",
       "      <td>0.25</td>\n",
       "      <td>0.0</td>\n",
       "    </tr>\n",
       "    <tr>\n",
       "      <th>3</th>\n",
       "      <td>4</td>\n",
       "      <td>92.32</td>\n",
       "      <td>2.12</td>\n",
       "      <td>5.30</td>\n",
       "      <td>0.00</td>\n",
       "      <td>0.2</td>\n",
       "    </tr>\n",
       "  </tbody>\n",
       "</table>\n",
       "</div>"
      ],
      "text/plain": [
       "   Target  Tanker truck  Buried  Burning  Unoccupied space  Other\n",
       "0       1         80.03    4.63    15.21              0.00    0.0\n",
       "1       2         80.18    5.13    13.88              0.69    0.0\n",
       "2       3         83.33    3.55    12.62              0.25    0.0\n",
       "3       4         92.32    2.12     5.30              0.00    0.2"
      ]
     },
     "execution_count": 20,
     "metadata": {},
     "output_type": "execute_result"
    }
   ],
   "source": [
    "# Disposal Methods\n",
    "df6 = train[['Target', \"elimbasu1\", \"elimbasu2\", \"elimbasu3\", \"elimbasu4\", \"elimbasu6\"]]\n",
    "df6.columns = ['Target', \"Tanker truck\",\"Buried\",\"Burning\",\"Unoccupied space\",\"Other\"]\n",
    "get_percentage_table(df6)"
   ]
  },
  {
   "cell_type": "markdown",
   "metadata": {},
   "source": [
    "Let's take a look at how rooms are distributed by poverty level. Since this is individual level data, not household level, we'll first need to group by the household id 'idhogar', otherwise, we will be double-counting."
   ]
  },
  {
   "cell_type": "code",
   "execution_count": 21,
   "metadata": {},
   "outputs": [
    {
     "data": {
      "text/plain": [
       "Text(0.5, 0, 'Number of rooms')"
      ]
     },
     "execution_count": 21,
     "metadata": {},
     "output_type": "execute_result"
    },
    {
     "data": {
      "image/png": "[encoded data removed]",
      "text/plain": [
       "<Figure size 432x288 with 1 Axes>"
      ]
     },
     "metadata": {
      "needs_background": "light"
     },
     "output_type": "display_data"
    }
   ],
   "source": [
    "sns.countplot(x='rooms', hue='Target', data= train.groupby('idhogar')['Target', 'rooms'].first())\n",
    "plt.title('Distribution of rooms in house by poverty level')\n",
    "plt.xlabel('Number of rooms')"
   ]
  },
  {
   "cell_type": "markdown",
   "metadata": {},
   "source": [
    "#### Monthly Rent Payment"
   ]
  },
  {
   "cell_type": "markdown",
   "metadata": {},
   "source": [
    "Let's look at the feature 'v2a1' or monthly rent payment. How is monthly rent distributed among the four poverty levels? Due to the presence of a possible outlier in in monthly rent payment, the box plots get squeezed. I have plotted them without the outliers."
   ]
  },
  {
   "cell_type": "code",
   "execution_count": 22,
   "metadata": {},
   "outputs": [
    {
     "data": {
      "text/plain": [
       "Text(0, 0.5, 'Monthyl rent payment')"
      ]
     },
     "execution_count": 22,
     "metadata": {},
     "output_type": "execute_result"
    },
    {
     "data": {
      "image/png": "[encoded data removed]",
      "text/plain": [
       "<Figure size 432x288 with 1 Axes>"
      ]
     },
     "metadata": {
      "needs_background": "light"
     },
     "output_type": "display_data"
    }
   ],
   "source": [
    "sns.boxplot(x='Target', y='v2a1', data=train[train.v2a1 < 2000000])\n",
    "plt.title('Distribution of monthly rent payment by poverty level')\n",
    "plt.ylabel('Monthyl rent payment')"
   ]
  },
  {
   "cell_type": "markdown",
   "metadata": {},
   "source": [
    "### Head of Household Variable\n",
    "This is actually the train set we are going to work on which is very similar to the entire dataset."
   ]
  },
  {
   "cell_type": "code",
   "execution_count": 23,
   "metadata": {},
   "outputs": [
    {
     "data": {
      "text/plain": [
       "Text(0.5, 1.0, 'Household Poverty Levels')"
      ]
     },
     "execution_count": 23,
     "metadata": {},
     "output_type": "execute_result"
    },
    {
     "data": {
      "image/png": "[encoded data removed]",
      "text/plain": [
       "<Figure size 432x288 with 1 Axes>"
      ]
     },
     "metadata": {
      "needs_background": "light"
     },
     "output_type": "display_data"
    }
   ],
   "source": [
    "sns.countplot(x=\"Target\", data=train[train.parentesco1== 1]).set_title('Household Poverty Levels')"
   ]
  },
  {
   "cell_type": "markdown",
   "metadata": {},
   "source": [
    "#### Important points to notice from this EDA:\n",
    "- there are a lot of columns and they can be regrouped in different categories\n",
    "- concerning the distributions of the few categories we have ploted or described, we observe relatively intuitive characteristics: poorest households have worse materials for their houses, they own less technological devices, basics needs in terms of infrastructures are rarely met. \n",
    "- the monthly rent payment for the three poorest categories of households are very similar therefore it cannot be a precice indicator of the poverty level although it would have appeared as a good proxi.\n",
    "\n",
    "However, the goal of all this work is to define a classifying algorithm that will set the best thresholds to define if a housholds belong to which of the four poverity level categories, therefore, other more statistically useable characteristics need to be found and a model need to be fitted. This is what we are going to do in the next sections.\n",
    "\n",
    "#### Things to do in the next section (feature engineering):\n",
    "- create categories of features\n",
    "- remove the column 'elimbasu5'\n",
    "- re-encode the columns 'Id' and 'idhogar'\n",
    "- re-encode the columns 'dependency', 'edjefe' and 'edjefa'\n",
    "- fix inconsitencies between variables that are very similar (for example\n",
    "- VERY IMPORTANT: as we are asked to do the analysis on households and not on individuals, the best proxi we are going to use is the head of households (when parentesco1==1). This is what is indicated in the rules of the competition so we will get rid of all rows (individuals) that do not meet this criteria. \n",
    "\n",
    "\n",
    "#### things to take into account for model building:\n",
    "- Oversampling or undersampling of different class to manage imbalances"
   ]
  },
  {
   "cell_type": "markdown",
   "metadata": {},
   "source": [
    "## Feature engineering"
   ]
  },
  {
   "cell_type": "code",
   "execution_count": 24,
   "metadata": {},
   "outputs": [],
   "source": [
    "def feature_creation_function(df):\n",
    "    feats_div = [('children_fraction', 'r4t1', 'r4t3'), \n",
    "                 ('working_man_fraction', 'r4h2', 'r4t3'),\n",
    "                 ('all_man_fraction', 'r4h3', 'r4t3'),\n",
    "                 ('human_density', 'tamviv', 'rooms'),\n",
    "                 ('human_bed_density', 'tamviv', 'bedrooms'),\n",
    "                 ('bed_density', 'bedrooms', 'rooms'),\n",
    "                 ('rent_per_person', 'v2a1', 'r4t3'),\n",
    "                 ('rent_per_room', 'v2a1', 'rooms'),\n",
    "                 ('person_per_room', 'r4t3', 'rooms'),\n",
    "                 ('person_per_room', 'r4t3', 'bedrooms'),\n",
    "                 ('rez_esc_escolari', 'rez_esc', 'escolari'),\n",
    "                 ('rez_esc_r4t1', 'rez_esc', 'r4t1'),\n",
    "                 ('mobile_density', 'qmobilephone', 'r4t3'),\n",
    "                 ('tablet_density', 'v18q1', 'r4t3'),\n",
    "                 ('mobile_adult_density', 'qmobilephone', 'r4t2'),\n",
    "                 ('tablet_adult_density', 'v18q1', 'r4t2'),\n",
    "                 ('male_over_female', 'r4h3', 'r4m3'),\n",
    "                 ('man12plus_over_women12plus', 'r4h2', 'r4m2'),\n",
    "                 ('pesioner_over_working', 'hogar_mayor', 'hogar_adul'),\n",
    "                 ('children_over_working', 'hogar_nin', 'hogar_adul'),\n",
    "                 ('education_fraction', 'escolari', 'age')\n",
    "                 #('', '', ''),\n",
    "                ]\n",
    "    \n",
    "    \n",
    "  \n",
    "    feats_sub = [('people_not_living', 'tamhog', 'tamviv'),\n",
    "                 ('non_bedrooms', 'rooms', 'bedrooms'),\n",
    "                 ('people_not_linving_', 'tamhog', 'r4t3')\n",
    "                 ]\n",
    "\n",
    "    for f_new, f1, f2 in feats_div:\n",
    "        df['fe_' + f_new] = (df[f1] / df[f2]).astype(np.float32).replace(np.inf, 0)       \n",
    "    for f_new, f1, f2 in feats_sub:\n",
    "        df['fe_' + f_new] = (df[f1] - df[f2]).astype(np.float32).replace(np.inf, 0)\n",
    "        \n",
    "    df['edjef'] = np.max(df[['edjefa','edjefe']], axis=1).replace({\"yes\": 1, \"no\": 0}).astype(np.float64)\n",
    "    \n",
    "    \n"
   ]
  },
  {
   "cell_type": "code",
   "execution_count": 25,
   "metadata": {},
   "outputs": [],
   "source": [
    "\n",
    "from sklearn.preprocessing import LabelEncoder\n",
    "\n",
    "def preprocess(df): #reencode idhogar\n",
    "    # encode the idhogar - houshold level identifier\n",
    "    df['idhogar'] = LabelEncoder().fit_transform(df['idhogar'])\n",
    "    "
   ]
  },
  {
   "cell_type": "code",
   "execution_count": 26,
   "metadata": {},
   "outputs": [],
   "source": [
    "def clean_column(df):\n",
    "    #mapping yes/no to float values\n",
    "    df['dependency'] = df['dependency'].replace({\"yes\": 1, \"no\": 0}).astype(np.float64)\n",
    "    df['edjefe'] = df['edjefe'].replace({\"yes\": 1, \"no\": 0}).astype(np.float64)\n",
    "    df['edjefa'] = df['edjefa'].replace({\"yes\": 1, \"no\": 0}).astype(np.float64)\n",
    "    #Some rows indicate that household have and don't have toilets - we fix the inconsistency by setting 0 if they have no water\n",
    "    df.loc[(df.v14a ==  1) & (df.sanitario1 ==  1) & (df.abastaguano == 0), \"v14a\"] = 0\n",
    "    df.loc[(df.v14a ==  1) & (df.sanitario1 ==  1) & (df.abastaguano == 0), \"sanitario1\"] = 0\n",
    "    #'v18q1' only missing when 'v18q' is 0 So will fill with 0 \n",
    "    df['v18q1']=df['v18q1'].fillna(0)\n",
    "    # As discussed in https://www.kaggle.com/c/costa-rican-household-poverty-prediction/discussion/61403#, missing values or rent payment can be interpreted as 0 payment\n",
    "    df['v2a1']=df['v2a1'].fillna(0)\n",
    "    #We are missing most of missing years in school, it seems like this column was not filled in much in the survey, we will drop the column\n",
    "    df['rez_esc']=df['rez_esc'].fillna(0)\n",
    "    #Same goes here, we have only 31 missing values for the whole test set and 0 for the train set. We just impute them with 0 rther than using a more complicated methods for now\n",
    "    df['meaneduc']=df['meaneduc'].fillna(0)\n",
    "    df['SQBmeaned']=df['SQBmeaned'].fillna(0)"
   ]
  },
  {
   "cell_type": "code",
   "execution_count": 27,
   "metadata": {},
   "outputs": [],
   "source": [
    "def recoding_ordinal(df):  #create ordinal variable instead of OHE   \n",
    "    df['walls'] = np.argmax(np.array(df[['epared1', 'epared2', 'epared3']]), axis = 1) #Get quality indexes\n",
    "    df['roof'] = np.argmax(np.array(df[['etecho1', 'etecho2', 'etecho3']]), axis = 1)\n",
    "    df['floor'] = np.argmax(np.array(df[['eviv1', 'eviv2', 'eviv3']]), axis = 1)\n",
    "    df['house_qual']= df['walls'] + df['roof'] + df['floor']\n",
    "    \n",
    "    power =[]\n",
    "    for i, row in df.iterrows():\n",
    "        if row['noelec'] == 1:\n",
    "            power.append(0)\n",
    "        elif row['coopele'] == 1:\n",
    "            power.append(1)\n",
    "        elif row['public'] == 1:\n",
    "            power.append(2)\n",
    "        elif row['planpri'] == 1:\n",
    "            power.append(3)\n",
    "        else:\n",
    "            power.append(np.nan)\n",
    "            \n",
    "    df['power'] = power\n",
    "    df['power-missing'] = df['power'].isnull()  \n",
    "    df['danger'] = 1 * (df['sanitario1'] + (df['power'] == 0) + df['pisonotiene'] + df['abastaguano'] + (df['cielorazo'] == 0))     \n"
   ]
  },
  {
   "cell_type": "code",
   "execution_count": 28,
   "metadata": {},
   "outputs": [],
   "source": [
    "def agg_function_household(df): #create a lot of features\n",
    "    \n",
    "    list_aggr_mean = ['rez_esc', 'dis', 'male', 'female', 'estadocivil1', 'estadocivil2', 'estadocivil3', 'estadocivil4', 'estadocivil5', 'estadocivil6', 'estadocivil7', 'parentesco2',\n",
    "             'parentesco3', 'parentesco4', 'parentesco5', 'parentesco6', 'parentesco7', 'parentesco8', 'parentesco9', 'parentesco10', 'parentesco11', 'parentesco12',\n",
    "             'instlevel1', 'instlevel2', 'instlevel3', 'instlevel4', 'instlevel5', 'instlevel6', 'instlevel7', 'instlevel8', 'instlevel9',]\n",
    "\n",
    "    list_other = ['escolari', 'age', 'fe_education_fraction']\n",
    "\n",
    "    df_2 = pd.DataFrame()\n",
    "    \n",
    "    for item in list_aggr_mean:\n",
    "        group_mean = df[item].groupby(df['idhogar']).mean()\n",
    "        new_col = item + '_aggr_MEAN'\n",
    "        df_2[new_col] = group_mean\n",
    "        \n",
    "\n",
    "    for item in list_other:\n",
    "        for function in ['mean','std','min','max','sum']:\n",
    "            group = df[item].groupby(df['idhogar']).agg(function)\n",
    "            new_col = item + '_' + function.upper()\n",
    "            df_2[new_col] = group\n",
    "            \n",
    "            \n",
    "    df_2 = df_2.reset_index()\n",
    "    df = pd.merge(df, df_2, on = 'idhogar')\n",
    "    df.fillna(value=0, inplace=True) \n",
    "    return df\n",
    "   \n"
   ]
  },
  {
   "cell_type": "markdown",
   "metadata": {},
   "source": [
    "#not working and clearly doesnt make sense to me ...\n",
    "from sklearn.preprocessing import LabelEncoder\n",
    "\n",
    "for elem in [train, test]:\n",
    "    feature_creation_function(elem)\n",
    "    preprocess(elem) #reencode idhogar\n",
    "    clean_column(elem)\n",
    "    recoding_ordinal(elem)\n",
    "    elem = agg_function_household(elem)\n",
    "    clean_column(elem)"
   ]
  },
  {
   "cell_type": "code",
   "execution_count": 29,
   "metadata": {},
   "outputs": [],
   "source": [
    "\n",
    "#Apply to Train\n",
    "preprocess(train)\n",
    "feature_creation_function(train)\n",
    "clean_column(train)\n",
    "recoding_ordinal(train)\n",
    "train = agg_function_household(train)\n",
    "\n",
    "\n",
    "#Apply to test\n",
    "preprocess(test)\n",
    "feature_creation_function(test)\n",
    "clean_column(test)\n",
    "recoding_ordinal(test)\n",
    "test = agg_function_household(test)\n"
   ]
  },
  {
   "cell_type": "markdown",
   "metadata": {},
   "source": [
    "## Feature selection"
   ]
  },
  {
   "cell_type": "code",
   "execution_count": 30,
   "metadata": {},
   "outputs": [
    {
     "data": {
      "text/plain": [
       "Target                       1.000000\n",
       "escolari_MEAN                0.449353\n",
       "escolari_MAX                 0.388633\n",
       "fe_children_over_working     0.376578\n",
       "meaneduc                     0.333932\n",
       "house_qual                   0.329522\n",
       "hogar_nin                    0.328199\n",
       "r4t1                         0.316745\n",
       "SQBhogar_nin                 0.311186\n",
       "danger                       0.310006\n",
       "instlevel8_aggr_MEAN         0.306825\n",
       "walls                        0.306293\n",
       "escolari_MIN                 0.305241\n",
       "cielorazo                    0.304421\n",
       "floor                        0.303165\n",
       "escolari                     0.302305\n",
       "fe_mobile_density            0.301448\n",
       "SQBescolari                  0.296577\n",
       "eviv3                        0.294222\n",
       "epared3                      0.292451\n",
       "fe_children_fraction         0.290035\n",
       "fe_human_bed_density         0.289110\n",
       "overcrowding                 0.289110\n",
       "fe_person_per_room           0.282458\n",
       "pisomoscer                   0.280284\n",
       "instlevel1_aggr_MEAN         0.278413\n",
       "SQBmeaned                    0.276102\n",
       "fe_human_density             0.271117\n",
       "fe_education_fraction_MIN    0.271018\n",
       "escolari_SUM                 0.268812\n",
       "                               ...   \n",
       "parentesco11                 0.019076\n",
       "lugar2                       0.018523\n",
       "parentesco8_aggr_MEAN        0.018350\n",
       "parentesco9_aggr_MEAN        0.018061\n",
       "estadocivil7_aggr_MEAN       0.017219\n",
       "parentesco5                  0.016534\n",
       "instlevel4                   0.014759\n",
       "parentesco12                 0.014421\n",
       "sanitario6                   0.012954\n",
       "parentesco9                  0.012318\n",
       "parentesco10                 0.010990\n",
       "fe_pesioner_over_working     0.010320\n",
       "public                       0.009074\n",
       "parentesco7_aggr_MEAN        0.008787\n",
       "parentesco8                  0.008562\n",
       "tipovivi3                    0.008393\n",
       "tipovivi1                    0.007435\n",
       "parentesco7                  0.006216\n",
       "idhogar                      0.006099\n",
       "instlevel6                   0.006014\n",
       "hogar_mayor                  0.005159\n",
       "estadocivil6_aggr_MEAN       0.004705\n",
       "estadocivil7                 0.004585\n",
       "estadocivil6                 0.003372\n",
       "fe_people_not_linving_       0.002899\n",
       "coopele                      0.002270\n",
       "paredother                   0.000629\n",
       "planpri                      0.000545\n",
       "instlevel6_aggr_MEAN         0.000103\n",
       "elimbasu5                         NaN\n",
       "Name: Target, Length: 219, dtype: float64"
      ]
     },
     "execution_count": 30,
     "metadata": {},
     "output_type": "execute_result"
    }
   ],
   "source": [
    "#Feature correlation with Target ranknig - We see that some feature we have re-ingeneered are working great ! \n",
    "train.corr()['Target'].map(lambda x: abs(x)).sort_values(ascending = False)"
   ]
  },
  {
   "cell_type": "code",
   "execution_count": 31,
   "metadata": {},
   "outputs": [
    {
     "name": "stdout",
     "output_type": "stream",
     "text": [
      "['tamhog', 'hhsize', 'coopele', 'female', 'hogar_total', 'area2', 'SQBage', 'SQBhogar_total', 'agesq', 'fe_human_bed_density', 'fe_person_per_room', 'power', 'male_aggr_MEAN', 'female_aggr_MEAN']\n"
     ]
    }
   ],
   "source": [
    "#To improve our variance estimator, we want to delete highly correlated feature - We choose a 0.95 threshold above wich we delete the feature\n",
    "corr_matrix = train.corr()\n",
    "upper = corr_matrix.where(np.triu(np.ones(corr_matrix.shape), k=1).astype(np.bool))\n",
    "\n",
    "to_drop = [column for column in upper.columns if any(abs(upper[column]) > 0.95)]\n",
    "print(to_drop)"
   ]
  },
  {
   "cell_type": "code",
   "execution_count": 32,
   "metadata": {},
   "outputs": [],
   "source": [
    "def drop_var(df):\n",
    "    df.drop(['tamhog', 'hhsize', 'coopele', 'female', 'hogar_total', 'area2', 'SQBage', 'SQBhogar_total', 'agesq', 'fe_human_bed_density', 'fe_person_per_room', 'power', 'male_aggr_MEAN', 'female_aggr_MEAN'],axis=1, inplace=True)\n",
    "#Column wth more than 0.95% corr to any other column \n",
    "    df.drop(['Id'],axis=1, inplace=True) # column with obj type\n",
    "    df.drop(['elimbasu5','noelec', 'public', 'planpri', 'epared1', 'epared2', 'epared3', 'etecho1', 'etecho2', 'etecho3', 'eviv1', 'eviv2', 'eviv3'],axis=1, inplace=True)\n",
    "#column we have re-ingeneered\n"
   ]
  },
  {
   "cell_type": "code",
   "execution_count": 33,
   "metadata": {},
   "outputs": [],
   "source": [
    "#dropping variables\n",
    "drop_var(train)\n",
    "drop_var(test)"
   ]
  },
  {
   "cell_type": "code",
   "execution_count": 34,
   "metadata": {},
   "outputs": [],
   "source": [
    "X = train.query('parentesco1==1')\n",
    "\n",
    "# pull out the target variable\n",
    "y = X['Target'] - 1 # this is done to bing input labels [1,2,3,4] in agreement with lightgbm [0,1,2,3]\n",
    "X = X.drop(['Target'], axis=1)"
   ]
  },
  {
   "cell_type": "markdown",
   "metadata": {},
   "source": [
    "We also want to get a sense fo the most important feature in the dataset. so we fit a quick and dirty GBM Classifier to get the feature importance - We will use these results in the fonction drop_var to drop variable woth almost 0 importance"
   ]
  },
  {
   "cell_type": "code",
   "execution_count": null,
   "metadata": {},
   "outputs": [],
   "source": [
    "from sklearn.ensemble import GradientBoostingClassifier"
   ]
  },
  {
   "cell_type": "code",
   "execution_count": null,
   "metadata": {},
   "outputs": [],
   "source": [
    "gbm = GradientBoostingClassifier(n_estimators=100).fit(X,y)"
   ]
  },
  {
   "cell_type": "code",
   "execution_count": null,
   "metadata": {},
   "outputs": [],
   "source": [
    "featur_imp = pd.DataFrame({\n",
    "    'importance':gbm.feature_importances_.round(5)\n",
    "}, index=train.loc[:, keep_cols].columns)\n",
    "\n",
    "featur_imp.sort_values('importance', ascending=False, inplace=True)\n",
    "\n",
    "featur_imp.iloc[1:30, ].plot.bar(legend=None, figsize=(17,5));\n",
    "plt.title('Feature Importance');"
   ]
  },
  {
   "cell_type": "markdown",
   "metadata": {},
   "source": [
    "## Model building"
   ]
  },
  {
   "cell_type": "code",
   "execution_count": 43,
   "metadata": {},
   "outputs": [],
   "source": [
    "from sklearn.model_selection import train_test_split\n",
    "from sklearn.model_selection import GridSearchCV\n",
    "from sklearn.metrics import classification_report"
   ]
  },
  {
   "cell_type": "code",
   "execution_count": 44,
   "metadata": {},
   "outputs": [],
   "source": [
    "X_train, X_test, y_train, y_test = train_test_split(X, y, test_size=0.2)"
   ]
  },
  {
   "cell_type": "markdown",
   "metadata": {},
   "source": [
    "### Logistic regression Classifier"
   ]
  },
  {
   "cell_type": "code",
   "execution_count": 49,
   "metadata": {},
   "outputs": [],
   "source": [
    "from sklearn.linear_model import LogisticRegression"
   ]
  },
  {
   "cell_type": "code",
   "execution_count": 71,
   "metadata": {},
   "outputs": [
    {
     "name": "stderr",
     "output_type": "stream",
     "text": [
      "/Users/tristanmayer/anaconda3/lib/python3.6/site-packages/sklearn/utils/optimize.py:203: ConvergenceWarning: newton-cg failed to converge. Increase the number of iterations.\n",
      "  \"number of iterations.\", ConvergenceWarning)\n",
      "/Users/tristanmayer/anaconda3/lib/python3.6/site-packages/scipy/optimize/linesearch.py:462: LineSearchWarning: The line search algorithm did not converge\n",
      "  warn('The line search algorithm did not converge', LineSearchWarning)\n",
      "/Users/tristanmayer/anaconda3/lib/python3.6/site-packages/scipy/optimize/linesearch.py:313: LineSearchWarning: The line search algorithm did not converge\n",
      "  warn('The line search algorithm did not converge', LineSearchWarning)\n",
      "/Users/tristanmayer/anaconda3/lib/python3.6/site-packages/sklearn/utils/optimize.py:203: ConvergenceWarning: newton-cg failed to converge. Increase the number of iterations.\n",
      "  \"number of iterations.\", ConvergenceWarning)\n",
      "/Users/tristanmayer/anaconda3/lib/python3.6/site-packages/scipy/optimize/linesearch.py:462: LineSearchWarning: The line search algorithm did not converge\n",
      "  warn('The line search algorithm did not converge', LineSearchWarning)\n",
      "/Users/tristanmayer/anaconda3/lib/python3.6/site-packages/scipy/optimize/linesearch.py:313: LineSearchWarning: The line search algorithm did not converge\n",
      "  warn('The line search algorithm did not converge', LineSearchWarning)\n",
      "/Users/tristanmayer/anaconda3/lib/python3.6/site-packages/sklearn/utils/optimize.py:203: ConvergenceWarning: newton-cg failed to converge. Increase the number of iterations.\n",
      "  \"number of iterations.\", ConvergenceWarning)\n",
      "/Users/tristanmayer/anaconda3/lib/python3.6/site-packages/sklearn/utils/optimize.py:203: ConvergenceWarning: newton-cg failed to converge. Increase the number of iterations.\n",
      "  \"number of iterations.\", ConvergenceWarning)\n",
      "/Users/tristanmayer/anaconda3/lib/python3.6/site-packages/scipy/optimize/linesearch.py:462: LineSearchWarning: The line search algorithm did not converge\n",
      "  warn('The line search algorithm did not converge', LineSearchWarning)\n",
      "/Users/tristanmayer/anaconda3/lib/python3.6/site-packages/scipy/optimize/linesearch.py:313: LineSearchWarning: The line search algorithm did not converge\n",
      "  warn('The line search algorithm did not converge', LineSearchWarning)\n",
      "/Users/tristanmayer/anaconda3/lib/python3.6/site-packages/sklearn/utils/optimize.py:203: ConvergenceWarning: newton-cg failed to converge. Increase the number of iterations.\n",
      "  \"number of iterations.\", ConvergenceWarning)\n",
      "/Users/tristanmayer/anaconda3/lib/python3.6/site-packages/sklearn/utils/optimize.py:203: ConvergenceWarning: newton-cg failed to converge. Increase the number of iterations.\n",
      "  \"number of iterations.\", ConvergenceWarning)\n",
      "/Users/tristanmayer/anaconda3/lib/python3.6/site-packages/sklearn/utils/optimize.py:203: ConvergenceWarning: newton-cg failed to converge. Increase the number of iterations.\n",
      "  \"number of iterations.\", ConvergenceWarning)\n",
      "/Users/tristanmayer/anaconda3/lib/python3.6/site-packages/sklearn/utils/optimize.py:203: ConvergenceWarning: newton-cg failed to converge. Increase the number of iterations.\n",
      "  \"number of iterations.\", ConvergenceWarning)\n",
      "/Users/tristanmayer/anaconda3/lib/python3.6/site-packages/sklearn/utils/optimize.py:203: ConvergenceWarning: newton-cg failed to converge. Increase the number of iterations.\n",
      "  \"number of iterations.\", ConvergenceWarning)\n",
      "/Users/tristanmayer/anaconda3/lib/python3.6/site-packages/sklearn/utils/optimize.py:203: ConvergenceWarning: newton-cg failed to converge. Increase the number of iterations.\n",
      "  \"number of iterations.\", ConvergenceWarning)\n",
      "/Users/tristanmayer/anaconda3/lib/python3.6/site-packages/sklearn/utils/optimize.py:203: ConvergenceWarning: newton-cg failed to converge. Increase the number of iterations.\n",
      "  \"number of iterations.\", ConvergenceWarning)\n",
      "/Users/tristanmayer/anaconda3/lib/python3.6/site-packages/sklearn/utils/optimize.py:203: ConvergenceWarning: newton-cg failed to converge. Increase the number of iterations.\n",
      "  \"number of iterations.\", ConvergenceWarning)\n",
      "/Users/tristanmayer/anaconda3/lib/python3.6/site-packages/sklearn/utils/optimize.py:203: ConvergenceWarning: newton-cg failed to converge. Increase the number of iterations.\n",
      "  \"number of iterations.\", ConvergenceWarning)\n",
      "/Users/tristanmayer/anaconda3/lib/python3.6/site-packages/sklearn/utils/optimize.py:203: ConvergenceWarning: newton-cg failed to converge. Increase the number of iterations.\n",
      "  \"number of iterations.\", ConvergenceWarning)\n",
      "/Users/tristanmayer/anaconda3/lib/python3.6/site-packages/sklearn/utils/optimize.py:203: ConvergenceWarning: newton-cg failed to converge. Increase the number of iterations.\n",
      "  \"number of iterations.\", ConvergenceWarning)\n",
      "/Users/tristanmayer/anaconda3/lib/python3.6/site-packages/sklearn/utils/optimize.py:203: ConvergenceWarning: newton-cg failed to converge. Increase the number of iterations.\n",
      "  \"number of iterations.\", ConvergenceWarning)\n",
      "/Users/tristanmayer/anaconda3/lib/python3.6/site-packages/sklearn/utils/optimize.py:203: ConvergenceWarning: newton-cg failed to converge. Increase the number of iterations.\n",
      "  \"number of iterations.\", ConvergenceWarning)\n",
      "/Users/tristanmayer/anaconda3/lib/python3.6/site-packages/sklearn/utils/optimize.py:203: ConvergenceWarning: newton-cg failed to converge. Increase the number of iterations.\n",
      "  \"number of iterations.\", ConvergenceWarning)\n",
      "/Users/tristanmayer/anaconda3/lib/python3.6/site-packages/sklearn/utils/optimize.py:203: ConvergenceWarning: newton-cg failed to converge. Increase the number of iterations.\n",
      "  \"number of iterations.\", ConvergenceWarning)\n",
      "/Users/tristanmayer/anaconda3/lib/python3.6/site-packages/sklearn/utils/optimize.py:203: ConvergenceWarning: newton-cg failed to converge. Increase the number of iterations.\n",
      "  \"number of iterations.\", ConvergenceWarning)\n",
      "/Users/tristanmayer/anaconda3/lib/python3.6/site-packages/sklearn/utils/optimize.py:203: ConvergenceWarning: newton-cg failed to converge. Increase the number of iterations.\n",
      "  \"number of iterations.\", ConvergenceWarning)\n",
      "/Users/tristanmayer/anaconda3/lib/python3.6/site-packages/sklearn/utils/optimize.py:203: ConvergenceWarning: newton-cg failed to converge. Increase the number of iterations.\n",
      "  \"number of iterations.\", ConvergenceWarning)\n",
      "/Users/tristanmayer/anaconda3/lib/python3.6/site-packages/sklearn/utils/optimize.py:203: ConvergenceWarning: newton-cg failed to converge. Increase the number of iterations.\n",
      "  \"number of iterations.\", ConvergenceWarning)\n",
      "/Users/tristanmayer/anaconda3/lib/python3.6/site-packages/sklearn/utils/optimize.py:203: ConvergenceWarning: newton-cg failed to converge. Increase the number of iterations.\n",
      "  \"number of iterations.\", ConvergenceWarning)\n",
      "/Users/tristanmayer/anaconda3/lib/python3.6/site-packages/sklearn/utils/optimize.py:203: ConvergenceWarning: newton-cg failed to converge. Increase the number of iterations.\n",
      "  \"number of iterations.\", ConvergenceWarning)\n",
      "/Users/tristanmayer/anaconda3/lib/python3.6/site-packages/sklearn/utils/optimize.py:203: ConvergenceWarning: newton-cg failed to converge. Increase the number of iterations.\n",
      "  \"number of iterations.\", ConvergenceWarning)\n",
      "/Users/tristanmayer/anaconda3/lib/python3.6/site-packages/sklearn/utils/optimize.py:203: ConvergenceWarning: newton-cg failed to converge. Increase the number of iterations.\n",
      "  \"number of iterations.\", ConvergenceWarning)\n",
      "/Users/tristanmayer/anaconda3/lib/python3.6/site-packages/sklearn/utils/optimize.py:203: ConvergenceWarning: newton-cg failed to converge. Increase the number of iterations.\n",
      "  \"number of iterations.\", ConvergenceWarning)\n",
      "/Users/tristanmayer/anaconda3/lib/python3.6/site-packages/sklearn/utils/optimize.py:203: ConvergenceWarning: newton-cg failed to converge. Increase the number of iterations.\n",
      "  \"number of iterations.\", ConvergenceWarning)\n",
      "/Users/tristanmayer/anaconda3/lib/python3.6/site-packages/sklearn/utils/optimize.py:203: ConvergenceWarning: newton-cg failed to converge. Increase the number of iterations.\n",
      "  \"number of iterations.\", ConvergenceWarning)\n",
      "/Users/tristanmayer/anaconda3/lib/python3.6/site-packages/sklearn/utils/optimize.py:203: ConvergenceWarning: newton-cg failed to converge. Increase the number of iterations.\n",
      "  \"number of iterations.\", ConvergenceWarning)\n"
     ]
    },
    {
     "name": "stderr",
     "output_type": "stream",
     "text": [
      "/Users/tristanmayer/anaconda3/lib/python3.6/site-packages/sklearn/utils/optimize.py:203: ConvergenceWarning: newton-cg failed to converge. Increase the number of iterations.\n",
      "  \"number of iterations.\", ConvergenceWarning)\n",
      "/Users/tristanmayer/anaconda3/lib/python3.6/site-packages/sklearn/utils/optimize.py:203: ConvergenceWarning: newton-cg failed to converge. Increase the number of iterations.\n",
      "  \"number of iterations.\", ConvergenceWarning)\n",
      "/Users/tristanmayer/anaconda3/lib/python3.6/site-packages/sklearn/utils/optimize.py:203: ConvergenceWarning: newton-cg failed to converge. Increase the number of iterations.\n",
      "  \"number of iterations.\", ConvergenceWarning)\n",
      "/Users/tristanmayer/anaconda3/lib/python3.6/site-packages/sklearn/utils/optimize.py:203: ConvergenceWarning: newton-cg failed to converge. Increase the number of iterations.\n",
      "  \"number of iterations.\", ConvergenceWarning)\n",
      "/Users/tristanmayer/anaconda3/lib/python3.6/site-packages/scipy/optimize/linesearch.py:462: LineSearchWarning: The line search algorithm did not converge\n",
      "  warn('The line search algorithm did not converge', LineSearchWarning)\n",
      "/Users/tristanmayer/anaconda3/lib/python3.6/site-packages/scipy/optimize/linesearch.py:313: LineSearchWarning: The line search algorithm did not converge\n",
      "  warn('The line search algorithm did not converge', LineSearchWarning)\n",
      "/Users/tristanmayer/anaconda3/lib/python3.6/site-packages/sklearn/utils/optimize.py:203: ConvergenceWarning: newton-cg failed to converge. Increase the number of iterations.\n",
      "  \"number of iterations.\", ConvergenceWarning)\n"
     ]
    },
    {
     "data": {
      "text/plain": [
       "GridSearchCV(cv=5, error_score='raise-deprecating',\n",
       "       estimator=LogisticRegression(C=1.0, class_weight='balanced', dual=False,\n",
       "          fit_intercept=True, intercept_scaling=1, max_iter=100,\n",
       "          multi_class='multinomial', n_jobs=None, penalty='l2',\n",
       "          random_state=0, solver='newton-cg', tol=0.0001, verbose=0,\n",
       "          warm_start=False),\n",
       "       fit_params=None, iid='warn', n_jobs=None,\n",
       "       param_grid={'C': array([1.e-03, 1.e-02, 1.e-01, 1.e+00, 1.e+01, 1.e+02, 1.e+03])},\n",
       "       pre_dispatch='2*n_jobs', refit=True, return_train_score='warn',\n",
       "       scoring=None, verbose=0)"
      ]
     },
     "execution_count": 71,
     "metadata": {},
     "output_type": "execute_result"
    }
   ],
   "source": [
    "lr = LogisticRegression(solver = 'newton-cg', multi_class='multinomial', class_weight='balanced', random_state = 0)\n",
    "p_lr = {\"C\":np.logspace(-3,3,7)}\n",
    "lr_gridsr = GridSearchCV(lr, p_lr, cv=5)\n",
    "lr_gridsr.fit(X_train, y_train)"
   ]
  },
  {
   "cell_type": "code",
   "execution_count": 72,
   "metadata": {},
   "outputs": [],
   "source": [
    "pred_lr = lr_gridsr.predict(X_test)"
   ]
  },
  {
   "cell_type": "code",
   "execution_count": 73,
   "metadata": {},
   "outputs": [
    {
     "name": "stdout",
     "output_type": "stream",
     "text": [
      "              precision    recall  f1-score   support\n",
      "\n",
      "           0       0.18      0.42      0.25        38\n",
      "           1       0.30      0.29      0.29        99\n",
      "           2       0.16      0.30      0.21        66\n",
      "           3       0.88      0.64      0.74       392\n",
      "\n",
      "   micro avg       0.53      0.53      0.53       595\n",
      "   macro avg       0.38      0.41      0.38       595\n",
      "weighted avg       0.66      0.53      0.58       595\n",
      "\n"
     ]
    }
   ],
   "source": [
    "print(classification_report(y_test, pred_lr))"
   ]
  },
  {
   "cell_type": "markdown",
   "metadata": {},
   "source": [
    "#### Results from the logistic regression classifier:\n",
    "\n",
    "We get an average cross validation precision of 0.66 which means that around 66% of the time this model will correctly classify the household in the right poverty level. This is not optimal and other models might achieve a bettre precision. Logistic regression is the most naive model and gives a benchmark of the lowest bound that a model should get. It is a simple and robust model with little to no hyperparameters to tune. \n",
    "\n",
    "In this case, we have tested few different flavors of logistic regression: \n",
    "- Basic Logit\n",
    "- L1 and L2 penalisation\n",
    "- Balanced and unbalanced sample \n",
    "\n",
    "After comparaison of the results we have achived the highest performance with the L2 penalisation for a lambda value of 0.01 and using a balanced dataset\n",
    "We aim to use more complex models and use logistic regression as a baseline for comparation. \n",
    "\n",
    "The model weighted accuracy cross validation score is 0.66 with high variance on different predictions level accuracy.\n",
    "Tested on the kaggle test set we have achived 0.3757"
   ]
  },
  {
   "cell_type": "markdown",
   "metadata": {},
   "source": [
    "### Random forest classifier"
   ]
  },
  {
   "cell_type": "code",
   "execution_count": null,
   "metadata": {},
   "outputs": [],
   "source": [
    "from sklearn.ensemble import RandomForestClassifier"
   ]
  },
  {
   "cell_type": "code",
   "execution_count": null,
   "metadata": {},
   "outputs": [],
   "source": [
    "rf = RandomForestClassifier(class_weight='balanced')\n",
    "p_rf = {'n_estimators': list(range(30,180, 1))}\n",
    "rf_gridsr = GridSearchCV(rf, p, cv=5)\n",
    "rf_gridsr.fit(X_train, y_train)"
   ]
  },
  {
   "cell_type": "code",
   "execution_count": null,
   "metadata": {},
   "outputs": [],
   "source": [
    "pred_rf = rf_gridsr.predict(X_test)"
   ]
  },
  {
   "cell_type": "code",
   "execution_count": null,
   "metadata": {},
   "outputs": [],
   "source": [
    "print(classification_report(y_test, pred_rf))"
   ]
  },
  {
   "cell_type": "markdown",
   "metadata": {},
   "source": [
    "The model has an accuracy of 35.63% on the kaggle hidden test set.\n",
    "The Kaggle baseline of naive Random forest on the dataset without tuning or feature engineering returns an accuracy of 34% so there is an improvement. However, we were expecting better results than the baseline Logit we performed (which had accuracy of 37.5%)\n",
    "\n",
    "\n",
    "\n",
    "\n",
    "The model weighted accuracy cross validation score is °.58\n",
    "Tested on the kaggle test set we have achived 0.3563"
   ]
  },
  {
   "cell_type": "markdown",
   "metadata": {},
   "source": [
    "### Light Gradient Boosting Method"
   ]
  },
  {
   "cell_type": "code",
   "execution_count": null,
   "metadata": {},
   "outputs": [],
   "source": [
    "from scipy.stats import randint as sp_randint\n",
    "from scipy.stats import uniform as sp_uniform\n",
    "\n",
    "import lightgbm as lgb\n",
    "from sklearn.model_selection import RandomizedSearchCV, GridSearchC"
   ]
  },
  {
   "cell_type": "code",
   "execution_count": null,
   "metadata": {},
   "outputs": [],
   "source": [
    "param_test ={'num_leaves': sp_randint(12, 20), \n",
    "             'min_child_samples': sp_randint(40, 100), \n",
    "             'subsample': sp_uniform(loc=0.75, scale=0.25), \n",
    "             'colsample_bytree': sp_uniform(loc=0.8, scale=0.15)\n",
    "            }\n",
    "\n",
    "#This parameter defines the number of HP points to be tested\n",
    "n_HP_points_to_test = 100\n",
    "\n",
    "LGBM_ = lgb.LGBMClassifier(max_depth=-1, learning_rate=0.05, objective='multiclass',\n",
    "                         random_state=314, silent=True, metric='None', \n",
    "                         n_jobs=4, n_estimators=5000, class_weight='balanced')"
   ]
  },
  {
   "cell_type": "code",
   "execution_count": null,
   "metadata": {},
   "outputs": [],
   "source": [
    "\n",
    "\"\"\"\n",
    "Optimal parameters as found by Random search\n",
    "LGBM_ = lgb.LGBMClassifier(max_depth=-1, learning_rate=0.05, objective='multiclass',\n",
    "                         random_state=314, silent=True, metric='None', num_leaves= 31, min_child_samples = 20, subsample= 1.0, colsample_bytree=1.0,\n",
    "                         n_jobs=4, n_estimators=5000, class_weight='balanced')\n",
    "                         \n",
    "                         \"\"\"\n",
    "\n",
    "\n"
   ]
  },
  {
   "cell_type": "code",
   "execution_count": null,
   "metadata": {},
   "outputs": [],
   "source": [
    "RandSr = RandomizedSearchCV(\n",
    "    estimator= LGBM_, param_distributions=param_test, \n",
    "    n_iter= n_HP_points_to_test,\n",
    "    scoring='f1_macro',\n",
    "    cv=5,\n",
    "    refit=True,\n",
    "    random_state=314,\n",
    "    verbose=True)\n",
    "#Why use F1-Macro ?"
   ]
  },
  {
   "cell_type": "code",
   "execution_count": null,
   "metadata": {},
   "outputs": [],
   "source": [
    "fit_LGBM = RandSr.fit(X_train, y_train)"
   ]
  },
  {
   "cell_type": "markdown",
   "metadata": {},
   "source": [
    "The LGBM model usually showcase great performance but need much more careful tuning than random forest models.\n",
    "\n",
    "We have used a randomized search, which has run for 4 hours. The randomized search approach allows for more efficient tuning, requiring less power for computation. Considering the amoung of hyperparameters to tune we had no other choice. We however decided to use a high number of random Hyperparameters points at every fit, which we believe has helped achive a decent accuracy with respect to the model potential.\n",
    "\n",
    "The LGBM has much lower accuracy variance across levels of prediction.\n",
    "The model weighted accuracy cross validation score is 0.60\n",
    "Tested on the kaggle test set we have achived 0.39240 whic ranks us in the top 20% of the competition."
   ]
  },
  {
   "cell_type": "markdown",
   "metadata": {},
   "source": [
    "## Conclusions"
   ]
  },
  {
   "cell_type": "markdown",
   "metadata": {},
   "source": [
    "### On the Data"
   ]
  },
  {
   "cell_type": "markdown",
   "metadata": {},
   "source": [
    "The dataset we were provided with was quite complete (very few missing values) and large but the task that was asked contrained us to not make use of all the observations when fitting our models. Dismissing all the individuals that were not heads of houshold considerably reduced the amount of data points on which we were able to fit the models. \n",
    "We were however able to use household-level aggregates as features in the model (for instance min, max & avg schooling years of household members). \n",
    "\n",
    "As to be expected with survey data, we faced quite a few inconsistencies. Some household were recorded as having and not havong toilets, some household did not have head of households. As describe in this notebook we found ways to make assumptions and go over these problems.\n",
    "\n",
    "One important question to raise as well is how were the different levels of poverty established in the first place? One easy answer when we talk about poverty levels is to think in terms of revenue/wage/salary/$ per day. \n",
    "\n",
    "Lastly, the optimisation metric of our algorithm is currentyl F1-score (hence, enqually weighting accuracy and recall) but after review of financial implication of the new method it may be necessary to take different measures as opportnity cost could be different."
   ]
  },
  {
   "cell_type": "markdown",
   "metadata": {},
   "source": [
    "### On the Model"
   ]
  },
  {
   "cell_type": "markdown",
   "metadata": {},
   "source": []
  },
  {
   "cell_type": "markdown",
   "metadata": {},
   "source": [
    "### Competition"
   ]
  },
  {
   "cell_type": "markdown",
   "metadata": {},
   "source": [
    "using the techniques we highlighted above, we managed to rank as high as 127 and score in the top 20% of the competition on Kaggle."
   ]
  }
 ],
 "metadata": {
  "celltoolbar": "Aucun(e)",
  "kernelspec": {
   "display_name": "Python 3",
   "language": "python",
   "name": "python3"
  },
  "language_info": {
   "codemirror_mode": {
    "name": "ipython",
    "version": 3
   },
   "file_extension": ".py",
   "mimetype": "text/x-python",
   "name": "python",
   "nbconvert_exporter": "python",
   "pygments_lexer": "ipython3",
   "version": "3.7.1"
  }
 },
 "nbformat": 4,
 "nbformat_minor": 2
}
