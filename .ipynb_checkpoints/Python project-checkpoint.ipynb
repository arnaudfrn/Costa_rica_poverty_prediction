{
 "cells": [
  {
   "cell_type": "code",
   "execution_count": 139,
   "metadata": {
    "scrolled": true
   },
   "outputs": [
    {
     "data": {
      "text/html": [
       "<script type=\"text/javascript\">window.PlotlyConfig = {MathJaxConfig: 'local'};</script><script type=\"text/javascript\">if (window.MathJax) {MathJax.Hub.Config({SVG: {font: \"STIX-Web\"}});}</script><script>requirejs.config({paths: { 'plotly': ['https://cdn.plot.ly/plotly-latest.min']},});if(!window._Plotly) {require(['plotly'],function(plotly) {window._Plotly=plotly;});}</script>"
      ],
      "text/vnd.plotly.v1+html": [
       "<script type=\"text/javascript\">window.PlotlyConfig = {MathJaxConfig: 'local'};</script><script type=\"text/javascript\">if (window.MathJax) {MathJax.Hub.Config({SVG: {font: \"STIX-Web\"}});}</script><script>requirejs.config({paths: { 'plotly': ['https://cdn.plot.ly/plotly-latest.min']},});if(!window._Plotly) {require(['plotly'],function(plotly) {window._Plotly=plotly;});}</script>"
      ]
     },
     "metadata": {},
     "output_type": "display_data"
    }
   ],
   "source": [
    "from plotly.offline import init_notebook_mode, iplot\n",
    "import plotly.graph_objs as go\n",
    "import plotly.plotly as py\n",
    "from plotly import tools\n",
    "from datetime import date\n",
    "import pandas as pd\n",
    "import numpy as np \n",
    "import plotly.figure_factory as ff\n",
    "\n",
    "from datetime import date\n",
    "from sklearn.model_selection import train_test_split\n",
    "from sklearn.preprocessing import LabelEncoder\n",
    "import lightgbm as lgb\n",
    "\n",
    "import matplotlib.pyplot as plt\n",
    "import seaborn as sns\n",
    "import random \n",
    "import warnings\n",
    "import operator\n",
    "warnings.filterwarnings(\"ignore\")\n",
    "init_notebook_mode(connected=True)"
   ]
  },
  {
   "cell_type": "markdown",
   "metadata": {},
   "source": [
    "Possible improvement:\n",
    "    - Row imputation with PCA istead of filling with 0 (for 31 values is meaneduc)"
   ]
  },
  {
   "cell_type": "code",
   "execution_count": 2,
   "metadata": {},
   "outputs": [],
   "source": [
    "#need to figure out a way to manage missing values"
   ]
  },
  {
   "cell_type": "markdown",
   "metadata": {},
   "source": [
    "## Exploration of the data"
   ]
  },
  {
   "cell_type": "code",
   "execution_count": 140,
   "metadata": {},
   "outputs": [
    {
     "name": "stdout",
     "output_type": "stream",
     "text": [
      "Train Dataset: Rows, Columns:  (9557, 143)\n",
      "Test Dataset: Rows, Columns:  (23856, 142)\n"
     ]
    }
   ],
   "source": [
    "\n",
    "train = pd.read_csv(\"../Costa_rica_poverty_prediction/costa-rican-household-poverty-prediction/train.csv\", nrows = None)\n",
    "test = pd.read_csv(\"../Costa_rica_poverty_prediction/costa-rican-household-poverty-prediction/test.csv\")\n",
    "\n",
    "\n",
    "#how to set wdir ??\n",
    "print (\"Train Dataset: Rows, Columns: \", train.shape)\n",
    "print (\"Test Dataset: Rows, Columns: \", test.shape)\n",
    "#weird that we have bigger test set than train set"
   ]
  },
  {
   "cell_type": "markdown",
   "metadata": {},
   "source": [
    "## Feature engineering"
   ]
  },
  {
   "cell_type": "markdown",
   "metadata": {},
   "source": [
    "Code written by me"
   ]
  },
  {
   "cell_type": "code",
   "execution_count": 147,
   "metadata": {},
   "outputs": [],
   "source": [
    "def feature_creation_function(df):\n",
    "    feats_div = [('children_fraction', 'r4t1', 'r4t3'), \n",
    "                 ('working_man_fraction', 'r4h2', 'r4t3'),\n",
    "                 ('all_man_fraction', 'r4h3', 'r4t3'),\n",
    "                 ('human_density', 'tamviv', 'rooms'),\n",
    "                 ('human_bed_density', 'tamviv', 'bedrooms'),\n",
    "                 ('bed_density', 'bedrooms', 'rooms'),\n",
    "                 ('rent_per_person', 'v2a1', 'r4t3'),\n",
    "                 ('rent_per_room', 'v2a1', 'rooms'),\n",
    "                 ('person_per_room', 'r4t3', 'rooms'),\n",
    "                 ('person_per_room', 'r4t3', 'bedrooms'),\n",
    "                 ('rez_esc_escolari', 'rez_esc', 'escolari'),\n",
    "                 ('rez_esc_r4t1', 'rez_esc', 'r4t1'),\n",
    "                 ('mobile_density', 'qmobilephone', 'r4t3'),\n",
    "                 ('tablet_density', 'v18q1', 'r4t3'),\n",
    "                 ('mobile_adult_density', 'qmobilephone', 'r4t2'),\n",
    "                 ('tablet_adult_density', 'v18q1', 'r4t2'),\n",
    "                 ('male_over_female', 'r4h3', 'r4m3'),\n",
    "                 ('man12plus_over_women12plus', 'r4h2', 'r4m2'),\n",
    "                 ('pesioner_over_working', 'hogar_mayor', 'hogar_adul'),\n",
    "                 ('children_over_working', 'hogar_nin', 'hogar_adul'),\n",
    "                 ('education_fraction', 'escolari', 'age')\n",
    "                 #('', '', ''),\n",
    "                ]\n",
    "    \n",
    "    \n",
    "  \n",
    "    feats_sub = [('people_not_living', 'tamhog', 'tamviv'),\n",
    "                 ('non_bedrooms', 'rooms', 'bedrooms'),\n",
    "                 ('people_not_linving_', 'tamhog', 'r4t3')\n",
    "                 ]\n",
    "\n",
    "    for f_new, f1, f2 in feats_div:\n",
    "        df['fe_' + f_new] = (df[f1] / df[f2]).astype(np.float32)       \n",
    "    for f_new, f1, f2 in feats_sub:\n",
    "        df['fe_' + f_new] = (df[f1] - df[f2]).astype(np.float32)\n",
    "        \n",
    "    df['edjef'] = np.max(df[['edjefa','edjefe']], axis=1) #creating featur for max of either head of households\n",
    "    \n",
    "\n",
    "\n",
    "    \n",
    "    "
   ]
  },
  {
   "cell_type": "code",
   "execution_count": 88,
   "metadata": {},
   "outputs": [],
   "source": [
    "#uses do_features\n",
    "\n",
    "def preprocess(df): #reencode idhogar\n",
    "    # encode the idhogar - houshold level identifier\n",
    "    df['idhogar'] = LabelEncoder().fit_transform(df['idhogar'])\n",
    "    # create aggregate features\n",
    "    \n",
    "\n",
    "  "
   ]
  },
  {
   "cell_type": "code",
   "execution_count": 144,
   "metadata": {},
   "outputs": [],
   "source": [
    "#mapping yes/no to float values\n",
    "def clean_column(df):\n",
    "    df['dependency'] = df['dependency'].replace({\"yes\": 1, \"no\": 0}).astype(np.float64)\n",
    "    df['edjefe'] = df['edjefe'].replace({\"yes\": 1, \"no\": 0}).astype(np.float64)\n",
    "    df['edjefa'] = df['edjefa'].replace({\"yes\": 1, \"no\": 0}).astype(np.float64)\n",
    "    #Some rows indicate that household have and don't have toilets - we fix the inconsistency by setting 0 if they have no water\n",
    "    df.loc[(df.v14a ==  1) & (df.sanitario1 ==  1) & (df.abastaguano == 0), \"v14a\"] = 0\n",
    "    df.loc[(df.v14a ==  1) & (df.sanitario1 ==  1) & (df.abastaguano == 0), \"sanitario1\"] = 0\n",
    "    #'v18q1' only missing when 'v18q' is 0 So will fill with 0 \n",
    "    df['v18q1']=df['v18q1'].fillna(0)\n",
    "    # As discussed in https://www.kaggle.com/c/costa-rican-household-poverty-prediction/discussion/61403#, missing values or rent payment can be interpreted as 0 payment\n",
    "    df['v2a1']=df['v2a1'].fillna(0)\n",
    "    #We are missing most of missing years in school, it seems like this column was not filled in much in the survey, we will drop the column\n",
    "    df['rez_esc']=df['rez_esc'].fillna(0)\n",
    "    #Same goes here, we have only 31 missing values for the whole test set and 0 for the train set. We just impute them with 0 rther than using a more complicated methods for now\n",
    "    df['meaneduc']=df['meaneduc'].fillna(0)\n",
    "    df['SQBmeaned']=df['SQBmeaned'].fillna(0)\n",
    "    #df.loc[test.meaneduc.isnull(), \"meaneduc\"] = 0\n",
    "    #df.loc[test.SQBmeaned.isnull(), \"SQBmeaned\"] = 0\n",
    "\n",
    "\n",
    "    \n"
   ]
  },
  {
   "cell_type": "code",
   "execution_count": 146,
   "metadata": {},
   "outputs": [],
   "source": [
    "def recoding_ordinal(df):  #create ordinal variable instead of OHE   \n",
    "    df['walls'] = np.argmax(np.array(df[['epared1', 'epared2', 'epared3']]), axis = 1) #Get quality indexes\n",
    "    df['roof'] = np.argmax(np.array(df[['etecho1', 'etecho2', 'etecho3']]), axis = 1)\n",
    "    df['floor'] = np.argmax(np.array(df[['eviv1', 'eviv2', 'eviv3']]), axis = 1)\n",
    "    df['house_qual']= df['walls'] + df['roof'] + df['floor']\n",
    "    \n",
    "    power =[]\n",
    "    for i, row in df.iterrows():\n",
    "        if row['noelec'] == 1:\n",
    "            power.append(0)\n",
    "        elif row['coopele'] == 1:\n",
    "            power.append(1)\n",
    "        elif row['public'] == 1:\n",
    "            power.append(2)\n",
    "        elif row['planpri'] == 1:\n",
    "            power.append(3)\n",
    "        else:\n",
    "            power.append(np.nan)\n",
    "            \n",
    "    df['power'] = power\n",
    "    df['power-missing'] = df['power'].isnull()  \n",
    "    df['danger'] = 1 * (df['sanitario1'] + (df['power'] == 0) + df['pisonotiene'] + df['abastaguano'] + (df['cielorazo'] == 0))     \n",
    "#column to drop : 'noelec', 'coopele', 'public', 'planpri', 'epared1', 'epared2', 'epared3', 'etecho1', 'etecho2', 'etecho3', 'eviv1', 'eviv2', 'eviv3'            \n",
    "# data = data.drop(columns = ['etecho1', 'etecho2', 'etecho3'])"
   ]
  },
  {
   "cell_type": "code",
   "execution_count": 91,
   "metadata": {},
   "outputs": [],
   "source": [
    "def agg_function_household(df): #create a lot of features\n",
    "    \n",
    "    list_aggr_mean = ['rez_esc', 'dis', 'male', 'female', 'estadocivil1', 'estadocivil2', 'estadocivil3', 'estadocivil4', 'estadocivil5', 'estadocivil6', 'estadocivil7', 'parentesco2',\n",
    "             'parentesco3', 'parentesco4', 'parentesco5', 'parentesco6', 'parentesco7', 'parentesco8', 'parentesco9', 'parentesco10', 'parentesco11', 'parentesco12',\n",
    "             'instlevel1', 'instlevel2', 'instlevel3', 'instlevel4', 'instlevel5', 'instlevel6', 'instlevel7', 'instlevel8', 'instlevel9',]\n",
    "\n",
    "    list_other = ['escolari', 'age', 'fe_education_fraction']\n",
    "\n",
    "    df_2 = pd.DataFrame()\n",
    "    \n",
    "    for item in list_aggr_mean:\n",
    "        group_mean = df[item].groupby(df['idhogar']).mean()\n",
    "        new_col = item + '_aggr_MEAN'\n",
    "        df_2[new_col] = group_mean\n",
    "        \n",
    "\n",
    "    for item in list_other:\n",
    "        for function in ['mean','std','min','max','sum']:\n",
    "            group = df[item].groupby(df['idhogar']).agg(function)\n",
    "            new_col = item + '_' + function.upper()\n",
    "            df_2[new_col] = group\n",
    "            \n",
    "            \n",
    "    df_2 = df_2.reset_index()\n",
    "    df = pd.merge(df, df_2, on = 'idhogar')\n",
    "    df.fillna(value=0, inplace=True) #check why we're doing this !\n",
    "    return df\n",
    "   \n"
   ]
  },
  {
   "cell_type": "code",
   "execution_count": 358,
   "metadata": {},
   "outputs": [],
   "source": [
    "#not working and clearly doesnt make sense to me ...\n",
    "for elem in [train, test]:\n",
    "    feature_creation_function(elem)\n",
    "    preprocess(elem) #reencode idhogar\n",
    "    clean_column(elem)\n",
    "    recoding_ordinal(elem)\n",
    "    elem = agg_function_household(elem)\n",
    "    clean_column(elem)"
   ]
  },
  {
   "cell_type": "code",
   "execution_count": 141,
   "metadata": {},
   "outputs": [],
   "source": [
    "#Apply to Train\n",
    "preprocess(train)\n",
    "feature_creation_function(train)\n",
    "clean_column(train)\n",
    "recoding_ordinal(train)\n",
    "train = agg_function_household(train)\n",
    "\n",
    "\n",
    "#Apply to test\n",
    "preprocess(test)\n",
    "feature_creation_function(test)\n",
    "clean_column(test)\n",
    "recoding_ordinal(test)\n",
    "test = agg_function_household(test)\n"
   ]
  },
  {
   "cell_type": "code",
   "execution_count": 8,
   "metadata": {},
   "outputs": [],
   "source": [
    "def clean_column(df):\n",
    "    df.drop(['idhogar','Id', 'tamhog', 'agesq', 'hogar_adul', 'SQBescolari', 'SQBage', 'SQBhogar_total', 'SQBedjefe', 'SQBhogar_nin', 'SQBovercrowding', 'SQBdependency', 'SQBmeaned', 'hhsize', 'female', 'area2'],axis=1, inplace=True)\n",
    "#why these columns ?\n",
    "    "
   ]
  },
  {
   "cell_type": "markdown",
   "metadata": {},
   "source": [
    "We still need geog averages"
   ]
  },
  {
   "cell_type": "markdown",
   "metadata": {},
   "source": [
    "We need data cleaning - missing values mgmt\n",
    "https://www.kaggle.com/skooch/xgboost/comments"
   ]
  },
  {
   "cell_type": "code",
   "execution_count": 25,
   "metadata": {},
   "outputs": [
    {
     "data": {
      "text/plain": [
       "False"
      ]
     },
     "execution_count": 25,
     "metadata": {},
     "output_type": "execute_result"
    }
   ],
   "source": [
    "train['v2a1'].isna().any()"
   ]
  },
  {
   "cell_type": "code",
   "execution_count": 28,
   "metadata": {},
   "outputs": [
    {
     "data": {
      "text/html": [
       "<div>\n",
       "<style scoped>\n",
       "    .dataframe tbody tr th:only-of-type {\n",
       "        vertical-align: middle;\n",
       "    }\n",
       "\n",
       "    .dataframe tbody tr th {\n",
       "        vertical-align: top;\n",
       "    }\n",
       "\n",
       "    .dataframe thead th {\n",
       "        text-align: right;\n",
       "    }\n",
       "</style>\n",
       "<table border=\"1\" class=\"dataframe\">\n",
       "  <thead>\n",
       "    <tr style=\"text-align: right;\">\n",
       "      <th></th>\n",
       "      <th>v2a1</th>\n",
       "      <th>hacdor</th>\n",
       "      <th>rooms</th>\n",
       "      <th>hacapo</th>\n",
       "      <th>v14a</th>\n",
       "      <th>refrig</th>\n",
       "      <th>v18q</th>\n",
       "      <th>v18q1</th>\n",
       "      <th>r4h1</th>\n",
       "      <th>r4h2</th>\n",
       "      <th>...</th>\n",
       "      <th>age_MEAN</th>\n",
       "      <th>age_STD</th>\n",
       "      <th>age_MIN</th>\n",
       "      <th>age_MAX</th>\n",
       "      <th>age_SUM</th>\n",
       "      <th>fe_education_fraction_MEAN</th>\n",
       "      <th>fe_education_fraction_STD</th>\n",
       "      <th>fe_education_fraction_MIN</th>\n",
       "      <th>fe_education_fraction_MAX</th>\n",
       "      <th>fe_education_fraction_SUM</th>\n",
       "    </tr>\n",
       "  </thead>\n",
       "  <tbody>\n",
       "  </tbody>\n",
       "</table>\n",
       "<p>0 rows × 201 columns</p>\n",
       "</div>"
      ],
      "text/plain": [
       "Empty DataFrame\n",
       "Columns: [v2a1, hacdor, rooms, hacapo, v14a, refrig, v18q, v18q1, r4h1, r4h2, r4h3, r4m1, r4m2, r4m3, r4t1, r4t2, r4t3, tamviv, escolari, rez_esc, paredblolad, paredzocalo, paredpreb, pareddes, paredmad, paredzinc, paredfibras, paredother, pisomoscer, pisocemento, pisoother, pisonatur, pisonotiene, pisomadera, techozinc, techoentrepiso, techocane, techootro, cielorazo, abastaguadentro, abastaguafuera, abastaguano, public, planpri, noelec, coopele, sanitario1, sanitario2, sanitario3, sanitario5, sanitario6, energcocinar1, energcocinar2, energcocinar3, energcocinar4, elimbasu1, elimbasu2, elimbasu3, elimbasu4, elimbasu5, elimbasu6, epared1, epared2, epared3, etecho1, etecho2, etecho3, eviv1, eviv2, eviv3, dis, male, estadocivil1, estadocivil2, estadocivil3, estadocivil4, estadocivil5, estadocivil6, estadocivil7, parentesco1, parentesco2, parentesco3, parentesco4, parentesco5, parentesco6, parentesco7, parentesco8, parentesco9, parentesco10, parentesco11, parentesco12, hogar_nin, hogar_mayor, hogar_total, dependency, edjefe, edjefa, meaneduc, instlevel1, instlevel2, ...]\n",
       "Index: []\n",
       "\n",
       "[0 rows x 201 columns]"
      ]
     },
     "execution_count": 28,
     "metadata": {},
     "output_type": "execute_result"
    }
   ],
   "source": [
    "train[train['v2a1'].isna() == True]"
   ]
  },
  {
   "cell_type": "code",
   "execution_count": 33,
   "metadata": {},
   "outputs": [
    {
     "data": {
      "text/plain": [
       "Series([], Name: meaneduc, dtype: float64)"
      ]
     },
     "execution_count": 33,
     "metadata": {},
     "output_type": "execute_result"
    }
   ],
   "source": [
    "train.loc[train.meaneduc.isnull(), \"meaneduc\"]"
   ]
  },
  {
   "cell_type": "code",
   "execution_count": null,
   "metadata": {},
   "outputs": [],
   "source": []
  },
  {
   "cell_type": "code",
   "execution_count": null,
   "metadata": {},
   "outputs": [],
   "source": []
  },
  {
   "cell_type": "code",
   "execution_count": null,
   "metadata": {},
   "outputs": [],
   "source": []
  },
  {
   "cell_type": "code",
   "execution_count": 368,
   "metadata": {},
   "outputs": [],
   "source": [
    "#list(train)"
   ]
  },
  {
   "cell_type": "code",
   "execution_count": 15,
   "metadata": {},
   "outputs": [
    {
     "data": {
      "text/plain": [
       "Index([], dtype='object')"
      ]
     },
     "execution_count": 15,
     "metadata": {},
     "output_type": "execute_result"
    }
   ],
   "source": [
    "#no column with NA\n",
    "train.columns[train.isnull().any() == True]\n",
    "#train.columns[train.isnull().any()]"
   ]
  },
  {
   "cell_type": "code",
   "execution_count": null,
   "metadata": {},
   "outputs": [],
   "source": []
  },
  {
   "cell_type": "code",
   "execution_count": 9,
   "metadata": {},
   "outputs": [],
   "source": [
    "\n",
    "train = pd.read_csv(\"../Costa_rica_poverty_prediction/costa-rican-household-poverty-prediction/train.csv\", nrows = None)\n",
    "test = pd.read_csv(\"../Costa_rica_poverty_prediction/costa-rican-household-poverty-prediction/test.csv\")\n"
   ]
  },
  {
   "cell_type": "code",
   "execution_count": null,
   "metadata": {},
   "outputs": [],
   "source": []
  },
  {
   "cell_type": "code",
   "execution_count": null,
   "metadata": {},
   "outputs": [],
   "source": []
  },
  {
   "cell_type": "code",
   "execution_count": null,
   "metadata": {},
   "outputs": [],
   "source": []
  },
  {
   "cell_type": "code",
   "execution_count": null,
   "metadata": {},
   "outputs": [],
   "source": []
  },
  {
   "cell_type": "code",
   "execution_count": 370,
   "metadata": {},
   "outputs": [],
   "source": [
    "train.corr()['Target'].map(lambda x: abs(x)).sort_values(ascending = False)"
   ]
  },
  {
   "cell_type": "code",
   "execution_count": null,
   "metadata": {},
   "outputs": [],
   "source": []
  },
  {
   "cell_type": "code",
   "execution_count": 372,
   "metadata": {},
   "outputs": [],
   "source": [
    "X = train.query('parentesco1==1')\n",
    "\n",
    "# pull out the target variable\n",
    "y = X['Target'] - 1 # this is done to bing input labels [1,2,3,4] in agreement with lightgbm [0,1,2,3]\n",
    "X = X.drop(['Target'], axis=1)"
   ]
  },
  {
   "cell_type": "markdown",
   "metadata": {},
   "source": [
    "Feature selection"
   ]
  },
  {
   "cell_type": "code",
   "execution_count": 378,
   "metadata": {},
   "outputs": [
    {
     "data": {
      "text/plain": [
       "200"
      ]
     },
     "execution_count": 378,
     "metadata": {},
     "output_type": "execute_result"
    }
   ],
   "source": [
    "len(list(X)) #200 features"
   ]
  },
  {
   "cell_type": "code",
   "execution_count": null,
   "metadata": {},
   "outputs": [],
   "source": []
  },
  {
   "cell_type": "code",
   "execution_count": null,
   "metadata": {},
   "outputs": [],
   "source": []
  }
 ],
 "metadata": {
  "kernelspec": {
   "display_name": "Python 3",
   "language": "python",
   "name": "python3"
  },
  "language_info": {
   "codemirror_mode": {
    "name": "ipython",
    "version": 3
   },
   "file_extension": ".py",
   "mimetype": "text/x-python",
   "name": "python",
   "nbconvert_exporter": "python",
   "pygments_lexer": "ipython3",
   "version": "3.7.1"
  }
 },
 "nbformat": 4,
 "nbformat_minor": 2
}
