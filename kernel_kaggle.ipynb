{
 "cells": [
  {
   "cell_type": "markdown",
   "metadata": {
    "_uuid": "d2b410b808d2bbacc566c1913fd2b29cf9f36901",
    "slideshow": {
     "slide_type": "slide"
    }
   },
   "source": [
    "# Costa Rican Household Poverty Level Prediction\n",
    "## Arnaud Fournier and Tristan Mayer \n",
    "\n",
    "#### Many social programs have a hard time making sure the right people are given enough aid. It’s especially tricky when a program focuses on the poorest segment of the population. The world’s poorest typically can’t provide the necessary income and expense records to prove that they qualify.\n",
    "#### In Latin America, one popular method uses an algorithm to verify income qualification. It’s called the Proxy Means Test (or PMT). With PMT, agencies use a model that considers a family’s observable household attributes like the material of their walls and ceiling, or the assets found in the home to classify them and predict their level of need. While this is an improvement, accuracy remains a problem as the region’s population grows and poverty declines.\n",
    "#### The problem we are going to try solving is improving the PMT by building another model based on the analysis of households characteristics. We will implement the different machine learning algorithms we have learned and select the best model according to cross validation performance."
   ]
  },
  {
   "cell_type": "markdown",
   "metadata": {
    "_uuid": "36c9b8d48613aed95455c843011fc53296ce6b5d"
   },
   "source": [
    "In this notebook, we will walk through a complete machine learning solution: \n",
    "- perform a thorough Exploratory Data Analysis of the dataset\n",
    "- work on feature engineering\n",
    "- try out multiple machine learning models \n",
    "- select a model\n",
    "- work to optimize the model\n",
    "- inspect the outputs of the model \n",
    "- draw conclusions.\n"
   ]
  },
  {
   "cell_type": "markdown",
   "metadata": {
    "_uuid": "edb941440fac50b1df9df27080035b3a3e242451"
   },
   "source": [
    "### Problem and Data Explanation\n",
    "The data for this competition is provided in two files: train.csv and test.csv. The training set has 9557 rows and 143 columns while the testing set has 23856 rows and 142 columns. Each row represents one individual and each column is a feature, either unique to the individual, or for the household of the individual. The training set has one additional column, Target, which represents the poverty level on a 1-4 scale and is the label for the competition. A value of 1 is the most extreme poverty."
   ]
  },
  {
   "cell_type": "markdown",
   "metadata": {
    "_uuid": "cec81caeebf9b48dd2827d0cce81c895dac8b11e"
   },
   "source": [
    "### Objective\n",
    "The objective is to predict poverty on a HOUSEHOLD level. We are given data on the individual level with each individual having unique features but also information about their household. In order to create a dataset for the task, we will have to perform some aggregations of the individual data for each household. Moreover, we have to make a prediction for every individual in the test set, but \"ONLY the heads of household are used in scoring\" which means we want to predict poverty on a household basis."
   ]
  },
  {
   "cell_type": "markdown",
   "metadata": {
    "_uuid": "e96198d3d37e50ec6a356ff50574ffdfbe93266b"
   },
   "source": [
    "The Target values represent poverty levels as follows:\n",
    "\n",
    "1 = extreme poverty\n",
    "\n",
    "2 = moderate poverty \n",
    "\n",
    "3 = vulnerable households \n",
    "\n",
    "4 = non vulnerable households\n"
   ]
  },
  {
   "cell_type": "markdown",
   "metadata": {
    "_uuid": "2df19ba3cc743d7dc16428d0cabfe38037f24fd5"
   },
   "source": [
    "### Metric\n",
    "Ultimately we want to build a machine learning model that can predict the integer poverty level of a household. Our predictions will be assessed by Cross Validation Precision weighted average over the four categories.\n"
   ]
  },
  {
   "cell_type": "markdown",
   "metadata": {
    "_uuid": "8b3cc68c4432a5310fb05dd3bc6b4c4defe3af7d"
   },
   "source": [
    "## EDA\n",
    "For the EDA we'll examine any interesting anomalies, trends, correlations, or patterns that can be used for feature engineering and for modeling. We'll make sure to investigate our data both quantitatively (with statistics) and visually (with figures)."
   ]
  },
  {
   "cell_type": "code",
   "execution_count": 94,
   "metadata": {
    "_uuid": "852f703075ab532a21464c4fe29dc595f59f3ee6"
   },
   "outputs": [],
   "source": [
    "# Data manipulation\n",
    "import pandas as pd\n",
    "import numpy as np"
   ]
  },
  {
   "cell_type": "code",
   "execution_count": 173,
   "metadata": {
    "_uuid": "5c4edc7da40f9f21630447c6be61debb125008fe"
   },
   "outputs": [
    {
     "data": {
      "text/html": [
       "<div>\n",
       "<style scoped>\n",
       "    .dataframe tbody tr th:only-of-type {\n",
       "        vertical-align: middle;\n",
       "    }\n",
       "\n",
       "    .dataframe tbody tr th {\n",
       "        vertical-align: top;\n",
       "    }\n",
       "\n",
       "    .dataframe thead th {\n",
       "        text-align: right;\n",
       "    }\n",
       "</style>\n",
       "<table border=\"1\" class=\"dataframe\">\n",
       "  <thead>\n",
       "    <tr style=\"text-align: right;\">\n",
       "      <th></th>\n",
       "      <th>Id</th>\n",
       "      <th>v2a1</th>\n",
       "      <th>hacdor</th>\n",
       "      <th>rooms</th>\n",
       "      <th>hacapo</th>\n",
       "      <th>v14a</th>\n",
       "      <th>refrig</th>\n",
       "      <th>v18q</th>\n",
       "      <th>v18q1</th>\n",
       "      <th>r4h1</th>\n",
       "      <th>r4h2</th>\n",
       "      <th>r4h3</th>\n",
       "      <th>r4m1</th>\n",
       "      <th>r4m2</th>\n",
       "      <th>r4m3</th>\n",
       "      <th>r4t1</th>\n",
       "      <th>r4t2</th>\n",
       "      <th>r4t3</th>\n",
       "      <th>tamhog</th>\n",
       "      <th>tamviv</th>\n",
       "      <th>escolari</th>\n",
       "      <th>rez_esc</th>\n",
       "      <th>hhsize</th>\n",
       "      <th>paredblolad</th>\n",
       "      <th>paredzocalo</th>\n",
       "      <th>paredpreb</th>\n",
       "      <th>pareddes</th>\n",
       "      <th>paredmad</th>\n",
       "      <th>paredzinc</th>\n",
       "      <th>paredfibras</th>\n",
       "      <th>paredother</th>\n",
       "      <th>pisomoscer</th>\n",
       "      <th>pisocemento</th>\n",
       "      <th>pisoother</th>\n",
       "      <th>pisonatur</th>\n",
       "      <th>pisonotiene</th>\n",
       "      <th>pisomadera</th>\n",
       "      <th>techozinc</th>\n",
       "      <th>techoentrepiso</th>\n",
       "      <th>techocane</th>\n",
       "      <th>...</th>\n",
       "      <th>meaneduc</th>\n",
       "      <th>instlevel1</th>\n",
       "      <th>instlevel2</th>\n",
       "      <th>instlevel3</th>\n",
       "      <th>instlevel4</th>\n",
       "      <th>instlevel5</th>\n",
       "      <th>instlevel6</th>\n",
       "      <th>instlevel7</th>\n",
       "      <th>instlevel8</th>\n",
       "      <th>instlevel9</th>\n",
       "      <th>bedrooms</th>\n",
       "      <th>overcrowding</th>\n",
       "      <th>tipovivi1</th>\n",
       "      <th>tipovivi2</th>\n",
       "      <th>tipovivi3</th>\n",
       "      <th>tipovivi4</th>\n",
       "      <th>tipovivi5</th>\n",
       "      <th>computer</th>\n",
       "      <th>television</th>\n",
       "      <th>mobilephone</th>\n",
       "      <th>qmobilephone</th>\n",
       "      <th>lugar1</th>\n",
       "      <th>lugar2</th>\n",
       "      <th>lugar3</th>\n",
       "      <th>lugar4</th>\n",
       "      <th>lugar5</th>\n",
       "      <th>lugar6</th>\n",
       "      <th>area1</th>\n",
       "      <th>area2</th>\n",
       "      <th>age</th>\n",
       "      <th>SQBescolari</th>\n",
       "      <th>SQBage</th>\n",
       "      <th>SQBhogar_total</th>\n",
       "      <th>SQBedjefe</th>\n",
       "      <th>SQBhogar_nin</th>\n",
       "      <th>SQBovercrowding</th>\n",
       "      <th>SQBdependency</th>\n",
       "      <th>SQBmeaned</th>\n",
       "      <th>agesq</th>\n",
       "      <th>Target</th>\n",
       "    </tr>\n",
       "  </thead>\n",
       "  <tbody>\n",
       "    <tr>\n",
       "      <th>0</th>\n",
       "      <td>ID_279628684</td>\n",
       "      <td>190000.0</td>\n",
       "      <td>0</td>\n",
       "      <td>3</td>\n",
       "      <td>0</td>\n",
       "      <td>1</td>\n",
       "      <td>1</td>\n",
       "      <td>0</td>\n",
       "      <td>NaN</td>\n",
       "      <td>0</td>\n",
       "      <td>1</td>\n",
       "      <td>1</td>\n",
       "      <td>0</td>\n",
       "      <td>0</td>\n",
       "      <td>0</td>\n",
       "      <td>0</td>\n",
       "      <td>1</td>\n",
       "      <td>1</td>\n",
       "      <td>1</td>\n",
       "      <td>1</td>\n",
       "      <td>10</td>\n",
       "      <td>NaN</td>\n",
       "      <td>1</td>\n",
       "      <td>1</td>\n",
       "      <td>0</td>\n",
       "      <td>0</td>\n",
       "      <td>0</td>\n",
       "      <td>0</td>\n",
       "      <td>0</td>\n",
       "      <td>0</td>\n",
       "      <td>0</td>\n",
       "      <td>1</td>\n",
       "      <td>0</td>\n",
       "      <td>0</td>\n",
       "      <td>0</td>\n",
       "      <td>0</td>\n",
       "      <td>0</td>\n",
       "      <td>0</td>\n",
       "      <td>1</td>\n",
       "      <td>0</td>\n",
       "      <td>...</td>\n",
       "      <td>10.0</td>\n",
       "      <td>0</td>\n",
       "      <td>0</td>\n",
       "      <td>0</td>\n",
       "      <td>1</td>\n",
       "      <td>0</td>\n",
       "      <td>0</td>\n",
       "      <td>0</td>\n",
       "      <td>0</td>\n",
       "      <td>0</td>\n",
       "      <td>1</td>\n",
       "      <td>1.000000</td>\n",
       "      <td>0</td>\n",
       "      <td>0</td>\n",
       "      <td>1</td>\n",
       "      <td>0</td>\n",
       "      <td>0</td>\n",
       "      <td>0</td>\n",
       "      <td>0</td>\n",
       "      <td>1</td>\n",
       "      <td>1</td>\n",
       "      <td>1</td>\n",
       "      <td>0</td>\n",
       "      <td>0</td>\n",
       "      <td>0</td>\n",
       "      <td>0</td>\n",
       "      <td>0</td>\n",
       "      <td>1</td>\n",
       "      <td>0</td>\n",
       "      <td>43</td>\n",
       "      <td>100</td>\n",
       "      <td>1849</td>\n",
       "      <td>1</td>\n",
       "      <td>100</td>\n",
       "      <td>0</td>\n",
       "      <td>1.000000</td>\n",
       "      <td>0.0</td>\n",
       "      <td>100.0</td>\n",
       "      <td>1849</td>\n",
       "      <td>4</td>\n",
       "    </tr>\n",
       "    <tr>\n",
       "      <th>1</th>\n",
       "      <td>ID_f29eb3ddd</td>\n",
       "      <td>135000.0</td>\n",
       "      <td>0</td>\n",
       "      <td>4</td>\n",
       "      <td>0</td>\n",
       "      <td>1</td>\n",
       "      <td>1</td>\n",
       "      <td>1</td>\n",
       "      <td>1.0</td>\n",
       "      <td>0</td>\n",
       "      <td>1</td>\n",
       "      <td>1</td>\n",
       "      <td>0</td>\n",
       "      <td>0</td>\n",
       "      <td>0</td>\n",
       "      <td>0</td>\n",
       "      <td>1</td>\n",
       "      <td>1</td>\n",
       "      <td>1</td>\n",
       "      <td>1</td>\n",
       "      <td>12</td>\n",
       "      <td>NaN</td>\n",
       "      <td>1</td>\n",
       "      <td>0</td>\n",
       "      <td>0</td>\n",
       "      <td>0</td>\n",
       "      <td>0</td>\n",
       "      <td>1</td>\n",
       "      <td>0</td>\n",
       "      <td>0</td>\n",
       "      <td>0</td>\n",
       "      <td>0</td>\n",
       "      <td>0</td>\n",
       "      <td>0</td>\n",
       "      <td>0</td>\n",
       "      <td>0</td>\n",
       "      <td>1</td>\n",
       "      <td>1</td>\n",
       "      <td>0</td>\n",
       "      <td>0</td>\n",
       "      <td>...</td>\n",
       "      <td>12.0</td>\n",
       "      <td>0</td>\n",
       "      <td>0</td>\n",
       "      <td>0</td>\n",
       "      <td>0</td>\n",
       "      <td>0</td>\n",
       "      <td>0</td>\n",
       "      <td>0</td>\n",
       "      <td>1</td>\n",
       "      <td>0</td>\n",
       "      <td>1</td>\n",
       "      <td>1.000000</td>\n",
       "      <td>0</td>\n",
       "      <td>0</td>\n",
       "      <td>1</td>\n",
       "      <td>0</td>\n",
       "      <td>0</td>\n",
       "      <td>0</td>\n",
       "      <td>0</td>\n",
       "      <td>1</td>\n",
       "      <td>1</td>\n",
       "      <td>1</td>\n",
       "      <td>0</td>\n",
       "      <td>0</td>\n",
       "      <td>0</td>\n",
       "      <td>0</td>\n",
       "      <td>0</td>\n",
       "      <td>1</td>\n",
       "      <td>0</td>\n",
       "      <td>67</td>\n",
       "      <td>144</td>\n",
       "      <td>4489</td>\n",
       "      <td>1</td>\n",
       "      <td>144</td>\n",
       "      <td>0</td>\n",
       "      <td>1.000000</td>\n",
       "      <td>64.0</td>\n",
       "      <td>144.0</td>\n",
       "      <td>4489</td>\n",
       "      <td>4</td>\n",
       "    </tr>\n",
       "    <tr>\n",
       "      <th>2</th>\n",
       "      <td>ID_68de51c94</td>\n",
       "      <td>NaN</td>\n",
       "      <td>0</td>\n",
       "      <td>8</td>\n",
       "      <td>0</td>\n",
       "      <td>1</td>\n",
       "      <td>1</td>\n",
       "      <td>0</td>\n",
       "      <td>NaN</td>\n",
       "      <td>0</td>\n",
       "      <td>0</td>\n",
       "      <td>0</td>\n",
       "      <td>0</td>\n",
       "      <td>1</td>\n",
       "      <td>1</td>\n",
       "      <td>0</td>\n",
       "      <td>1</td>\n",
       "      <td>1</td>\n",
       "      <td>1</td>\n",
       "      <td>1</td>\n",
       "      <td>11</td>\n",
       "      <td>NaN</td>\n",
       "      <td>1</td>\n",
       "      <td>0</td>\n",
       "      <td>0</td>\n",
       "      <td>0</td>\n",
       "      <td>0</td>\n",
       "      <td>1</td>\n",
       "      <td>0</td>\n",
       "      <td>0</td>\n",
       "      <td>0</td>\n",
       "      <td>1</td>\n",
       "      <td>0</td>\n",
       "      <td>0</td>\n",
       "      <td>0</td>\n",
       "      <td>0</td>\n",
       "      <td>0</td>\n",
       "      <td>1</td>\n",
       "      <td>0</td>\n",
       "      <td>0</td>\n",
       "      <td>...</td>\n",
       "      <td>11.0</td>\n",
       "      <td>0</td>\n",
       "      <td>0</td>\n",
       "      <td>0</td>\n",
       "      <td>0</td>\n",
       "      <td>1</td>\n",
       "      <td>0</td>\n",
       "      <td>0</td>\n",
       "      <td>0</td>\n",
       "      <td>0</td>\n",
       "      <td>2</td>\n",
       "      <td>0.500000</td>\n",
       "      <td>1</td>\n",
       "      <td>0</td>\n",
       "      <td>0</td>\n",
       "      <td>0</td>\n",
       "      <td>0</td>\n",
       "      <td>0</td>\n",
       "      <td>0</td>\n",
       "      <td>0</td>\n",
       "      <td>0</td>\n",
       "      <td>1</td>\n",
       "      <td>0</td>\n",
       "      <td>0</td>\n",
       "      <td>0</td>\n",
       "      <td>0</td>\n",
       "      <td>0</td>\n",
       "      <td>1</td>\n",
       "      <td>0</td>\n",
       "      <td>92</td>\n",
       "      <td>121</td>\n",
       "      <td>8464</td>\n",
       "      <td>1</td>\n",
       "      <td>0</td>\n",
       "      <td>0</td>\n",
       "      <td>0.250000</td>\n",
       "      <td>64.0</td>\n",
       "      <td>121.0</td>\n",
       "      <td>8464</td>\n",
       "      <td>4</td>\n",
       "    </tr>\n",
       "    <tr>\n",
       "      <th>3</th>\n",
       "      <td>ID_d671db89c</td>\n",
       "      <td>180000.0</td>\n",
       "      <td>0</td>\n",
       "      <td>5</td>\n",
       "      <td>0</td>\n",
       "      <td>1</td>\n",
       "      <td>1</td>\n",
       "      <td>1</td>\n",
       "      <td>1.0</td>\n",
       "      <td>0</td>\n",
       "      <td>2</td>\n",
       "      <td>2</td>\n",
       "      <td>1</td>\n",
       "      <td>1</td>\n",
       "      <td>2</td>\n",
       "      <td>1</td>\n",
       "      <td>3</td>\n",
       "      <td>4</td>\n",
       "      <td>4</td>\n",
       "      <td>4</td>\n",
       "      <td>9</td>\n",
       "      <td>1.0</td>\n",
       "      <td>4</td>\n",
       "      <td>1</td>\n",
       "      <td>0</td>\n",
       "      <td>0</td>\n",
       "      <td>0</td>\n",
       "      <td>0</td>\n",
       "      <td>0</td>\n",
       "      <td>0</td>\n",
       "      <td>0</td>\n",
       "      <td>1</td>\n",
       "      <td>0</td>\n",
       "      <td>0</td>\n",
       "      <td>0</td>\n",
       "      <td>0</td>\n",
       "      <td>0</td>\n",
       "      <td>1</td>\n",
       "      <td>0</td>\n",
       "      <td>0</td>\n",
       "      <td>...</td>\n",
       "      <td>11.0</td>\n",
       "      <td>0</td>\n",
       "      <td>0</td>\n",
       "      <td>0</td>\n",
       "      <td>1</td>\n",
       "      <td>0</td>\n",
       "      <td>0</td>\n",
       "      <td>0</td>\n",
       "      <td>0</td>\n",
       "      <td>0</td>\n",
       "      <td>3</td>\n",
       "      <td>1.333333</td>\n",
       "      <td>0</td>\n",
       "      <td>0</td>\n",
       "      <td>1</td>\n",
       "      <td>0</td>\n",
       "      <td>0</td>\n",
       "      <td>0</td>\n",
       "      <td>0</td>\n",
       "      <td>1</td>\n",
       "      <td>3</td>\n",
       "      <td>1</td>\n",
       "      <td>0</td>\n",
       "      <td>0</td>\n",
       "      <td>0</td>\n",
       "      <td>0</td>\n",
       "      <td>0</td>\n",
       "      <td>1</td>\n",
       "      <td>0</td>\n",
       "      <td>17</td>\n",
       "      <td>81</td>\n",
       "      <td>289</td>\n",
       "      <td>16</td>\n",
       "      <td>121</td>\n",
       "      <td>4</td>\n",
       "      <td>1.777778</td>\n",
       "      <td>1.0</td>\n",
       "      <td>121.0</td>\n",
       "      <td>289</td>\n",
       "      <td>4</td>\n",
       "    </tr>\n",
       "    <tr>\n",
       "      <th>4</th>\n",
       "      <td>ID_d56d6f5f5</td>\n",
       "      <td>180000.0</td>\n",
       "      <td>0</td>\n",
       "      <td>5</td>\n",
       "      <td>0</td>\n",
       "      <td>1</td>\n",
       "      <td>1</td>\n",
       "      <td>1</td>\n",
       "      <td>1.0</td>\n",
       "      <td>0</td>\n",
       "      <td>2</td>\n",
       "      <td>2</td>\n",
       "      <td>1</td>\n",
       "      <td>1</td>\n",
       "      <td>2</td>\n",
       "      <td>1</td>\n",
       "      <td>3</td>\n",
       "      <td>4</td>\n",
       "      <td>4</td>\n",
       "      <td>4</td>\n",
       "      <td>11</td>\n",
       "      <td>NaN</td>\n",
       "      <td>4</td>\n",
       "      <td>1</td>\n",
       "      <td>0</td>\n",
       "      <td>0</td>\n",
       "      <td>0</td>\n",
       "      <td>0</td>\n",
       "      <td>0</td>\n",
       "      <td>0</td>\n",
       "      <td>0</td>\n",
       "      <td>1</td>\n",
       "      <td>0</td>\n",
       "      <td>0</td>\n",
       "      <td>0</td>\n",
       "      <td>0</td>\n",
       "      <td>0</td>\n",
       "      <td>1</td>\n",
       "      <td>0</td>\n",
       "      <td>0</td>\n",
       "      <td>...</td>\n",
       "      <td>11.0</td>\n",
       "      <td>0</td>\n",
       "      <td>0</td>\n",
       "      <td>0</td>\n",
       "      <td>0</td>\n",
       "      <td>1</td>\n",
       "      <td>0</td>\n",
       "      <td>0</td>\n",
       "      <td>0</td>\n",
       "      <td>0</td>\n",
       "      <td>3</td>\n",
       "      <td>1.333333</td>\n",
       "      <td>0</td>\n",
       "      <td>0</td>\n",
       "      <td>1</td>\n",
       "      <td>0</td>\n",
       "      <td>0</td>\n",
       "      <td>0</td>\n",
       "      <td>0</td>\n",
       "      <td>1</td>\n",
       "      <td>3</td>\n",
       "      <td>1</td>\n",
       "      <td>0</td>\n",
       "      <td>0</td>\n",
       "      <td>0</td>\n",
       "      <td>0</td>\n",
       "      <td>0</td>\n",
       "      <td>1</td>\n",
       "      <td>0</td>\n",
       "      <td>37</td>\n",
       "      <td>121</td>\n",
       "      <td>1369</td>\n",
       "      <td>16</td>\n",
       "      <td>121</td>\n",
       "      <td>4</td>\n",
       "      <td>1.777778</td>\n",
       "      <td>1.0</td>\n",
       "      <td>121.0</td>\n",
       "      <td>1369</td>\n",
       "      <td>4</td>\n",
       "    </tr>\n",
       "  </tbody>\n",
       "</table>\n",
       "</div>"
      ],
      "text/plain": [
       "             Id      v2a1  hacdor   ...    SQBmeaned  agesq  Target\n",
       "0  ID_279628684  190000.0       0   ...        100.0   1849       4\n",
       "1  ID_f29eb3ddd  135000.0       0   ...        144.0   4489       4\n",
       "2  ID_68de51c94       NaN       0   ...        121.0   8464       4\n",
       "3  ID_d671db89c  180000.0       0   ...        121.0    289       4\n",
       "4  ID_d56d6f5f5  180000.0       0   ...        121.0   1369       4\n",
       "\n",
       "[5 rows x 143 columns]"
      ]
     },
     "execution_count": 173,
     "metadata": {},
     "output_type": "execute_result"
    }
   ],
   "source": [
    "# Read in data\n",
    "train = pd.read_csv(\"../input/train.csv\")\n",
    "test = pd.read_csv(\"../input/test.csv\")\n",
    "train.head()"
   ]
  },
  {
   "cell_type": "code",
   "execution_count": 96,
   "metadata": {
    "_uuid": "799ece901e80c68d6ddd9e9e87e4b0513357ca3e"
   },
   "outputs": [
    {
     "name": "stdout",
     "output_type": "stream",
     "text": [
      "<class 'pandas.core.frame.DataFrame'>\n",
      "RangeIndex: 9557 entries, 0 to 9556\n",
      "Columns: 143 entries, Id to Target\n",
      "dtypes: float64(8), int64(130), object(5)\n",
      "memory usage: 10.4+ MB\n"
     ]
    }
   ],
   "source": [
    "train.info()"
   ]
  },
  {
   "cell_type": "markdown",
   "metadata": {
    "_uuid": "7d4ac83eb8a3471c7d462d18aaa550e9b138d4bd"
   },
   "source": [
    "This tells us there are 130 integer columns, 8 float (numeric) columns, and 5 object columns. The integer columns probably represent Boolean variables (that take on either 0 or 1) or ordinal variables with discrete ordered values. The object columns might pose an issue because they cannot be fed directly into a machine learning model."
   ]
  },
  {
   "cell_type": "code",
   "execution_count": 97,
   "metadata": {
    "_uuid": "99a5b0380cec60d78dc472f9ae1b4e718f2407ff"
   },
   "outputs": [
    {
     "data": {
      "text/plain": [
       "1       1\n",
       "2     101\n",
       "4       2\n",
       "6       2\n",
       "7       3\n",
       "9       3\n",
       "10      3\n",
       "11      3\n",
       "13      5\n",
       "14      1\n",
       "22      3\n",
       "97      3\n",
       "dtype: int64"
      ]
     },
     "execution_count": 97,
     "metadata": {},
     "output_type": "execute_result"
    }
   ],
   "source": [
    "# Let's have a look at the distribution of unique values in the integer columns (how many colums have n distinct values?)\n",
    "train.select_dtypes(np.int64).nunique().value_counts().sort_index() "
   ]
  },
  {
   "cell_type": "markdown",
   "metadata": {
    "_uuid": "1280a9d0c89250fe89f30a85f6c6d98c6abd37b9"
   },
   "source": [
    "There are 101 columns with only 2 unique values. It is very likely that those columns are filled with Booleans (0 or 1) and actually corresponds to the decomposition of categorical variables. For example, the columns sanitario1 to sanitario6 corresponds to the type of connection  the toilets (whether it is connected to sewer or cesspool, septic tank, black hole or letrine ...)\n",
    "\n",
    "We can also notice that there is one columns that takes only one value, it will be useless for our analysis."
   ]
  },
  {
   "cell_type": "code",
   "execution_count": 98,
   "metadata": {
    "_uuid": "273e5d77149ed37c5277dc2abe78a9907e3b3361"
   },
   "outputs": [
    {
     "data": {
      "text/plain": [
       "0"
      ]
     },
     "execution_count": 98,
     "metadata": {},
     "output_type": "execute_result"
    }
   ],
   "source": [
    "train.select_dtypes(np.int64).nunique().loc[lambda x : x==1]\n",
    "train['elimbasu5'].isna().sum()"
   ]
  },
  {
   "cell_type": "markdown",
   "metadata": {
    "_uuid": "64ad177803fa799f75c5118fe04aeef307840dc2"
   },
   "source": [
    "So the columns 'elimbasu5' which corresponds to '=1 if rubbish disposal mainly by throwing in river,  creek or sea\" has only one unique value (0) for all individuals. It is therefore useless for our analysis. We will remove it in the Feature Engineering part."
   ]
  },
  {
   "cell_type": "code",
   "execution_count": 99,
   "metadata": {
    "_uuid": "5cad55be62c9c597a29d8b22e2bd636d96b5bb32"
   },
   "outputs": [
    {
     "data": {
      "text/html": [
       "<div>\n",
       "<style scoped>\n",
       "    .dataframe tbody tr th:only-of-type {\n",
       "        vertical-align: middle;\n",
       "    }\n",
       "\n",
       "    .dataframe tbody tr th {\n",
       "        vertical-align: top;\n",
       "    }\n",
       "\n",
       "    .dataframe thead th {\n",
       "        text-align: right;\n",
       "    }\n",
       "</style>\n",
       "<table border=\"1\" class=\"dataframe\">\n",
       "  <thead>\n",
       "    <tr style=\"text-align: right;\">\n",
       "      <th></th>\n",
       "      <th>Id</th>\n",
       "      <th>idhogar</th>\n",
       "      <th>dependency</th>\n",
       "      <th>edjefe</th>\n",
       "      <th>edjefa</th>\n",
       "    </tr>\n",
       "  </thead>\n",
       "  <tbody>\n",
       "    <tr>\n",
       "      <th>0</th>\n",
       "      <td>ID_279628684</td>\n",
       "      <td>21eb7fcc1</td>\n",
       "      <td>no</td>\n",
       "      <td>10</td>\n",
       "      <td>no</td>\n",
       "    </tr>\n",
       "    <tr>\n",
       "      <th>1</th>\n",
       "      <td>ID_f29eb3ddd</td>\n",
       "      <td>0e5d7a658</td>\n",
       "      <td>8</td>\n",
       "      <td>12</td>\n",
       "      <td>no</td>\n",
       "    </tr>\n",
       "    <tr>\n",
       "      <th>2</th>\n",
       "      <td>ID_68de51c94</td>\n",
       "      <td>2c7317ea8</td>\n",
       "      <td>8</td>\n",
       "      <td>no</td>\n",
       "      <td>11</td>\n",
       "    </tr>\n",
       "    <tr>\n",
       "      <th>3</th>\n",
       "      <td>ID_d671db89c</td>\n",
       "      <td>2b58d945f</td>\n",
       "      <td>yes</td>\n",
       "      <td>11</td>\n",
       "      <td>no</td>\n",
       "    </tr>\n",
       "    <tr>\n",
       "      <th>4</th>\n",
       "      <td>ID_d56d6f5f5</td>\n",
       "      <td>2b58d945f</td>\n",
       "      <td>yes</td>\n",
       "      <td>11</td>\n",
       "      <td>no</td>\n",
       "    </tr>\n",
       "  </tbody>\n",
       "</table>\n",
       "</div>"
      ],
      "text/plain": [
       "             Id    idhogar dependency edjefe edjefa\n",
       "0  ID_279628684  21eb7fcc1         no     10     no\n",
       "1  ID_f29eb3ddd  0e5d7a658          8     12     no\n",
       "2  ID_68de51c94  2c7317ea8          8     no     11\n",
       "3  ID_d671db89c  2b58d945f        yes     11     no\n",
       "4  ID_d56d6f5f5  2b58d945f        yes     11     no"
      ]
     },
     "execution_count": 99,
     "metadata": {},
     "output_type": "execute_result"
    }
   ],
   "source": [
    "# Now let's have a look at the 'objects' columns:\n",
    "train.select_dtypes('object').head()"
   ]
  },
  {
   "cell_type": "markdown",
   "metadata": {
    "_uuid": "7f2908ff508691fe16aafa0119cf15d6c1ecdac6"
   },
   "source": [
    "Id and idhogar are the way to identify the individuals and the households, we wil re-encode those columns later on for easier analysis.\n",
    "\n",
    "The three other columns are:\n",
    "\n",
    "- dependency: Dependency rate, calculated = (number of members of the household younger than 19 or older than 64)/(number of member of household between 19 and 64)\n",
    "- edjefe: years of education of male head of household, based on the interaction of escolari (years of education), head of household and gender, yes=1 and no=0\n",
    "- edjefa: years of education of female head of household, based on the interaction of escolari (years of education), head of household and gender, yes=1 and no=0\n",
    "\n",
    "For these three variables, \"yes\" = 1 and \"no\" = 0 so we will replace those values in the dataframe in the Feature Engineering section."
   ]
  },
  {
   "cell_type": "markdown",
   "metadata": {
    "_uuid": "417b28486316779c25ef65ca386442ecb945fa1c"
   },
   "source": [
    "### Data Vizualisation"
   ]
  },
  {
   "cell_type": "code",
   "execution_count": 100,
   "metadata": {
    "_uuid": "1d863f27f31f1a554dde69b5c351b48382476b5c"
   },
   "outputs": [],
   "source": [
    "import matplotlib.pyplot as plt\n",
    "import seaborn as sns"
   ]
  },
  {
   "cell_type": "markdown",
   "metadata": {
    "_uuid": "6159bc9389c8a1dc0a843314aa603b51512a91fb"
   },
   "source": [
    "#### Target variable distribution"
   ]
  },
  {
   "cell_type": "code",
   "execution_count": 101,
   "metadata": {
    "_uuid": "7cf5dd073f442929707a86c4e166d6ae9f1a93b3"
   },
   "outputs": [
    {
     "data": {
      "text/plain": [
       "Text(0.5,1,'Household Poverty Levels')"
      ]
     },
     "execution_count": 101,
     "metadata": {},
     "output_type": "execute_result"
    },
    {
     "data": {
      "image/png": "[encoded data removed]",
      "text/plain": [
       "<Figure size 432x288 with 1 Axes>"
      ]
     },
     "metadata": {},
     "output_type": "display_data"
    }
   ],
   "source": [
    "sns.countplot(x=\"Target\", data=train).set_title('Household Poverty Levels')"
   ]
  },
  {
   "cell_type": "markdown",
   "metadata": {
    "_uuid": "c9102e9173ddab3c8e4996a7ab890c182cf546ab"
   },
   "source": [
    "#### What do households own?"
   ]
  },
  {
   "cell_type": "code",
   "execution_count": 102,
   "metadata": {
    "_uuid": "c96bd7034f887b774afc507a358c2af070ffc9f8",
    "scrolled": true
   },
   "outputs": [
    {
     "data": {
      "text/plain": [
       "<matplotlib.legend.Legend at 0x7f30bde96828>"
      ]
     },
     "execution_count": 102,
     "metadata": {},
     "output_type": "execute_result"
    },
    {
     "data": {
      "image/png": "[encoded data removed]",
      "text/plain": [
       "<Figure size 432x288 with 1 Axes>"
      ]
     },
     "metadata": {},
     "output_type": "display_data"
    }
   ],
   "source": [
    "sns.countplot(train[\"Target\"] , color=\"skyblue\", label=\"Owner\")\n",
    "sns.countplot(train['Target'][train['v18q']==0] , color=\"red\", label=\"Not Owner\").set_title('Tablet')\n",
    "plt.legend()"
   ]
  },
  {
   "cell_type": "code",
   "execution_count": 103,
   "metadata": {
    "_uuid": "1f2fc5356a257fcd7d627246d402237c2b4a9d43"
   },
   "outputs": [
    {
     "data": {
      "text/plain": [
       "<matplotlib.legend.Legend at 0x7f30bde980f0>"
      ]
     },
     "execution_count": 103,
     "metadata": {},
     "output_type": "execute_result"
    },
    {
     "data": {
      "image/png": "[encoded data removed]",
      "text/plain": [
       "<Figure size 432x288 with 1 Axes>"
      ]
     },
     "metadata": {},
     "output_type": "display_data"
    }
   ],
   "source": [
    "sns.countplot(train[\"Target\"] , color=\"skyblue\", label=\"Owner\")\n",
    "sns.countplot(train['Target'][train['refrig']==0] , color=\"red\",label=\"Not Owner\").set_title('Refrigirator')\n",
    "plt.legend()"
   ]
  },
  {
   "cell_type": "code",
   "execution_count": 104,
   "metadata": {
    "_uuid": "3e62197dd66077977e618cc7dc89e87b96ec845b"
   },
   "outputs": [
    {
     "data": {
      "text/plain": [
       "<matplotlib.legend.Legend at 0x7f30be2c3eb8>"
      ]
     },
     "execution_count": 104,
     "metadata": {},
     "output_type": "execute_result"
    },
    {
     "data": {
      "image/png": "[encoded data removed]",
      "text/plain": [
       "<Figure size 432x288 with 1 Axes>"
      ]
     },
     "metadata": {},
     "output_type": "display_data"
    }
   ],
   "source": [
    "sns.countplot(train[\"Target\"] , color=\"skyblue\", label=\"Owner\")\n",
    "sns.countplot(train['Target'][train['computer']==0] , color=\"red\", label=\"Not Owner\").set_title('Computer')\n",
    "plt.legend()"
   ]
  },
  {
   "cell_type": "code",
   "execution_count": 105,
   "metadata": {
    "_uuid": "46efe541b402c7a83c464ef845801d73831141dc"
   },
   "outputs": [
    {
     "data": {
      "text/plain": [
       "<matplotlib.legend.Legend at 0x7f30bdf4b748>"
      ]
     },
     "execution_count": 105,
     "metadata": {},
     "output_type": "execute_result"
    },
    {
     "data": {
      "image/png": "[encoded data removed]",
      "text/plain": [
       "<Figure size 432x288 with 1 Axes>"
      ]
     },
     "metadata": {},
     "output_type": "display_data"
    }
   ],
   "source": [
    "sns.countplot(train[\"Target\"] , color=\"skyblue\", label=\"Owner\")\n",
    "sns.countplot(train['Target'][train['television']==0] , color=\"red\", label=\"Not Owner\").set_title('Television')\n",
    "plt.legend()"
   ]
  },
  {
   "cell_type": "code",
   "execution_count": 106,
   "metadata": {
    "_uuid": "bbbafe960d0d459c27a81d63bb1273f31998fda4"
   },
   "outputs": [
    {
     "data": {
      "text/plain": [
       "<matplotlib.legend.Legend at 0x7f30aa598cf8>"
      ]
     },
     "execution_count": 106,
     "metadata": {},
     "output_type": "execute_result"
    },
    {
     "data": {
      "image/png": "[encoded data removed]",
      "text/plain": [
       "<Figure size 432x288 with 1 Axes>"
      ]
     },
     "metadata": {},
     "output_type": "display_data"
    }
   ],
   "source": [
    "sns.countplot(train[\"Target\"] , color=\"skyblue\", label=\"Owner\")\n",
    "sns.countplot(train['Target'][train['mobilephone']==0] , color=\"red\",label=\"Not Owner\").set_title('Mobilephone')\n",
    "plt.legend()"
   ]
  },
  {
   "cell_type": "markdown",
   "metadata": {
    "_uuid": "53338c78e763e2a279ee98c1180a2f6d7857475b"
   },
   "source": [
    "#### Key Characteristics of the Households"
   ]
  },
  {
   "cell_type": "markdown",
   "metadata": {
    "_uuid": "626205ca6f59761d83750cd3d4c9ce99d8328b1c"
   },
   "source": [
    "For the characteristics of the Households, we are going to have a look at the different set of columns that corresponds to the characteristics of special features of the households. Those features are:\n",
    "- the wall material\n",
    "- the floor material\n",
    "- the roof material\n",
    "- the sanitary conditions\n",
    "- the cooking energy sources\n",
    "- the disposal methods"
   ]
  },
  {
   "cell_type": "code",
   "execution_count": 107,
   "metadata": {
    "_uuid": "2c1805388a383e3301ba8b9af2e354d2cb6bb63d"
   },
   "outputs": [],
   "source": [
    "def get_percentage_table(df):\n",
    "    df = df.groupby('Target').sum().reset_index()\n",
    "    df.iloc[:, 1:] = df.iloc[:, 1:].div(df.sum(axis=1), axis=0)*100\n",
    "    df = df.round(2)\n",
    "    return df.head(4)"
   ]
  },
  {
   "cell_type": "code",
   "execution_count": 108,
   "metadata": {
    "_uuid": "027dee73c67ee10c148e7944a0e85aa797177964"
   },
   "outputs": [
    {
     "data": {
      "text/html": [
       "<div>\n",
       "<style scoped>\n",
       "    .dataframe tbody tr th:only-of-type {\n",
       "        vertical-align: middle;\n",
       "    }\n",
       "\n",
       "    .dataframe tbody tr th {\n",
       "        vertical-align: top;\n",
       "    }\n",
       "\n",
       "    .dataframe thead th {\n",
       "        text-align: right;\n",
       "    }\n",
       "</style>\n",
       "<table border=\"1\" class=\"dataframe\">\n",
       "  <thead>\n",
       "    <tr style=\"text-align: right;\">\n",
       "      <th></th>\n",
       "      <th>Target</th>\n",
       "      <th>Block / Brick</th>\n",
       "      <th>Cement</th>\n",
       "      <th>Wood</th>\n",
       "      <th>Socket</th>\n",
       "      <th>Waste Material</th>\n",
       "      <th>Fibres</th>\n",
       "      <th>Other</th>\n",
       "      <th>Zink</th>\n",
       "    </tr>\n",
       "  </thead>\n",
       "  <tbody>\n",
       "    <tr>\n",
       "      <th>0</th>\n",
       "      <td>1</td>\n",
       "      <td>39.02</td>\n",
       "      <td>24.74</td>\n",
       "      <td>20.37</td>\n",
       "      <td>10.71</td>\n",
       "      <td>1.59</td>\n",
       "      <td>0.26</td>\n",
       "      <td>0.00</td>\n",
       "      <td>3.17</td>\n",
       "    </tr>\n",
       "    <tr>\n",
       "      <th>1</th>\n",
       "      <td>2</td>\n",
       "      <td>38.09</td>\n",
       "      <td>24.52</td>\n",
       "      <td>20.45</td>\n",
       "      <td>11.32</td>\n",
       "      <td>2.63</td>\n",
       "      <td>0.44</td>\n",
       "      <td>0.31</td>\n",
       "      <td>2.13</td>\n",
       "    </tr>\n",
       "    <tr>\n",
       "      <th>2</th>\n",
       "      <td>3</td>\n",
       "      <td>51.16</td>\n",
       "      <td>23.27</td>\n",
       "      <td>14.36</td>\n",
       "      <td>9.74</td>\n",
       "      <td>0.91</td>\n",
       "      <td>0.00</td>\n",
       "      <td>0.00</td>\n",
       "      <td>0.33</td>\n",
       "    </tr>\n",
       "    <tr>\n",
       "      <th>3</th>\n",
       "      <td>4</td>\n",
       "      <td>69.22</td>\n",
       "      <td>15.60</td>\n",
       "      <td>7.50</td>\n",
       "      <td>6.05</td>\n",
       "      <td>0.28</td>\n",
       "      <td>0.08</td>\n",
       "      <td>0.15</td>\n",
       "      <td>1.05</td>\n",
       "    </tr>\n",
       "  </tbody>\n",
       "</table>\n",
       "</div>"
      ],
      "text/plain": [
       "   Target  Block / Brick  Cement  ...   Fibres  Other  Zink\n",
       "0       1          39.02   24.74  ...     0.26   0.00  3.17\n",
       "1       2          38.09   24.52  ...     0.44   0.31  2.13\n",
       "2       3          51.16   23.27  ...     0.00   0.00  0.33\n",
       "3       4          69.22   15.60  ...     0.08   0.15  1.05\n",
       "\n",
       "[4 rows x 9 columns]"
      ]
     },
     "execution_count": 108,
     "metadata": {},
     "output_type": "execute_result"
    }
   ],
   "source": [
    "# Outside Wall Material\n",
    "df1 = train[['Target', 'paredblolad', 'paredpreb', 'paredmad', 'paredzocalo', 'pareddes', 'paredfibras', 'paredother', 'paredzinc']]\n",
    "df1.columns = ['Target',\"Block / Brick\", \"Cement\", \"Wood\",\"Socket\", \"Waste Material\",\"Fibres\", \"Other\", \"Zink\"]\n",
    "get_percentage_table(df1)\n"
   ]
  },
  {
   "cell_type": "code",
   "execution_count": 109,
   "metadata": {
    "_uuid": "853a9fae3670c506d410cc40dc8b5bcf49a46b48"
   },
   "outputs": [
    {
     "data": {
      "text/html": [
       "<div>\n",
       "<style scoped>\n",
       "    .dataframe tbody tr th:only-of-type {\n",
       "        vertical-align: middle;\n",
       "    }\n",
       "\n",
       "    .dataframe tbody tr th {\n",
       "        vertical-align: top;\n",
       "    }\n",
       "\n",
       "    .dataframe thead th {\n",
       "        text-align: right;\n",
       "    }\n",
       "</style>\n",
       "<table border=\"1\" class=\"dataframe\">\n",
       "  <thead>\n",
       "    <tr style=\"text-align: right;\">\n",
       "      <th></th>\n",
       "      <th>Target</th>\n",
       "      <th>Mosaic / Ceramic</th>\n",
       "      <th>Cement</th>\n",
       "      <th>Natural Material</th>\n",
       "      <th>No Floor</th>\n",
       "      <th>Wood</th>\n",
       "      <th>Other</th>\n",
       "    </tr>\n",
       "  </thead>\n",
       "  <tbody>\n",
       "    <tr>\n",
       "      <th>0</th>\n",
       "      <td>1</td>\n",
       "      <td>46.56</td>\n",
       "      <td>37.70</td>\n",
       "      <td>0.13</td>\n",
       "      <td>4.37</td>\n",
       "      <td>11.11</td>\n",
       "      <td>0.00</td>\n",
       "    </tr>\n",
       "    <tr>\n",
       "      <th>1</th>\n",
       "      <td>2</td>\n",
       "      <td>49.34</td>\n",
       "      <td>35.08</td>\n",
       "      <td>0.56</td>\n",
       "      <td>3.88</td>\n",
       "      <td>11.01</td>\n",
       "      <td>0.00</td>\n",
       "    </tr>\n",
       "    <tr>\n",
       "      <th>2</th>\n",
       "      <td>3</td>\n",
       "      <td>60.89</td>\n",
       "      <td>27.56</td>\n",
       "      <td>0.00</td>\n",
       "      <td>1.90</td>\n",
       "      <td>9.41</td>\n",
       "      <td>0.00</td>\n",
       "    </tr>\n",
       "    <tr>\n",
       "      <th>3</th>\n",
       "      <td>4</td>\n",
       "      <td>79.03</td>\n",
       "      <td>15.83</td>\n",
       "      <td>0.00</td>\n",
       "      <td>0.65</td>\n",
       "      <td>4.27</td>\n",
       "      <td>0.15</td>\n",
       "    </tr>\n",
       "  </tbody>\n",
       "</table>\n",
       "</div>"
      ],
      "text/plain": [
       "   Target  Mosaic / Ceramic  Cement  ...    No Floor   Wood  Other\n",
       "0       1             46.56   37.70  ...        4.37  11.11   0.00\n",
       "1       2             49.34   35.08  ...        3.88  11.01   0.00\n",
       "2       3             60.89   27.56  ...        1.90   9.41   0.00\n",
       "3       4             79.03   15.83  ...        0.65   4.27   0.15\n",
       "\n",
       "[4 rows x 7 columns]"
      ]
     },
     "execution_count": 109,
     "metadata": {},
     "output_type": "execute_result"
    }
   ],
   "source": [
    "# Floor Material\n",
    "df2 = train[['Target' ,'pisomoscer', \"pisocemento\" , \"pisonatur\", \"pisonotiene\", \"pisomadera\", \"pisoother\"]]\n",
    "df2.columns = ['Target', \"Mosaic / Ceramic\", \"Cement\",  \"Natural Material\", \"No Floor\",  \"Wood\",\"Other\"]\n",
    "get_percentage_table(df2)"
   ]
  },
  {
   "cell_type": "code",
   "execution_count": 110,
   "metadata": {
    "_uuid": "783a3251d67551a51b082bd82aec739e950d8565"
   },
   "outputs": [
    {
     "data": {
      "text/html": [
       "<div>\n",
       "<style scoped>\n",
       "    .dataframe tbody tr th:only-of-type {\n",
       "        vertical-align: middle;\n",
       "    }\n",
       "\n",
       "    .dataframe tbody tr th {\n",
       "        vertical-align: top;\n",
       "    }\n",
       "\n",
       "    .dataframe thead th {\n",
       "        text-align: right;\n",
       "    }\n",
       "</style>\n",
       "<table border=\"1\" class=\"dataframe\">\n",
       "  <thead>\n",
       "    <tr style=\"text-align: right;\">\n",
       "      <th></th>\n",
       "      <th>Target</th>\n",
       "      <th>Zinc</th>\n",
       "      <th>Fibre / Cement</th>\n",
       "      <th>Natural Fibre</th>\n",
       "      <th>Other</th>\n",
       "    </tr>\n",
       "  </thead>\n",
       "  <tbody>\n",
       "    <tr>\n",
       "      <th>0</th>\n",
       "      <td>1</td>\n",
       "      <td>97.32</td>\n",
       "      <td>1.61</td>\n",
       "      <td>0.94</td>\n",
       "      <td>0.00</td>\n",
       "    </tr>\n",
       "    <tr>\n",
       "      <th>1</th>\n",
       "      <td>2</td>\n",
       "      <td>97.69</td>\n",
       "      <td>1.67</td>\n",
       "      <td>0.51</td>\n",
       "      <td>0.00</td>\n",
       "    </tr>\n",
       "    <tr>\n",
       "      <th>2</th>\n",
       "      <td>3</td>\n",
       "      <td>99.09</td>\n",
       "      <td>0.41</td>\n",
       "      <td>0.25</td>\n",
       "      <td>0.00</td>\n",
       "    </tr>\n",
       "    <tr>\n",
       "      <th>3</th>\n",
       "      <td>4</td>\n",
       "      <td>97.28</td>\n",
       "      <td>2.10</td>\n",
       "      <td>0.20</td>\n",
       "      <td>0.35</td>\n",
       "    </tr>\n",
       "  </tbody>\n",
       "</table>\n",
       "</div>"
      ],
      "text/plain": [
       "   Target   Zinc  Fibre / Cement  Natural Fibre  Other\n",
       "0       1  97.32            1.61           0.94   0.00\n",
       "1       2  97.69            1.67           0.51   0.00\n",
       "2       3  99.09            0.41           0.25   0.00\n",
       "3       4  97.28            2.10           0.20   0.35"
      ]
     },
     "execution_count": 110,
     "metadata": {},
     "output_type": "execute_result"
    }
   ],
   "source": [
    "# Roof Material\n",
    "df3 = train[['Target','techozinc', \"techoentrepiso\", \"techocane\", \"techootro\"]]\n",
    "df3.columns = [\"Target\",\"Zinc\", \"Fibre / Cement\", \"Natural Fibre\", \"Other\"]\n",
    "get_percentage_table(df3)"
   ]
  },
  {
   "cell_type": "code",
   "execution_count": 111,
   "metadata": {
    "_uuid": "36da4f9da327cd3b29f8ede7bd424ca90ed24e5e"
   },
   "outputs": [
    {
     "data": {
      "text/html": [
       "<div>\n",
       "<style scoped>\n",
       "    .dataframe tbody tr th:only-of-type {\n",
       "        vertical-align: middle;\n",
       "    }\n",
       "\n",
       "    .dataframe tbody tr th {\n",
       "        vertical-align: top;\n",
       "    }\n",
       "\n",
       "    .dataframe thead th {\n",
       "        text-align: right;\n",
       "    }\n",
       "</style>\n",
       "<table border=\"1\" class=\"dataframe\">\n",
       "  <thead>\n",
       "    <tr style=\"text-align: right;\">\n",
       "      <th></th>\n",
       "      <th>Target</th>\n",
       "      <th>No Toilet</th>\n",
       "      <th>Sewer / Cesspool</th>\n",
       "      <th>Septic Tank</th>\n",
       "      <th>Black Hole</th>\n",
       "      <th>Other System</th>\n",
       "    </tr>\n",
       "  </thead>\n",
       "  <tbody>\n",
       "    <tr>\n",
       "      <th>0</th>\n",
       "      <td>1</td>\n",
       "      <td>0.93</td>\n",
       "      <td>16.01</td>\n",
       "      <td>78.17</td>\n",
       "      <td>4.63</td>\n",
       "      <td>0.13</td>\n",
       "    </tr>\n",
       "    <tr>\n",
       "      <th>1</th>\n",
       "      <td>2</td>\n",
       "      <td>0.75</td>\n",
       "      <td>17.39</td>\n",
       "      <td>78.17</td>\n",
       "      <td>2.94</td>\n",
       "      <td>0.63</td>\n",
       "    </tr>\n",
       "    <tr>\n",
       "      <th>2</th>\n",
       "      <td>3</td>\n",
       "      <td>0.74</td>\n",
       "      <td>12.95</td>\n",
       "      <td>83.50</td>\n",
       "      <td>2.56</td>\n",
       "      <td>0.00</td>\n",
       "    </tr>\n",
       "    <tr>\n",
       "      <th>3</th>\n",
       "      <td>4</td>\n",
       "      <td>0.15</td>\n",
       "      <td>24.82</td>\n",
       "      <td>74.18</td>\n",
       "      <td>0.57</td>\n",
       "      <td>0.22</td>\n",
       "    </tr>\n",
       "  </tbody>\n",
       "</table>\n",
       "</div>"
      ],
      "text/plain": [
       "   Target  No Toilet      ...       Black Hole  Other System\n",
       "0       1       0.93      ...             4.63          0.13\n",
       "1       2       0.75      ...             2.94          0.63\n",
       "2       3       0.74      ...             2.56          0.00\n",
       "3       4       0.15      ...             0.57          0.22\n",
       "\n",
       "[4 rows x 6 columns]"
      ]
     },
     "execution_count": 111,
     "metadata": {},
     "output_type": "execute_result"
    }
   ],
   "source": [
    "# Sanitary Conditions\n",
    "df4 = train[['Target','sanitario1', \"sanitario2\", \"sanitario3\", \"sanitario5\", \"sanitario6\"]]\n",
    "df4.columns = ['Target', \"No Toilet\", \"Sewer / Cesspool\",  \"Septic Tank\", \"Black Hole\", \"Other System\"]\n",
    "get_percentage_table(df4)"
   ]
  },
  {
   "cell_type": "code",
   "execution_count": 112,
   "metadata": {
    "_uuid": "dd79ad947aebc8d2d1557a677b4b0dd39ce70413"
   },
   "outputs": [
    {
     "data": {
      "text/html": [
       "<div>\n",
       "<style scoped>\n",
       "    .dataframe tbody tr th:only-of-type {\n",
       "        vertical-align: middle;\n",
       "    }\n",
       "\n",
       "    .dataframe tbody tr th {\n",
       "        vertical-align: top;\n",
       "    }\n",
       "\n",
       "    .dataframe thead th {\n",
       "        text-align: right;\n",
       "    }\n",
       "</style>\n",
       "<table border=\"1\" class=\"dataframe\">\n",
       "  <thead>\n",
       "    <tr style=\"text-align: right;\">\n",
       "      <th></th>\n",
       "      <th>Target</th>\n",
       "      <th>No Kitchen</th>\n",
       "      <th>Electricity</th>\n",
       "      <th>Cooking Gas</th>\n",
       "      <th>Wood Charcoal</th>\n",
       "    </tr>\n",
       "  </thead>\n",
       "  <tbody>\n",
       "    <tr>\n",
       "      <th>0</th>\n",
       "      <td>1</td>\n",
       "      <td>0.93</td>\n",
       "      <td>32.54</td>\n",
       "      <td>53.44</td>\n",
       "      <td>12.96</td>\n",
       "    </tr>\n",
       "    <tr>\n",
       "      <th>1</th>\n",
       "      <td>2</td>\n",
       "      <td>0.19</td>\n",
       "      <td>38.96</td>\n",
       "      <td>51.28</td>\n",
       "      <td>9.44</td>\n",
       "    </tr>\n",
       "    <tr>\n",
       "      <th>2</th>\n",
       "      <td>3</td>\n",
       "      <td>0.25</td>\n",
       "      <td>43.40</td>\n",
       "      <td>49.50</td>\n",
       "      <td>6.60</td>\n",
       "    </tr>\n",
       "    <tr>\n",
       "      <th>3</th>\n",
       "      <td>4</td>\n",
       "      <td>0.08</td>\n",
       "      <td>54.73</td>\n",
       "      <td>42.62</td>\n",
       "      <td>2.50</td>\n",
       "    </tr>\n",
       "  </tbody>\n",
       "</table>\n",
       "</div>"
      ],
      "text/plain": [
       "   Target  No Kitchen  Electricity  Cooking Gas  Wood Charcoal\n",
       "0       1        0.93        32.54        53.44          12.96\n",
       "1       2        0.19        38.96        51.28           9.44\n",
       "2       3        0.25        43.40        49.50           6.60\n",
       "3       4        0.08        54.73        42.62           2.50"
      ]
     },
     "execution_count": 112,
     "metadata": {},
     "output_type": "execute_result"
    }
   ],
   "source": [
    "# Cooking Energy Source\n",
    "df5 = train[['Target','energcocinar1', \"energcocinar2\", \"energcocinar3\",\"energcocinar4\"]]\n",
    "df5.columns = ['Target', \"No Kitchen\", \"Electricity\", \"Cooking Gas\",\"Wood Charcoal\"]\n",
    "get_percentage_table(df5)"
   ]
  },
  {
   "cell_type": "code",
   "execution_count": 113,
   "metadata": {
    "_uuid": "2aa234af815c2440c6d0f855b58b6c996bc0d7dc",
    "scrolled": true
   },
   "outputs": [
    {
     "data": {
      "text/html": [
       "<div>\n",
       "<style scoped>\n",
       "    .dataframe tbody tr th:only-of-type {\n",
       "        vertical-align: middle;\n",
       "    }\n",
       "\n",
       "    .dataframe tbody tr th {\n",
       "        vertical-align: top;\n",
       "    }\n",
       "\n",
       "    .dataframe thead th {\n",
       "        text-align: right;\n",
       "    }\n",
       "</style>\n",
       "<table border=\"1\" class=\"dataframe\">\n",
       "  <thead>\n",
       "    <tr style=\"text-align: right;\">\n",
       "      <th></th>\n",
       "      <th>Target</th>\n",
       "      <th>Tanker truck</th>\n",
       "      <th>Buried</th>\n",
       "      <th>Burning</th>\n",
       "      <th>Unoccupied space</th>\n",
       "      <th>Other</th>\n",
       "    </tr>\n",
       "  </thead>\n",
       "  <tbody>\n",
       "    <tr>\n",
       "      <th>0</th>\n",
       "      <td>1</td>\n",
       "      <td>80.03</td>\n",
       "      <td>4.63</td>\n",
       "      <td>15.21</td>\n",
       "      <td>0.00</td>\n",
       "      <td>0.0</td>\n",
       "    </tr>\n",
       "    <tr>\n",
       "      <th>1</th>\n",
       "      <td>2</td>\n",
       "      <td>80.18</td>\n",
       "      <td>5.13</td>\n",
       "      <td>13.88</td>\n",
       "      <td>0.69</td>\n",
       "      <td>0.0</td>\n",
       "    </tr>\n",
       "    <tr>\n",
       "      <th>2</th>\n",
       "      <td>3</td>\n",
       "      <td>83.33</td>\n",
       "      <td>3.55</td>\n",
       "      <td>12.62</td>\n",
       "      <td>0.25</td>\n",
       "      <td>0.0</td>\n",
       "    </tr>\n",
       "    <tr>\n",
       "      <th>3</th>\n",
       "      <td>4</td>\n",
       "      <td>92.32</td>\n",
       "      <td>2.12</td>\n",
       "      <td>5.30</td>\n",
       "      <td>0.00</td>\n",
       "      <td>0.2</td>\n",
       "    </tr>\n",
       "  </tbody>\n",
       "</table>\n",
       "</div>"
      ],
      "text/plain": [
       "   Target  Tanker truck  Buried  Burning  Unoccupied space  Other\n",
       "0       1         80.03    4.63    15.21              0.00    0.0\n",
       "1       2         80.18    5.13    13.88              0.69    0.0\n",
       "2       3         83.33    3.55    12.62              0.25    0.0\n",
       "3       4         92.32    2.12     5.30              0.00    0.2"
      ]
     },
     "execution_count": 113,
     "metadata": {},
     "output_type": "execute_result"
    }
   ],
   "source": [
    "# Disposal Methods\n",
    "df6 = train[['Target', \"elimbasu1\", \"elimbasu2\", \"elimbasu3\", \"elimbasu4\", \"elimbasu6\"]]\n",
    "df6.columns = ['Target', \"Tanker truck\",\"Buried\",\"Burning\",\"Unoccupied space\",\"Other\"]\n",
    "get_percentage_table(df6)"
   ]
  },
  {
   "cell_type": "markdown",
   "metadata": {
    "_uuid": "78916690e2d699d99ddc15aab1910e961119a7cc"
   },
   "source": [
    "Let's take a look at how rooms are distributed by poverty level. Since this is individual level data, not household level, we'll first need to group by the household id 'idhogar', otherwise, we will be double-counting."
   ]
  },
  {
   "cell_type": "code",
   "execution_count": 114,
   "metadata": {
    "_uuid": "bb16ad69b576e4537e8ba95b22397e38a5708a1e"
   },
   "outputs": [
    {
     "data": {
      "text/plain": [
       "Text(0.5,0,'Number of rooms')"
      ]
     },
     "execution_count": 114,
     "metadata": {},
     "output_type": "execute_result"
    },
    {
     "data": {
      "image/png": "[encoded data removed]",
      "text/plain": [
       "<Figure size 432x288 with 1 Axes>"
      ]
     },
     "metadata": {},
     "output_type": "display_data"
    }
   ],
   "source": [
    "sns.countplot(x='rooms', hue='Target', data= train.groupby('idhogar')['Target', 'rooms'].first())\n",
    "plt.title('Distribution of rooms in house by poverty level')\n",
    "plt.xlabel('Number of rooms')"
   ]
  },
  {
   "cell_type": "markdown",
   "metadata": {
    "_uuid": "2d1b5d3db129ee14ec2857a59da8982144d02c34"
   },
   "source": [
    "#### Monthly Rent Payment"
   ]
  },
  {
   "cell_type": "markdown",
   "metadata": {
    "_uuid": "ad0b63e7346efae5a38214302a0bcda30d45c7a9"
   },
   "source": [
    "Let's look at the feature 'v2a1' or monthly rent payment. How is monthly rent distributed among the four poverty levels? Due to the presence of a possible outlier in in monthly rent payment, the box plots get squeezed. I have plotted them without the outliers."
   ]
  },
  {
   "cell_type": "code",
   "execution_count": 115,
   "metadata": {
    "_uuid": "b03eb69a5a2ca56f23c35eff9aaf70929cdeb3e3"
   },
   "outputs": [
    {
     "data": {
      "text/plain": [
       "Text(0,0.5,'Monthyl rent payment')"
      ]
     },
     "execution_count": 115,
     "metadata": {},
     "output_type": "execute_result"
    },
    {
     "data": {
      "image/png": "[encoded data removed]",
      "text/plain": [
       "<Figure size 432x288 with 1 Axes>"
      ]
     },
     "metadata": {},
     "output_type": "display_data"
    }
   ],
   "source": [
    "sns.boxplot(x='Target', y='v2a1', data=train[train.v2a1 < 2000000])\n",
    "plt.title('Distribution of monthly rent payment by poverty level')\n",
    "plt.ylabel('Monthyl rent payment')"
   ]
  },
  {
   "cell_type": "markdown",
   "metadata": {
    "_uuid": "2dfdd52e33cfd9d12583eda5ebc8b5ed8e3a251c"
   },
   "source": [
    "### Head of Household Variable\n",
    "This is actually the train set we are going to work on which is very similar to the entire dataset."
   ]
  },
  {
   "cell_type": "code",
   "execution_count": 116,
   "metadata": {
    "_uuid": "e3a6de08f32f0126293e3e5ed7f0ad7eab9cf12c"
   },
   "outputs": [
    {
     "data": {
      "text/plain": [
       "Text(0.5,1,'Household Poverty Levels')"
      ]
     },
     "execution_count": 116,
     "metadata": {},
     "output_type": "execute_result"
    },
    {
     "data": {
      "image/png": "[encoded data removed]",
      "text/plain": [
       "<Figure size 432x288 with 1 Axes>"
      ]
     },
     "metadata": {},
     "output_type": "display_data"
    }
   ],
   "source": [
    "sns.countplot(x=\"Target\", data=train[train.parentesco1== 1]).set_title('Household Poverty Levels')"
   ]
  },
  {
   "cell_type": "markdown",
   "metadata": {
    "_uuid": "613c75824ee1b838dfafe73116928d70040d51ea"
   },
   "source": [
    "#### Important points to notice from this EDA:\n",
    "- there are a lot of columns and they can be regrouped in different categories\n",
    "- concerning the distributions of the few categories we have ploted or described, we observe relatively intuitive characteristics: poorest households have worse materials for their houses, they own less technological devices, basics needs in terms of infrastructures are rarely met. \n",
    "- the monthly rent payment for the three poorest categories of households are very similar therefore it cannot be a precice indicator of the poverty level although it would have appeared as a good proxi.\n",
    "\n",
    "However, the goal of all this work is to define a classifying algorithm that will set the best thresholds to define if a housholds belong to which of the four poverity level categories, therefore, other more statistically useable characteristics need to be found and a model need to be fitted. This is what we are going to do in the next sections.\n",
    "\n",
    "#### Things to do in the next section (feature engineering):\n",
    "- create categories of features\n",
    "- remove the column 'elimbasu5'\n",
    "- re-encode the columns 'Id' and 'idhogar'\n",
    "- re-encode the columns 'dependency', 'edjefe' and 'edjefa'\n",
    "- fix inconsitencies between variables that are very similar (for example\n",
    "- VERY IMPORTANT: as we are asked to do the analysis on households and not on individuals, the best proxi we are going to use is the head of households (when parentesco1==1). This is what is indicated in the rules of the competition so we will get rid of all rows (individuals) that do not meet this criteria. \n",
    "\n",
    "\n",
    "#### things to take into account for model building:\n",
    "- Oversampling or undersampling of different class to manage imbalances"
   ]
  },
  {
   "cell_type": "markdown",
   "metadata": {
    "_uuid": "ab9ba35bb91bfac9f85889a13d858e9e42c13994"
   },
   "source": [
    "## Feature engineering"
   ]
  },
  {
   "cell_type": "code",
   "execution_count": 117,
   "metadata": {
    "_uuid": "511bb0ee9cf76d34cd73598e14ee1143dc947279"
   },
   "outputs": [],
   "source": [
    "def feature_creation_function(df):\n",
    "    feats_div = [('children_fraction', 'r4t1', 'r4t3'), \n",
    "                 ('working_man_fraction', 'r4h2', 'r4t3'),\n",
    "                 ('all_man_fraction', 'r4h3', 'r4t3'),\n",
    "                 ('human_density', 'tamviv', 'rooms'),\n",
    "                 ('human_bed_density', 'tamviv', 'bedrooms'),\n",
    "                 ('bed_density', 'bedrooms', 'rooms'),\n",
    "                 ('rent_per_person', 'v2a1', 'r4t3'),\n",
    "                 ('rent_per_room', 'v2a1', 'rooms'),\n",
    "                 ('person_per_room', 'r4t3', 'rooms'),\n",
    "                 ('person_per_room', 'r4t3', 'bedrooms'),\n",
    "                 ('rez_esc_escolari', 'rez_esc', 'escolari'),\n",
    "                 ('rez_esc_r4t1', 'rez_esc', 'r4t1'),\n",
    "                 ('mobile_density', 'qmobilephone', 'r4t3'),\n",
    "                 ('tablet_density', 'v18q1', 'r4t3'),\n",
    "                 ('mobile_adult_density', 'qmobilephone', 'r4t2'),\n",
    "                 ('tablet_adult_density', 'v18q1', 'r4t2'),\n",
    "                 ('male_over_female', 'r4h3', 'r4m3'),\n",
    "                 ('man12plus_over_women12plus', 'r4h2', 'r4m2'),\n",
    "                 ('pesioner_over_working', 'hogar_mayor', 'hogar_adul'),\n",
    "                 ('children_over_working', 'hogar_nin', 'hogar_adul'),\n",
    "                 ('education_fraction', 'escolari', 'age')\n",
    "                 #('', '', ''),\n",
    "                ]\n",
    "    \n",
    "    \n",
    "  \n",
    "    feats_sub = [('people_not_living', 'tamhog', 'tamviv'),\n",
    "                 ('non_bedrooms', 'rooms', 'bedrooms'),\n",
    "                 ('people_not_linving_', 'tamhog', 'r4t3')\n",
    "                 ]\n",
    "\n",
    "    for f_new, f1, f2 in feats_div:\n",
    "        df['fe_' + f_new] = (df[f1] / df[f2]).astype(np.float32).replace(np.inf, 0)       \n",
    "    for f_new, f1, f2 in feats_sub:\n",
    "        df['fe_' + f_new] = (df[f1] - df[f2]).astype(np.float32).replace(np.inf, 0)\n",
    "        \n",
    "    df['edjef'] = np.max(df[['edjefa','edjefe']], axis=1).replace({\"yes\": 1, \"no\": 0}).astype(np.float64)\n",
    "    \n",
    "    \n"
   ]
  },
  {
   "cell_type": "code",
   "execution_count": 118,
   "metadata": {
    "_uuid": "10dea9ca8202ddb4abd68e473f08c594be5628c7"
   },
   "outputs": [],
   "source": [
    "\n",
    "from sklearn.preprocessing import LabelEncoder\n",
    "\n",
    "def preprocess(df): #reencode idhogar\n",
    "    # encode the idhogar - houshold level identifier\n",
    "    df['idhogar'] = LabelEncoder().fit_transform(df['idhogar'])\n",
    "    "
   ]
  },
  {
   "cell_type": "code",
   "execution_count": 119,
   "metadata": {
    "_uuid": "cf868add7797ef463e692ef806f722dd276c3271"
   },
   "outputs": [],
   "source": [
    "def clean_column(df):\n",
    "    #mapping yes/no to float values\n",
    "    df['dependency'] = df['dependency'].replace({\"yes\": 1, \"no\": 0}).astype(np.float64)\n",
    "    df['edjefe'] = df['edjefe'].replace({\"yes\": 1, \"no\": 0}).astype(np.float64)\n",
    "    df['edjefa'] = df['edjefa'].replace({\"yes\": 1, \"no\": 0}).astype(np.float64)\n",
    "    #Some rows indicate that household have and don't have toilets - we fix the inconsistency by setting 0 if they have no water\n",
    "    df.loc[(df.v14a ==  1) & (df.sanitario1 ==  1) & (df.abastaguano == 0), \"v14a\"] = 0\n",
    "    df.loc[(df.v14a ==  1) & (df.sanitario1 ==  1) & (df.abastaguano == 0), \"sanitario1\"] = 0\n",
    "    #'v18q1' only missing when 'v18q' is 0 So will fill with 0 \n",
    "    df['v18q1']=df['v18q1'].fillna(0)\n",
    "    # As discussed in https://www.kaggle.com/c/costa-rican-household-poverty-prediction/discussion/61403#, missing values or rent payment can be interpreted as 0 payment\n",
    "    df['v2a1']=df['v2a1'].fillna(0)\n",
    "    #We are missing most of missing years in school, it seems like this column was not filled in much in the survey, we will drop the column\n",
    "    df['rez_esc']=df['rez_esc'].fillna(0)\n",
    "    #Same goes here, we have only 31 missing values for the whole test set and 0 for the train set. We just impute them with 0 rther than using a more complicated methods for now\n",
    "    df['meaneduc']=df['meaneduc'].fillna(0)\n",
    "    df['SQBmeaned']=df['SQBmeaned'].fillna(0)"
   ]
  },
  {
   "cell_type": "code",
   "execution_count": 120,
   "metadata": {
    "_uuid": "0cdf691a45bf7eb3811c18132138e87e685385db"
   },
   "outputs": [],
   "source": [
    "def recoding_ordinal(df):  #create ordinal variable instead of OHE   \n",
    "    df['walls'] = np.argmax(np.array(df[['epared1', 'epared2', 'epared3']]), axis = 1) #Get quality indexes\n",
    "    df['roof'] = np.argmax(np.array(df[['etecho1', 'etecho2', 'etecho3']]), axis = 1)\n",
    "    df['floor'] = np.argmax(np.array(df[['eviv1', 'eviv2', 'eviv3']]), axis = 1)\n",
    "    df['house_qual']= df['walls'] + df['roof'] + df['floor']\n",
    "    \n",
    "    power =[]\n",
    "    for i, row in df.iterrows():\n",
    "        if row['noelec'] == 1:\n",
    "            power.append(0)\n",
    "        elif row['coopele'] == 1:\n",
    "            power.append(1)\n",
    "        elif row['public'] == 1:\n",
    "            power.append(2)\n",
    "        elif row['planpri'] == 1:\n",
    "            power.append(3)\n",
    "        else:\n",
    "            power.append(np.nan)\n",
    "            \n",
    "    df['power'] = power\n",
    "    df['power-missing'] = df['power'].isnull()  \n",
    "    df['danger'] = 1 * (df['sanitario1'] + (df['power'] == 0) + df['pisonotiene'] + df['abastaguano'] + (df['cielorazo'] == 0))     \n"
   ]
  },
  {
   "cell_type": "code",
   "execution_count": 121,
   "metadata": {
    "_uuid": "66347d1c0525d12407c267de56388138a744b87e"
   },
   "outputs": [],
   "source": [
    "def agg_function_household(df): #create a lot of features\n",
    "    \n",
    "    list_aggr_mean = ['rez_esc', 'dis', 'male', 'female', 'estadocivil1', 'estadocivil2', 'estadocivil3', 'estadocivil4', 'estadocivil5', 'estadocivil6', 'estadocivil7', 'parentesco2',\n",
    "             'parentesco3', 'parentesco4', 'parentesco5', 'parentesco6', 'parentesco7', 'parentesco8', 'parentesco9', 'parentesco10', 'parentesco11', 'parentesco12',\n",
    "             'instlevel1', 'instlevel2', 'instlevel3', 'instlevel4', 'instlevel5', 'instlevel6', 'instlevel7', 'instlevel8', 'instlevel9',]\n",
    "\n",
    "    list_other = ['escolari', 'age', 'fe_education_fraction']\n",
    "\n",
    "    df_2 = pd.DataFrame()\n",
    "    \n",
    "    for item in list_aggr_mean:\n",
    "        group_mean = df[item].groupby(df['idhogar']).mean()\n",
    "        new_col = item + '_aggr_MEAN'\n",
    "        df_2[new_col] = group_mean\n",
    "        \n",
    "\n",
    "    for item in list_other:\n",
    "        for function in ['mean','std','min','max','sum']:\n",
    "            group = df[item].groupby(df['idhogar']).agg(function)\n",
    "            new_col = item + '_' + function.upper()\n",
    "            df_2[new_col] = group\n",
    "            \n",
    "            \n",
    "    df_2 = df_2.reset_index()\n",
    "    df = pd.merge(df, df_2, on = 'idhogar')\n",
    "    df.fillna(value=0, inplace=True) \n",
    "    return df\n",
    "   \n"
   ]
  },
  {
   "cell_type": "markdown",
   "metadata": {
    "_uuid": "ebedb85c077a72b0f4c2f6c81ff14939f66f454d"
   },
   "source": [
    "#not working and clearly doesnt make sense to me ...\n",
    "from sklearn.preprocessing import LabelEncoder\n",
    "\n",
    "for elem in [train, test]:\n",
    "    feature_creation_function(elem)\n",
    "    preprocess(elem) #reencode idhogar\n",
    "    clean_column(elem)\n",
    "    recoding_ordinal(elem)\n",
    "    elem = agg_function_household(elem)\n",
    "    clean_column(elem)"
   ]
  },
  {
   "cell_type": "code",
   "execution_count": 122,
   "metadata": {
    "_uuid": "e1308aee5d2e041003e854d896d9f65085f55c63"
   },
   "outputs": [],
   "source": [
    "\n",
    "#Apply to Train\n",
    "preprocess(train)\n",
    "feature_creation_function(train)\n",
    "clean_column(train)\n",
    "recoding_ordinal(train)\n",
    "train = agg_function_household(train)\n",
    "\n",
    "\n",
    "#Apply to test\n",
    "preprocess(test)\n",
    "feature_creation_function(test)\n",
    "clean_column(test)\n",
    "recoding_ordinal(test)\n",
    "test = agg_function_household(test)\n",
    "test = test.query('parentesco1==1')\n",
    "test_id= test['Id']"
   ]
  },
  {
   "cell_type": "markdown",
   "metadata": {
    "_uuid": "91393b28b8ca91617d61681c8709096fdb95b1f1"
   },
   "source": [
    "## Feature selection"
   ]
  },
  {
   "cell_type": "code",
   "execution_count": 123,
   "metadata": {
    "_uuid": "84b50ac895f6cf870948f535db91aabf9f9826ce"
   },
   "outputs": [
    {
     "data": {
      "text/plain": [
       "Target                       1.000000\n",
       "escolari_MEAN                0.449353\n",
       "escolari_MAX                 0.388633\n",
       "fe_children_over_working     0.376578\n",
       "meaneduc                     0.333932\n",
       "house_qual                   0.329522\n",
       "hogar_nin                    0.328199\n",
       "r4t1                         0.316745\n",
       "SQBhogar_nin                 0.311186\n",
       "danger                       0.310006\n",
       "instlevel8_aggr_MEAN         0.306825\n",
       "walls                        0.306293\n",
       "escolari_MIN                 0.305241\n",
       "cielorazo                    0.304421\n",
       "floor                        0.303165\n",
       "escolari                     0.302305\n",
       "fe_mobile_density            0.301448\n",
       "SQBescolari                  0.296577\n",
       "eviv3                        0.294222\n",
       "epared3                      0.292451\n",
       "fe_children_fraction         0.290035\n",
       "fe_human_bed_density         0.289110\n",
       "overcrowding                 0.289110\n",
       "fe_person_per_room           0.282458\n",
       "pisomoscer                   0.280284\n",
       "instlevel1_aggr_MEAN         0.278413\n",
       "SQBmeaned                    0.276102\n",
       "fe_human_density             0.271117\n",
       "fe_education_fraction_MIN    0.271018\n",
       "escolari_SUM                 0.268812\n",
       "                               ...   \n",
       "parentesco11                 0.019076\n",
       "lugar2                       0.018523\n",
       "parentesco8_aggr_MEAN        0.018350\n",
       "parentesco9_aggr_MEAN        0.018061\n",
       "estadocivil7_aggr_MEAN       0.017219\n",
       "parentesco5                  0.016534\n",
       "instlevel4                   0.014759\n",
       "parentesco12                 0.014421\n",
       "sanitario6                   0.012954\n",
       "parentesco9                  0.012318\n",
       "parentesco10                 0.010990\n",
       "fe_pesioner_over_working     0.010320\n",
       "public                       0.009074\n",
       "parentesco7_aggr_MEAN        0.008787\n",
       "parentesco8                  0.008562\n",
       "tipovivi3                    0.008393\n",
       "tipovivi1                    0.007435\n",
       "parentesco7                  0.006216\n",
       "idhogar                      0.006099\n",
       "instlevel6                   0.006014\n",
       "hogar_mayor                  0.005159\n",
       "estadocivil6_aggr_MEAN       0.004705\n",
       "estadocivil7                 0.004585\n",
       "estadocivil6                 0.003372\n",
       "fe_people_not_linving_       0.002899\n",
       "coopele                      0.002270\n",
       "paredother                   0.000629\n",
       "planpri                      0.000545\n",
       "instlevel6_aggr_MEAN         0.000103\n",
       "elimbasu5                         NaN\n",
       "Name: Target, Length: 219, dtype: float64"
      ]
     },
     "execution_count": 123,
     "metadata": {},
     "output_type": "execute_result"
    }
   ],
   "source": [
    "#Feature correlation with Target ranknig - We see that some feature we have re-ingeneered are working great ! \n",
    "train.corr()['Target'].map(lambda x: abs(x)).sort_values(ascending = False)"
   ]
  },
  {
   "cell_type": "code",
   "execution_count": 124,
   "metadata": {
    "_uuid": "634ebcec4ecb674c78d30263b15443bc87735dc7"
   },
   "outputs": [
    {
     "name": "stdout",
     "output_type": "stream",
     "text": [
      "['tamhog', 'hhsize', 'coopele', 'female', 'hogar_total', 'area2', 'SQBage', 'SQBhogar_total', 'agesq', 'fe_human_bed_density', 'fe_person_per_room', 'power', 'male_aggr_MEAN', 'female_aggr_MEAN']\n"
     ]
    }
   ],
   "source": [
    "#To improve our variance estimator, we want to delete highly correlated feature - We choose a 0.95 threshold above wich we delete the feature\n",
    "corr_matrix = train.corr()\n",
    "upper = corr_matrix.where(np.triu(np.ones(corr_matrix.shape), k=1).astype(np.bool))\n",
    "\n",
    "to_drop = [column for column in upper.columns if any(abs(upper[column]) > 0.95)]\n",
    "print(to_drop)"
   ]
  },
  {
   "cell_type": "code",
   "execution_count": 125,
   "metadata": {
    "_uuid": "3495a55acafdff8bcac1a93b93447269dcc4b11b"
   },
   "outputs": [],
   "source": [
    "def drop_var(df):\n",
    "    df.drop(['tamhog', 'hhsize', 'coopele', 'female', 'hogar_total', 'area2', 'SQBage', 'SQBhogar_total', 'agesq', 'fe_human_bed_density', 'fe_person_per_room', 'power', 'male_aggr_MEAN', 'female_aggr_MEAN'],axis=1, inplace=True)\n",
    "#Column wth more than 0.95% corr to any other column \n",
    "    df.drop(['Id'],axis=1, inplace=True) # column with obj type\n",
    "    df.drop(['elimbasu5','noelec', 'public', 'planpri', 'epared1', 'epared2', 'epared3', 'etecho1', 'etecho2', 'etecho3', 'eviv1', 'eviv2', 'eviv3'],axis=1, inplace=True)\n",
    "#column we have re-ingeneered\n"
   ]
  },
  {
   "cell_type": "code",
   "execution_count": 168,
   "metadata": {
    "_uuid": "dfda396c2eea7814f0a5ca29ef7a0000c9569b28"
   },
   "outputs": [],
   "source": [
    "#dropping variables\n",
    "drop_var(train)\n",
    "drop_var(test)"
   ]
  },
  {
   "cell_type": "code",
   "execution_count": 127,
   "metadata": {
    "_uuid": "b122fbb7ca3268ff9980b2cd5f74ea22e5997e5e"
   },
   "outputs": [],
   "source": [
    "X = train.query('parentesco1==1')\n",
    "\n",
    "# pull out the target variable\n",
    "y = X['Target'] - 1 # this is done to bing input labels [1,2,3,4] in agreement with lightgbm [0,1,2,3]\n",
    "X = X.drop(['Target'], axis=1)"
   ]
  },
  {
   "cell_type": "code",
   "execution_count": 150,
   "metadata": {
    "_uuid": "d30b98151bd54fd8a33eca125c89029d1a917cf5",
    "scrolled": false
   },
   "outputs": [],
   "source": [
    "\n"
   ]
  },
  {
   "cell_type": "markdown",
   "metadata": {
    "_uuid": "063909987681731b80b1e65da390b602bd084fbf"
   },
   "source": [
    "We also want to get a sense fo the most important feature in the dataset. so we fit a quick and dirty GBM Classifier to get the feature importance - We will use these results in the fonction drop_var to drop variable woth almost 0 importance"
   ]
  },
  {
   "cell_type": "code",
   "execution_count": 128,
   "metadata": {
    "_uuid": "bacf02c5ebe9f7f955d67d43e17d8c66e639e37c"
   },
   "outputs": [],
   "source": [
    "from sklearn.ensemble import GradientBoostingClassifier"
   ]
  },
  {
   "cell_type": "code",
   "execution_count": 129,
   "metadata": {
    "_uuid": "df2a6242175f13ec59f19377eedd9d7b1d1b757b"
   },
   "outputs": [],
   "source": [
    "gbm = GradientBoostingClassifier(n_estimators=100).fit(X,y)"
   ]
  },
  {
   "cell_type": "code",
   "execution_count": null,
   "metadata": {
    "_uuid": "acd0500372eacb9ae5144c9a08916d7a2f6b01aa"
   },
   "outputs": [],
   "source": [
    "#Problem with this one ! \n",
    "featur_imp = pd.DataFrame({\n",
    "    'importance':gbm.feature_importances_.round(5)\n",
    "}, index=train.columns)\n",
    "\n",
    "featur_imp.sort_values('importance', ascending=False, inplace=True)\n",
    "\n",
    "featur_imp.iloc[1:30, ].plot.bar(legend=None, figsize=(17,5));\n",
    "plt.title('Feature Importance');"
   ]
  },
  {
   "cell_type": "markdown",
   "metadata": {
    "_uuid": "d7a8e55b4c25ff0eb508e562943fbdaa1983c393"
   },
   "source": [
    "## Model building"
   ]
  },
  {
   "cell_type": "code",
   "execution_count": 130,
   "metadata": {
    "_uuid": "a1db7af6b24d28335d428e4e6781aa19829298da"
   },
   "outputs": [],
   "source": [
    "from sklearn.model_selection import train_test_split\n",
    "from sklearn.model_selection import GridSearchCV\n",
    "from sklearn.metrics import classification_report"
   ]
  },
  {
   "cell_type": "code",
   "execution_count": 131,
   "metadata": {
    "_uuid": "c4eea8754f9b23718efa669c8430863276d9db0c"
   },
   "outputs": [],
   "source": [
    "X_train, X_test, y_train, y_test = train_test_split(X, y, test_size=0.2)"
   ]
  },
  {
   "cell_type": "markdown",
   "metadata": {
    "_uuid": "10410f6a6d9296f986da0b7eb85554c3538add9c"
   },
   "source": [
    "### Logistic regression Classifier"
   ]
  },
  {
   "cell_type": "code",
   "execution_count": 132,
   "metadata": {
    "_uuid": "46ef83a6d12360a32621996b090418080eef746e"
   },
   "outputs": [],
   "source": [
    "from sklearn.linear_model import LogisticRegression"
   ]
  },
  {
   "cell_type": "code",
   "execution_count": 133,
   "metadata": {
    "_uuid": "e688f484204be101b16ae1f05c2beb0c46050667"
   },
   "outputs": [
    {
     "name": "stderr",
     "output_type": "stream",
     "text": [
      "/opt/conda/lib/python3.6/site-packages/scipy/optimize/linesearch.py:462: LineSearchWarning: The line search algorithm did not converge\n",
      "  warn('The line search algorithm did not converge', LineSearchWarning)\n",
      "/opt/conda/lib/python3.6/site-packages/scipy/optimize/linesearch.py:313: LineSearchWarning: The line search algorithm did not converge\n",
      "  warn('The line search algorithm did not converge', LineSearchWarning)\n",
      "/opt/conda/lib/python3.6/site-packages/sklearn/utils/optimize.py:203: ConvergenceWarning: newton-cg failed to converge. Increase the number of iterations.\n",
      "  \"number of iterations.\", ConvergenceWarning)\n",
      "/opt/conda/lib/python3.6/site-packages/sklearn/utils/optimize.py:203: ConvergenceWarning: newton-cg failed to converge. Increase the number of iterations.\n",
      "  \"number of iterations.\", ConvergenceWarning)\n",
      "/opt/conda/lib/python3.6/site-packages/sklearn/utils/optimize.py:203: ConvergenceWarning: newton-cg failed to converge. Increase the number of iterations.\n",
      "  \"number of iterations.\", ConvergenceWarning)\n",
      "/opt/conda/lib/python3.6/site-packages/sklearn/utils/optimize.py:203: ConvergenceWarning: newton-cg failed to converge. Increase the number of iterations.\n",
      "  \"number of iterations.\", ConvergenceWarning)\n",
      "/opt/conda/lib/python3.6/site-packages/sklearn/utils/optimize.py:203: ConvergenceWarning: newton-cg failed to converge. Increase the number of iterations.\n",
      "  \"number of iterations.\", ConvergenceWarning)\n",
      "/opt/conda/lib/python3.6/site-packages/sklearn/utils/optimize.py:203: ConvergenceWarning: newton-cg failed to converge. Increase the number of iterations.\n",
      "  \"number of iterations.\", ConvergenceWarning)\n",
      "/opt/conda/lib/python3.6/site-packages/scipy/optimize/linesearch.py:462: LineSearchWarning: The line search algorithm did not converge\n",
      "  warn('The line search algorithm did not converge', LineSearchWarning)\n",
      "/opt/conda/lib/python3.6/site-packages/scipy/optimize/linesearch.py:313: LineSearchWarning: The line search algorithm did not converge\n",
      "  warn('The line search algorithm did not converge', LineSearchWarning)\n",
      "/opt/conda/lib/python3.6/site-packages/sklearn/utils/optimize.py:203: ConvergenceWarning: newton-cg failed to converge. Increase the number of iterations.\n",
      "  \"number of iterations.\", ConvergenceWarning)\n",
      "/opt/conda/lib/python3.6/site-packages/scipy/optimize/linesearch.py:462: LineSearchWarning: The line search algorithm did not converge\n",
      "  warn('The line search algorithm did not converge', LineSearchWarning)\n",
      "/opt/conda/lib/python3.6/site-packages/scipy/optimize/linesearch.py:313: LineSearchWarning: The line search algorithm did not converge\n",
      "  warn('The line search algorithm did not converge', LineSearchWarning)\n",
      "/opt/conda/lib/python3.6/site-packages/sklearn/utils/optimize.py:203: ConvergenceWarning: newton-cg failed to converge. Increase the number of iterations.\n",
      "  \"number of iterations.\", ConvergenceWarning)\n",
      "/opt/conda/lib/python3.6/site-packages/sklearn/utils/optimize.py:203: ConvergenceWarning: newton-cg failed to converge. Increase the number of iterations.\n",
      "  \"number of iterations.\", ConvergenceWarning)\n",
      "/opt/conda/lib/python3.6/site-packages/scipy/optimize/linesearch.py:462: LineSearchWarning: The line search algorithm did not converge\n",
      "  warn('The line search algorithm did not converge', LineSearchWarning)\n",
      "/opt/conda/lib/python3.6/site-packages/scipy/optimize/linesearch.py:313: LineSearchWarning: The line search algorithm did not converge\n",
      "  warn('The line search algorithm did not converge', LineSearchWarning)\n",
      "/opt/conda/lib/python3.6/site-packages/sklearn/utils/optimize.py:203: ConvergenceWarning: newton-cg failed to converge. Increase the number of iterations.\n",
      "  \"number of iterations.\", ConvergenceWarning)\n",
      "/opt/conda/lib/python3.6/site-packages/sklearn/utils/optimize.py:203: ConvergenceWarning: newton-cg failed to converge. Increase the number of iterations.\n",
      "  \"number of iterations.\", ConvergenceWarning)\n",
      "/opt/conda/lib/python3.6/site-packages/sklearn/utils/optimize.py:203: ConvergenceWarning: newton-cg failed to converge. Increase the number of iterations.\n",
      "  \"number of iterations.\", ConvergenceWarning)\n",
      "/opt/conda/lib/python3.6/site-packages/sklearn/utils/optimize.py:203: ConvergenceWarning: newton-cg failed to converge. Increase the number of iterations.\n",
      "  \"number of iterations.\", ConvergenceWarning)\n",
      "/opt/conda/lib/python3.6/site-packages/sklearn/utils/optimize.py:203: ConvergenceWarning: newton-cg failed to converge. Increase the number of iterations.\n",
      "  \"number of iterations.\", ConvergenceWarning)\n",
      "/opt/conda/lib/python3.6/site-packages/sklearn/utils/optimize.py:203: ConvergenceWarning: newton-cg failed to converge. Increase the number of iterations.\n",
      "  \"number of iterations.\", ConvergenceWarning)\n",
      "/opt/conda/lib/python3.6/site-packages/sklearn/utils/optimize.py:203: ConvergenceWarning: newton-cg failed to converge. Increase the number of iterations.\n",
      "  \"number of iterations.\", ConvergenceWarning)\n",
      "/opt/conda/lib/python3.6/site-packages/sklearn/utils/optimize.py:203: ConvergenceWarning: newton-cg failed to converge. Increase the number of iterations.\n",
      "  \"number of iterations.\", ConvergenceWarning)\n",
      "/opt/conda/lib/python3.6/site-packages/sklearn/utils/optimize.py:203: ConvergenceWarning: newton-cg failed to converge. Increase the number of iterations.\n",
      "  \"number of iterations.\", ConvergenceWarning)\n",
      "/opt/conda/lib/python3.6/site-packages/sklearn/utils/optimize.py:203: ConvergenceWarning: newton-cg failed to converge. Increase the number of iterations.\n",
      "  \"number of iterations.\", ConvergenceWarning)\n",
      "/opt/conda/lib/python3.6/site-packages/sklearn/utils/optimize.py:203: ConvergenceWarning: newton-cg failed to converge. Increase the number of iterations.\n",
      "  \"number of iterations.\", ConvergenceWarning)\n",
      "/opt/conda/lib/python3.6/site-packages/sklearn/utils/optimize.py:203: ConvergenceWarning: newton-cg failed to converge. Increase the number of iterations.\n",
      "  \"number of iterations.\", ConvergenceWarning)\n",
      "/opt/conda/lib/python3.6/site-packages/sklearn/utils/optimize.py:203: ConvergenceWarning: newton-cg failed to converge. Increase the number of iterations.\n",
      "  \"number of iterations.\", ConvergenceWarning)\n",
      "/opt/conda/lib/python3.6/site-packages/sklearn/utils/optimize.py:203: ConvergenceWarning: newton-cg failed to converge. Increase the number of iterations.\n",
      "  \"number of iterations.\", ConvergenceWarning)\n",
      "/opt/conda/lib/python3.6/site-packages/sklearn/utils/optimize.py:203: ConvergenceWarning: newton-cg failed to converge. Increase the number of iterations.\n",
      "  \"number of iterations.\", ConvergenceWarning)\n",
      "/opt/conda/lib/python3.6/site-packages/sklearn/utils/optimize.py:203: ConvergenceWarning: newton-cg failed to converge. Increase the number of iterations.\n",
      "  \"number of iterations.\", ConvergenceWarning)\n",
      "/opt/conda/lib/python3.6/site-packages/sklearn/utils/optimize.py:203: ConvergenceWarning: newton-cg failed to converge. Increase the number of iterations.\n",
      "  \"number of iterations.\", ConvergenceWarning)\n",
      "/opt/conda/lib/python3.6/site-packages/sklearn/utils/optimize.py:203: ConvergenceWarning: newton-cg failed to converge. Increase the number of iterations.\n",
      "  \"number of iterations.\", ConvergenceWarning)\n",
      "/opt/conda/lib/python3.6/site-packages/sklearn/utils/optimize.py:203: ConvergenceWarning: newton-cg failed to converge. Increase the number of iterations.\n",
      "  \"number of iterations.\", ConvergenceWarning)\n",
      "/opt/conda/lib/python3.6/site-packages/sklearn/utils/optimize.py:203: ConvergenceWarning: newton-cg failed to converge. Increase the number of iterations.\n",
      "  \"number of iterations.\", ConvergenceWarning)\n",
      "/opt/conda/lib/python3.6/site-packages/sklearn/utils/optimize.py:203: ConvergenceWarning: newton-cg failed to converge. Increase the number of iterations.\n",
      "  \"number of iterations.\", ConvergenceWarning)\n",
      "/opt/conda/lib/python3.6/site-packages/sklearn/utils/optimize.py:203: ConvergenceWarning: newton-cg failed to converge. Increase the number of iterations.\n",
      "  \"number of iterations.\", ConvergenceWarning)\n",
      "/opt/conda/lib/python3.6/site-packages/sklearn/utils/optimize.py:203: ConvergenceWarning: newton-cg failed to converge. Increase the number of iterations.\n",
      "  \"number of iterations.\", ConvergenceWarning)\n",
      "/opt/conda/lib/python3.6/site-packages/sklearn/utils/optimize.py:203: ConvergenceWarning: newton-cg failed to converge. Increase the number of iterations.\n",
      "  \"number of iterations.\", ConvergenceWarning)\n"
     ]
    },
    {
     "name": "stderr",
     "output_type": "stream",
     "text": [
      "/opt/conda/lib/python3.6/site-packages/sklearn/utils/optimize.py:203: ConvergenceWarning: newton-cg failed to converge. Increase the number of iterations.\n",
      "  \"number of iterations.\", ConvergenceWarning)\n",
      "/opt/conda/lib/python3.6/site-packages/sklearn/utils/optimize.py:203: ConvergenceWarning: newton-cg failed to converge. Increase the number of iterations.\n",
      "  \"number of iterations.\", ConvergenceWarning)\n",
      "/opt/conda/lib/python3.6/site-packages/sklearn/utils/optimize.py:203: ConvergenceWarning: newton-cg failed to converge. Increase the number of iterations.\n",
      "  \"number of iterations.\", ConvergenceWarning)\n"
     ]
    },
    {
     "data": {
      "text/plain": [
       "GridSearchCV(cv=5, error_score='raise-deprecating',\n",
       "       estimator=LogisticRegression(C=1.0, class_weight='balanced', dual=False,\n",
       "          fit_intercept=True, intercept_scaling=1, max_iter=100,\n",
       "          multi_class='multinomial', n_jobs=None, penalty='l2',\n",
       "          random_state=0, solver='newton-cg', tol=0.0001, verbose=0,\n",
       "          warm_start=False),\n",
       "       fit_params=None, iid='warn', n_jobs=None,\n",
       "       param_grid={'C': array([1.e-03, 1.e-02, 1.e-01, 1.e+00, 1.e+01, 1.e+02, 1.e+03])},\n",
       "       pre_dispatch='2*n_jobs', refit=True, return_train_score='warn',\n",
       "       scoring=None, verbose=0)"
      ]
     },
     "execution_count": 133,
     "metadata": {},
     "output_type": "execute_result"
    }
   ],
   "source": [
    "lr = LogisticRegression(solver = 'newton-cg', multi_class='multinomial', class_weight='balanced', random_state = 0)\n",
    "p_lr = {\"C\":np.logspace(-3,3,7)}\n",
    "lr_gridsr = GridSearchCV(lr, p_lr, cv=5)\n",
    "lr_gridsr.fit(X_train, y_train)"
   ]
  },
  {
   "cell_type": "code",
   "execution_count": 134,
   "metadata": {
    "_uuid": "17385650e6fa1933655c7bd1a825ca430ab93851"
   },
   "outputs": [],
   "source": [
    "pred_lr = lr_gridsr.predict(X_test)"
   ]
  },
  {
   "cell_type": "code",
   "execution_count": 135,
   "metadata": {
    "_uuid": "07126dbc865121d02d976a15cf29cfdfc19b8204"
   },
   "outputs": [
    {
     "name": "stdout",
     "output_type": "stream",
     "text": [
      "              precision    recall  f1-score   support\n",
      "\n",
      "           0       0.24      0.44      0.31        50\n",
      "           1       0.30      0.26      0.28        93\n",
      "           2       0.21      0.45      0.29        64\n",
      "           3       0.90      0.66      0.76       388\n",
      "\n",
      "   micro avg       0.56      0.56      0.56       595\n",
      "   macro avg       0.41      0.45      0.41       595\n",
      "weighted avg       0.68      0.56      0.60       595\n",
      "\n"
     ]
    }
   ],
   "source": [
    "print(classification_report(y_test, pred_lr))"
   ]
  },
  {
   "cell_type": "markdown",
   "metadata": {
    "_uuid": "f534098191c3d67d82706a87bf1554923c5bb991"
   },
   "source": [
    "#### Results from the logistic regression classifier:\n",
    "\n",
    "We get an average cross validation precision of 0.66 which means that around 66% of the time this model will correctly classify the household in the right poverty level. This is not optimal and other models might achieve a bettre precision. Logistic regression is the most naive model and gives a benchmark of the lowest bound that a model should get. It is a simple and robust model with little to no hyperparameters to tune. \n",
    "\n",
    "In this case, we have tested few different flavors of logistic regression: \n",
    "- Basic Logit\n",
    "- L1 and L2 penalisation\n",
    "- Balanced and unbalanced sample \n",
    "\n",
    "After comparaison of the results we have achived the highest performance with the L2 penalisation for a lambda value of ........................??????????? and using a balanced dataset\n",
    "We aim to use more complex models and use logistic regression as a baseline for comparation. \n",
    "\n",
    "The model weighted accuracy cross validation score is XXX\n",
    "Tested on the kaggle test set we have achived XXX"
   ]
  },
  {
   "cell_type": "markdown",
   "metadata": {
    "_uuid": "dd0393a235fa709434ffae4555d983364900587e"
   },
   "source": [
    "### Random forest classifier"
   ]
  },
  {
   "cell_type": "code",
   "execution_count": 136,
   "metadata": {
    "_uuid": "f7f809c462359abc8535b57e6cbe94dd65250f5d"
   },
   "outputs": [],
   "source": [
    "from sklearn.ensemble import RandomForestClassifier"
   ]
  },
  {
   "cell_type": "code",
   "execution_count": 137,
   "metadata": {
    "_uuid": "7878a196e872bd8041cfad699cfcc4437bd3a068"
   },
   "outputs": [
    {
     "data": {
      "text/plain": [
       "GridSearchCV(cv=5, error_score='raise-deprecating',\n",
       "       estimator=RandomForestClassifier(bootstrap=True, class_weight='balanced',\n",
       "            criterion='gini', max_depth=None, max_features='auto',\n",
       "            max_leaf_nodes=None, min_impurity_decrease=0.0,\n",
       "            min_impurity_split=None, min_samples_leaf=1,\n",
       "            min_samples_split=2, min_weight_fraction_leaf=0.0,\n",
       "            n_estimators='warn', n_jobs=None, oob_score=False,\n",
       "            random_state=None, verbose=0, warm_start=False),\n",
       "       fit_params=None, iid='warn', n_jobs=None,\n",
       "       param_grid={'n_estimators': [30, 31, 32, 33, 34, 35, 36, 37, 38, 39, 40, 41, 42, 43, 44, 45, 46, 47, 48, 49, 50, 51, 52, 53, 54, 55, 56, 57, 58, 59, 60, 61, 62, 63, 64, 65, 66, 67, 68, 69, 70, 71, 72, 73, 74, 75, 76, 77, 78, 79, 80, 81, 82, 83, 84, 85, 86, 87, 88, 89, 90, 91, 92, 93, 94, 95, 96, 97,...160, 161, 162, 163, 164, 165, 166, 167, 168, 169, 170, 171, 172, 173, 174, 175, 176, 177, 178, 179]},\n",
       "       pre_dispatch='2*n_jobs', refit=True, return_train_score='warn',\n",
       "       scoring=None, verbose=0)"
      ]
     },
     "execution_count": 137,
     "metadata": {},
     "output_type": "execute_result"
    }
   ],
   "source": [
    "rf = RandomForestClassifier(class_weight='balanced')\n",
    "p_rf = {'n_estimators': list(range(30,180, 1))}\n",
    "rf_gridsr = GridSearchCV(rf, p_rf, cv=5)\n",
    "rf_gridsr.fit(X_train, y_train)"
   ]
  },
  {
   "cell_type": "code",
   "execution_count": 138,
   "metadata": {
    "_uuid": "f5f33ad0b858e9f0c23f9ae4f586b56cee7bd2b0"
   },
   "outputs": [],
   "source": [
    "pred_rf = rf_gridsr.predict(X_test)"
   ]
  },
  {
   "cell_type": "code",
   "execution_count": 139,
   "metadata": {
    "_uuid": "31f4a9d1beb732d09301c75397edd4eba6ab2f43"
   },
   "outputs": [
    {
     "name": "stdout",
     "output_type": "stream",
     "text": [
      "              precision    recall  f1-score   support\n",
      "\n",
      "           0       0.67      0.16      0.26        50\n",
      "           1       0.29      0.11      0.16        93\n",
      "           2       0.12      0.02      0.03        64\n",
      "           3       0.69      0.96      0.80       388\n",
      "\n",
      "   micro avg       0.66      0.66      0.66       595\n",
      "   macro avg       0.44      0.31      0.31       595\n",
      "weighted avg       0.56      0.66      0.57       595\n",
      "\n"
     ]
    }
   ],
   "source": [
    "print(classification_report(y_test, pred_rf))"
   ]
  },
  {
   "cell_type": "markdown",
   "metadata": {
    "_uuid": "216d3d4b60fa0f6261d035afdcd7007f8a4fcb05"
   },
   "source": [
    "Comparing this model with the logistic regression baseline ..\n",
    "\n",
    "\n",
    "\n",
    "\n",
    "The model weighted accuracy cross validation score is XXX\n",
    "Tested on the kaggle test set we have achived XXX"
   ]
  },
  {
   "cell_type": "markdown",
   "metadata": {
    "_uuid": "825c7a09e20a547a38706c48d086ca3b176e779b"
   },
   "source": [
    "### Light Gradient Boosting Method"
   ]
  },
  {
   "cell_type": "code",
   "execution_count": 141,
   "metadata": {
    "_uuid": "24219a453a4040d8b28873367bc11dbeae46d826"
   },
   "outputs": [],
   "source": [
    "from scipy.stats import randint as sp_randint\n",
    "from scipy.stats import uniform as sp_uniform\n",
    "\n",
    "import lightgbm as lgb\n",
    "from sklearn.model_selection import RandomizedSearchCV, GridSearchCV"
   ]
  },
  {
   "cell_type": "code",
   "execution_count": 142,
   "metadata": {
    "_uuid": "f66cc7671824dbc1953204a95847a988fc2992f0"
   },
   "outputs": [],
   "source": [
    "param_test ={'num_leaves': sp_randint(12, 20), \n",
    "             'min_child_samples': sp_randint(40, 100), \n",
    "             'subsample': sp_uniform(loc=0.75, scale=0.25), \n",
    "             'colsample_bytree': sp_uniform(loc=0.8, scale=0.15)\n",
    "            }\n",
    "\n",
    "#This parameter defines the number of HP points to be tested\n",
    "n_HP_points_to_test = 100\n",
    "\n",
    "LGBM_ = lgb.LGBMClassifier(max_depth=-1, learning_rate=0.05, objective='multiclass',\n",
    "                         random_state=314, silent=True, metric='None', \n",
    "                         n_jobs=4, n_estimators=5000, class_weight='balanced')"
   ]
  },
  {
   "cell_type": "code",
   "execution_count": 143,
   "metadata": {
    "_uuid": "611eb430804ebacfe6a60a6c00c8bddafd51372a"
   },
   "outputs": [],
   "source": [
    "RandSr = RandomizedSearchCV(\n",
    "    estimator= LGBM_, param_distributions=param_test, \n",
    "    n_iter= n_HP_points_to_test,\n",
    "    scoring='f1_macro',\n",
    "    cv=5,\n",
    "    refit=True,\n",
    "    random_state=314,\n",
    "    verbose=True)\n",
    "#Why use F1-Macro ?"
   ]
  },
  {
   "cell_type": "code",
   "execution_count": 144,
   "metadata": {
    "_uuid": "55de02232d176541996b0d2e085c4477b5c3cc9c",
    "scrolled": false
   },
   "outputs": [
    {
     "name": "stdout",
     "output_type": "stream",
     "text": [
      "Fitting 5 folds for each of 100 candidates, totalling 500 fits\n"
     ]
    },
    {
     "name": "stderr",
     "output_type": "stream",
     "text": [
      "[Parallel(n_jobs=1)]: Using backend SequentialBackend with 1 concurrent workers.\n",
      "[Parallel(n_jobs=1)]: Done 500 out of 500 | elapsed: 197.8min finished\n"
     ]
    }
   ],
   "source": [
    "fit_LGBM = RandSr.fit(X_train, y_train)"
   ]
  },
  {
   "cell_type": "code",
   "execution_count": 181,
   "metadata": {
    "_uuid": "e3a6bd3292776cf4aa1bb6fa68446179d5862efe"
   },
   "outputs": [
    {
     "name": "stdout",
     "output_type": "stream",
     "text": [
      "RandomizedSearchCV(cv=5, error_score='raise-deprecating',\n",
      "          estimator=LGBMClassifier(boosting_type='gbdt', class_weight='balanced',\n",
      "        colsample_bytree=1.0, importance_type='split', learning_rate=0.05,\n",
      "        max_depth=-1, metric='None', min_child_samples=20,\n",
      "        min_child_weight=0.001, min_split_gain=0.0, n_estimators=5000,\n",
      "        n_jobs=4, num_leaves=31, objective='multiclass', random_state=314,\n",
      "        reg_alpha=0.0, reg_lambda=0.0, silent=True, subsample=1.0,\n",
      "        subsample_for_bin=200000, subsample_freq=0),\n",
      "          fit_params=None, iid='warn', n_iter=100, n_jobs=None,\n",
      "          param_distributions={'num_leaves': <scipy.stats._distn_infrastructure.rv_frozen object at 0x7f30aa9522b0>, 'min_child_samples': <scipy.stats._distn_infrastructure.rv_frozen object at 0x7f30aa952400>, 'subsample': <scipy.stats._distn_infrastructure.rv_frozen object at 0x7f30aa952588>, 'colsample_bytree': <scipy.stats._distn_infrastructure.rv_frozen object at 0x7f30aa952c18>},\n",
      "          pre_dispatch='2*n_jobs', random_state=314, refit=True,\n",
      "          return_train_score='warn', scoring='f1_macro', verbose=True)\n"
     ]
    }
   ],
   "source": [
    "print(fit_LGBM)"
   ]
  },
  {
   "cell_type": "code",
   "execution_count": 145,
   "metadata": {
    "_uuid": "89704fb47cad8c76246e9ceb77c63955e33e7cfc"
   },
   "outputs": [],
   "source": [
    "pred_lgbm = fit_LGBM.predict(X_test)"
   ]
  },
  {
   "cell_type": "code",
   "execution_count": 176,
   "metadata": {
    "_uuid": "ee833e5819bd794bf5474f0ebdb38ef8a64088a8"
   },
   "outputs": [
    {
     "ename": "ValueError",
     "evalue": "Number of features of the model must match the input. Model n_features_ is 191 and input n_features is 219 ",
     "output_type": "error",
     "traceback": [
      "\u001b[0;31m---------------------------------------------------------------------------\u001b[0m",
      "\u001b[0;31mValueError\u001b[0m                                Traceback (most recent call last)",
      "\u001b[0;32m<ipython-input-176-9d52b5af9c44>\u001b[0m in \u001b[0;36m<module>\u001b[0;34m()\u001b[0m\n\u001b[0;32m----> 1\u001b[0;31m \u001b[0mtest_predictions\u001b[0m \u001b[0;34m=\u001b[0m \u001b[0mfit_LGBM\u001b[0m\u001b[0;34m.\u001b[0m\u001b[0mpredict\u001b[0m\u001b[0;34m(\u001b[0m\u001b[0mtest\u001b[0m\u001b[0;34m)\u001b[0m\u001b[0;34m\u001b[0m\u001b[0m\n\u001b[0m\u001b[1;32m      2\u001b[0m \u001b[0mtest_predictions_rf\u001b[0m \u001b[0;34m=\u001b[0m \u001b[0mrf_gridsr\u001b[0m\u001b[0;34m.\u001b[0m\u001b[0mpredict\u001b[0m\u001b[0;34m(\u001b[0m\u001b[0mtest\u001b[0m\u001b[0;34m)\u001b[0m\u001b[0;34m\u001b[0m\u001b[0m\n\u001b[1;32m      3\u001b[0m \u001b[0mtest_prediction_lr\u001b[0m \u001b[0;34m=\u001b[0m \u001b[0mlr_gridsr\u001b[0m\u001b[0;34m.\u001b[0m\u001b[0mpredict\u001b[0m\u001b[0;34m(\u001b[0m\u001b[0mtest\u001b[0m\u001b[0;34m)\u001b[0m\u001b[0;34m\u001b[0m\u001b[0m\n",
      "\u001b[0;32m/opt/conda/lib/python3.6/site-packages/sklearn/utils/metaestimators.py\u001b[0m in \u001b[0;36m<lambda>\u001b[0;34m(*args, **kwargs)\u001b[0m\n\u001b[1;32m    116\u001b[0m \u001b[0;34m\u001b[0m\u001b[0m\n\u001b[1;32m    117\u001b[0m         \u001b[0;31m# lambda, but not partial, allows help() to work with update_wrapper\u001b[0m\u001b[0;34m\u001b[0m\u001b[0;34m\u001b[0m\u001b[0m\n\u001b[0;32m--> 118\u001b[0;31m         \u001b[0mout\u001b[0m \u001b[0;34m=\u001b[0m \u001b[0;32mlambda\u001b[0m \u001b[0;34m*\u001b[0m\u001b[0margs\u001b[0m\u001b[0;34m,\u001b[0m \u001b[0;34m**\u001b[0m\u001b[0mkwargs\u001b[0m\u001b[0;34m:\u001b[0m \u001b[0mself\u001b[0m\u001b[0;34m.\u001b[0m\u001b[0mfn\u001b[0m\u001b[0;34m(\u001b[0m\u001b[0mobj\u001b[0m\u001b[0;34m,\u001b[0m \u001b[0;34m*\u001b[0m\u001b[0margs\u001b[0m\u001b[0;34m,\u001b[0m \u001b[0;34m**\u001b[0m\u001b[0mkwargs\u001b[0m\u001b[0;34m)\u001b[0m\u001b[0;34m\u001b[0m\u001b[0m\n\u001b[0m\u001b[1;32m    119\u001b[0m         \u001b[0;31m# update the docstring of the returned function\u001b[0m\u001b[0;34m\u001b[0m\u001b[0;34m\u001b[0m\u001b[0m\n\u001b[1;32m    120\u001b[0m         \u001b[0mupdate_wrapper\u001b[0m\u001b[0;34m(\u001b[0m\u001b[0mout\u001b[0m\u001b[0;34m,\u001b[0m \u001b[0mself\u001b[0m\u001b[0;34m.\u001b[0m\u001b[0mfn\u001b[0m\u001b[0;34m)\u001b[0m\u001b[0;34m\u001b[0m\u001b[0m\n",
      "\u001b[0;32m/opt/conda/lib/python3.6/site-packages/sklearn/model_selection/_search.py\u001b[0m in \u001b[0;36mpredict\u001b[0;34m(self, X)\u001b[0m\n\u001b[1;32m    489\u001b[0m         \"\"\"\n\u001b[1;32m    490\u001b[0m         \u001b[0mself\u001b[0m\u001b[0;34m.\u001b[0m\u001b[0m_check_is_fitted\u001b[0m\u001b[0;34m(\u001b[0m\u001b[0;34m'predict'\u001b[0m\u001b[0;34m)\u001b[0m\u001b[0;34m\u001b[0m\u001b[0m\n\u001b[0;32m--> 491\u001b[0;31m         \u001b[0;32mreturn\u001b[0m \u001b[0mself\u001b[0m\u001b[0;34m.\u001b[0m\u001b[0mbest_estimator_\u001b[0m\u001b[0;34m.\u001b[0m\u001b[0mpredict\u001b[0m\u001b[0;34m(\u001b[0m\u001b[0mX\u001b[0m\u001b[0;34m)\u001b[0m\u001b[0;34m\u001b[0m\u001b[0m\n\u001b[0m\u001b[1;32m    492\u001b[0m \u001b[0;34m\u001b[0m\u001b[0m\n\u001b[1;32m    493\u001b[0m     \u001b[0;34m@\u001b[0m\u001b[0mif_delegate_has_method\u001b[0m\u001b[0;34m(\u001b[0m\u001b[0mdelegate\u001b[0m\u001b[0;34m=\u001b[0m\u001b[0;34m(\u001b[0m\u001b[0;34m'best_estimator_'\u001b[0m\u001b[0;34m,\u001b[0m \u001b[0;34m'estimator'\u001b[0m\u001b[0;34m)\u001b[0m\u001b[0;34m)\u001b[0m\u001b[0;34m\u001b[0m\u001b[0m\n",
      "\u001b[0;32m/opt/conda/lib/python3.6/site-packages/lightgbm/sklearn.py\u001b[0m in \u001b[0;36mpredict\u001b[0;34m(self, X, raw_score, num_iteration, pred_leaf, pred_contrib, **kwargs)\u001b[0m\n\u001b[1;32m    751\u001b[0m         \u001b[0;34m\"\"\"Docstring is inherited from the LGBMModel.\"\"\"\u001b[0m\u001b[0;34m\u001b[0m\u001b[0m\n\u001b[1;32m    752\u001b[0m         result = self.predict_proba(X, raw_score, num_iteration,\n\u001b[0;32m--> 753\u001b[0;31m                                     pred_leaf, pred_contrib, **kwargs)\n\u001b[0m\u001b[1;32m    754\u001b[0m         \u001b[0;32mif\u001b[0m \u001b[0mraw_score\u001b[0m \u001b[0;32mor\u001b[0m \u001b[0mpred_leaf\u001b[0m \u001b[0;32mor\u001b[0m \u001b[0mpred_contrib\u001b[0m\u001b[0;34m:\u001b[0m\u001b[0;34m\u001b[0m\u001b[0m\n\u001b[1;32m    755\u001b[0m             \u001b[0;32mreturn\u001b[0m \u001b[0mresult\u001b[0m\u001b[0;34m\u001b[0m\u001b[0m\n",
      "\u001b[0;32m/opt/conda/lib/python3.6/site-packages/lightgbm/sklearn.py\u001b[0m in \u001b[0;36mpredict_proba\u001b[0;34m(self, X, raw_score, num_iteration, pred_leaf, pred_contrib, **kwargs)\u001b[0m\n\u001b[1;32m    798\u001b[0m         \"\"\"\n\u001b[1;32m    799\u001b[0m         result = super(LGBMClassifier, self).predict(X, raw_score, num_iteration,\n\u001b[0;32m--> 800\u001b[0;31m                                                      pred_leaf, pred_contrib, **kwargs)\n\u001b[0m\u001b[1;32m    801\u001b[0m         \u001b[0;32mif\u001b[0m \u001b[0mself\u001b[0m\u001b[0;34m.\u001b[0m\u001b[0m_n_classes\u001b[0m \u001b[0;34m>\u001b[0m \u001b[0;36m2\u001b[0m \u001b[0;32mor\u001b[0m \u001b[0mraw_score\u001b[0m \u001b[0;32mor\u001b[0m \u001b[0mpred_leaf\u001b[0m \u001b[0;32mor\u001b[0m \u001b[0mpred_contrib\u001b[0m\u001b[0;34m:\u001b[0m\u001b[0;34m\u001b[0m\u001b[0m\n\u001b[1;32m    802\u001b[0m             \u001b[0;32mreturn\u001b[0m \u001b[0mresult\u001b[0m\u001b[0;34m\u001b[0m\u001b[0m\n",
      "\u001b[0;32m/opt/conda/lib/python3.6/site-packages/lightgbm/sklearn.py\u001b[0m in \u001b[0;36mpredict\u001b[0;34m(self, X, raw_score, num_iteration, pred_leaf, pred_contrib, **kwargs)\u001b[0m\n\u001b[1;32m    603\u001b[0m                              \u001b[0;34m\"match the input. Model n_features_ is %s and \"\u001b[0m\u001b[0;34m\u001b[0m\u001b[0m\n\u001b[1;32m    604\u001b[0m                              \u001b[0;34m\"input n_features is %s \"\u001b[0m\u001b[0;34m\u001b[0m\u001b[0m\n\u001b[0;32m--> 605\u001b[0;31m                              % (self._n_features, n_features))\n\u001b[0m\u001b[1;32m    606\u001b[0m         return self.booster_.predict(X, raw_score=raw_score, num_iteration=num_iteration,\n\u001b[1;32m    607\u001b[0m                                      pred_leaf=pred_leaf, pred_contrib=pred_contrib, **kwargs)\n",
      "\u001b[0;31mValueError\u001b[0m: Number of features of the model must match the input. Model n_features_ is 191 and input n_features is 219 "
     ]
    }
   ],
   "source": [
    "test_predictions = fit_LGBM.predict(test)\n",
    "test_predictions_rf = rf_gridsr.predict(test)\n",
    "test_prediction_lr = lr_gridsr.predict(test)"
   ]
  },
  {
   "cell_type": "code",
   "execution_count": 177,
   "metadata": {
    "_uuid": "311cc2875244ee71c0bc9904a9a1c9c2ce4189b6"
   },
   "outputs": [],
   "source": [
    "submit_lgbm = pd.DataFrame({'Id': test_id, 'Target': test_predictions + 1})\n",
    "submit_rf = pd.DataFrame({'Id': test_id, 'Target': test_predictions_rf + 1})\n",
    "submit_lr = pd.DataFrame({'Id': test_id, 'Target': test_prediction_lr + 1})"
   ]
  },
  {
   "cell_type": "code",
   "execution_count": 180,
   "metadata": {
    "_uuid": "c16c650875ec6c851a5a87ea67ff427f801c3cc3"
   },
   "outputs": [
    {
     "data": {
      "text/html": [
       "<a download=\"data.csv\" href=\"data:text/csv;base64,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\" target=\"_blank\">Download CSV file</a>"
      ],
      "text/plain": [
       "<IPython.core.display.HTML object>"
      ]
     },
     "execution_count": 180,
     "metadata": {},
     "output_type": "execute_result"
    }
   ],
   "source": [
    "#Graveyard\n",
    "# import the modules we'll need\n",
    "from IPython.display import HTML\n",
    "import pandas as pd\n",
    "import numpy as np\n",
    "import base64\n",
    "\n",
    "# function that takes in a dataframe and creates a text link to  \n",
    "# download it (will only work for files < 2MB or so)\n",
    "def create_download_link(df, title = \"Download CSV file\", filename = \"data.csv\"):  \n",
    "    csv = df.to_csv()\n",
    "    b64 = base64.b64encode(csv.encode())\n",
    "    payload = b64.decode()\n",
    "    html = '<a download=\"{filename}\" href=\"data:text/csv;base64,{payload}\" target=\"_blank\">{title}</a>'\n",
    "    html = html.format(payload=payload,title=title,filename=filename)\n",
    "    return HTML(html)\n",
    "\n",
    "# create a link to download the dataframe\n",
    "create_download_link(submit_lgbm)\n",
    "create_download_link(submit_rf)\n",
    "create_download_link(submit_lr)"
   ]
  },
  {
   "cell_type": "code",
   "execution_count": 162,
   "metadata": {
    "_uuid": "f01fbcc831d83705f02dbc25e60d5bf474864cff"
   },
   "outputs": [],
   "source": [
    "submit_lgbm.to_csv('submission_lgbm.csv', index=False)\n",
    "submit_rf.to_csv('submission_rf.csv', index=False)\n",
    "submit_lr.to_csv('submission_lr.csv', index=False)\n",
    "\n"
   ]
  },
  {
   "cell_type": "code",
   "execution_count": 146,
   "metadata": {
    "_uuid": "133bef4e7a0e3bef0b15b43e3bfb72e0405e4e96"
   },
   "outputs": [
    {
     "name": "stdout",
     "output_type": "stream",
     "text": [
      "              precision    recall  f1-score   support\n",
      "\n",
      "           0       0.32      0.12      0.17        50\n",
      "           1       0.32      0.30      0.31        93\n",
      "           2       0.22      0.17      0.19        64\n",
      "           3       0.75      0.85      0.80       388\n",
      "\n",
      "   micro avg       0.63      0.63      0.63       595\n",
      "   macro avg       0.40      0.36      0.37       595\n",
      "weighted avg       0.59      0.63      0.60       595\n",
      "\n"
     ]
    }
   ],
   "source": [
    "print(classification_report(y_test, pred_lgbm))"
   ]
  },
  {
   "cell_type": "markdown",
   "metadata": {
    "_uuid": "10f92f14ce7484ab67dc7eea37ba85ac28faab77"
   },
   "source": [
    "The LGBM model usually showcase great performance but need much more careful tuning than random forest models.\n",
    "\n",
    "We have used a randomized search, which has run for XX hours. The randomized search approach allows for more efficient tuning, requiring less power for computation. Considering the amoung of hyperparameters to tune we had no other choice. We however decided to use a high number of random Hyperparameters points at every fit, which we believe has helped achive a decent accuracy with respect to the model potential.\n",
    "\n",
    "The model weighted accuracy cross validation score is XXX\n",
    "Tested on the kaggle test set we have achived XXX"
   ]
  },
  {
   "cell_type": "markdown",
   "metadata": {
    "_uuid": "5d9cf2953bf6efb9be3bda0c8185ec4a28fd7f8c"
   },
   "source": [
    "## Conclusions"
   ]
  },
  {
   "cell_type": "markdown",
   "metadata": {
    "_uuid": "ef8d457343180ee7ecc09441c35bfff2b5de26af"
   },
   "source": [
    "### On the Data"
   ]
  },
  {
   "cell_type": "markdown",
   "metadata": {
    "_uuid": "57a369414f79ffca5878c194497b407a11fce0f2"
   },
   "source": [
    "The dataset we were provided with was quite complete (very few missing values) and large but the task that was asked contrained us to not make use of all the observations when fitting our models. Dismissing all the individuals that were not heads of houshold considerably reduced the amount of data points on which we were able to fit the models. \n",
    "We were however able to use household-level aggregates as features in the model (for instance min, max & avg schooling years of household members). \n",
    "\n",
    "As to be expected with survey data, we faced quite a few inconsistencies. Some household were recorded as having and not havong toilets, some household did not have head of households. As describe in this notebook we found ways to make assumptions and go over these problems.\n",
    "\n",
    "One important question to raise as well is how were the different levels of poverty established in the first place? One easy answer when we talk about poverty levels is to think in terms of revenue/wage/salary/$ per day. \n",
    "\n",
    "Lastly, the optimisation metric of our algorithm is currentyl F1-score (hence, enqually weighting accuracy and recall) but after review of financial implication of the new method it may be necessary to take different measures as opportnity cost could be different."
   ]
  },
  {
   "cell_type": "markdown",
   "metadata": {
    "_uuid": "07a3ffa982a7b0884991a023cd55b228a5339ec4"
   },
   "source": [
    "### On the Model"
   ]
  },
  {
   "cell_type": "markdown",
   "metadata": {
    "_uuid": "fb6caf1b8de6cae0b72205b81053190f9a2b8668"
   },
   "source": []
  },
  {
   "cell_type": "markdown",
   "metadata": {
    "_uuid": "7a7730e11452db02943228264285102b3e4c4041"
   },
   "source": [
    "### Competition"
   ]
  },
  {
   "cell_type": "markdown",
   "metadata": {
    "_uuid": "b60274adeb69b9e59bebc40cded9422980a5b5c5"
   },
   "source": [
    "using the techniques we highlighted above, we managed to rank as high as XX and score in the top X% of the competition on Kaggle."
   ]
  },
  {
   "cell_type": "markdown",
   "metadata": {
    "_uuid": "c6d35d70383653771c8335fec8ab92c0512ed08b"
   },
   "source": [
    "## Kaggle Submission"
   ]
  },
  {
   "cell_type": "code",
   "execution_count": null,
   "metadata": {
    "_uuid": "b7f4ce3828455ef7941cf0a87d8074466443a055"
   },
   "outputs": [],
   "source": []
  }
 ],
 "metadata": {
  "celltoolbar": "Aucun(e)",
  "kernelspec": {
   "display_name": "Python 3",
   "language": "python",
   "name": "python3"
  },
  "language_info": {
   "codemirror_mode": {
    "name": "ipython",
    "version": 3
   },
   "file_extension": ".py",
   "mimetype": "text/x-python",
   "name": "python",
   "nbconvert_exporter": "python",
   "pygments_lexer": "ipython3",
   "version": "3.7.1"
  }
 },
 "nbformat": 4,
 "nbformat_minor": 1
}
